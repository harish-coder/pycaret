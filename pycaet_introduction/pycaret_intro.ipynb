{
 "cells": [
  {
   "cell_type": "markdown",
   "metadata": {},
   "source": [
    "# Classification\n",
    "- https://pycaret.org/create-model/\n",
    "- https://pycaret.org/get-data/"
   ]
  },
  {
   "cell_type": "markdown",
   "metadata": {},
   "source": [
    "## Loading Dataset from pycaret"
   ]
  },
  {
   "cell_type": "code",
   "execution_count": 2,
   "metadata": {},
   "outputs": [],
   "source": [
    "from pycaret.datasets import get_data"
   ]
  },
  {
   "cell_type": "code",
   "execution_count": 6,
   "metadata": {},
   "outputs": [
    {
     "data": {
      "text/html": [
       "<div>\n",
       "<style scoped>\n",
       "    .dataframe tbody tr th:only-of-type {\n",
       "        vertical-align: middle;\n",
       "    }\n",
       "\n",
       "    .dataframe tbody tr th {\n",
       "        vertical-align: top;\n",
       "    }\n",
       "\n",
       "    .dataframe thead th {\n",
       "        text-align: right;\n",
       "    }\n",
       "</style>\n",
       "<table border=\"1\" class=\"dataframe\">\n",
       "  <thead>\n",
       "    <tr style=\"text-align: right;\">\n",
       "      <th></th>\n",
       "      <th>Number of times pregnant</th>\n",
       "      <th>Plasma glucose concentration a 2 hours in an oral glucose tolerance test</th>\n",
       "      <th>Diastolic blood pressure (mm Hg)</th>\n",
       "      <th>Triceps skin fold thickness (mm)</th>\n",
       "      <th>2-Hour serum insulin (mu U/ml)</th>\n",
       "      <th>Body mass index (weight in kg/(height in m)^2)</th>\n",
       "      <th>Diabetes pedigree function</th>\n",
       "      <th>Age (years)</th>\n",
       "      <th>Class variable</th>\n",
       "    </tr>\n",
       "  </thead>\n",
       "  <tbody>\n",
       "    <tr>\n",
       "      <th>0</th>\n",
       "      <td>6</td>\n",
       "      <td>148</td>\n",
       "      <td>72</td>\n",
       "      <td>35</td>\n",
       "      <td>0</td>\n",
       "      <td>33.6</td>\n",
       "      <td>0.627</td>\n",
       "      <td>50</td>\n",
       "      <td>1</td>\n",
       "    </tr>\n",
       "    <tr>\n",
       "      <th>1</th>\n",
       "      <td>1</td>\n",
       "      <td>85</td>\n",
       "      <td>66</td>\n",
       "      <td>29</td>\n",
       "      <td>0</td>\n",
       "      <td>26.6</td>\n",
       "      <td>0.351</td>\n",
       "      <td>31</td>\n",
       "      <td>0</td>\n",
       "    </tr>\n",
       "    <tr>\n",
       "      <th>2</th>\n",
       "      <td>8</td>\n",
       "      <td>183</td>\n",
       "      <td>64</td>\n",
       "      <td>0</td>\n",
       "      <td>0</td>\n",
       "      <td>23.3</td>\n",
       "      <td>0.672</td>\n",
       "      <td>32</td>\n",
       "      <td>1</td>\n",
       "    </tr>\n",
       "    <tr>\n",
       "      <th>3</th>\n",
       "      <td>1</td>\n",
       "      <td>89</td>\n",
       "      <td>66</td>\n",
       "      <td>23</td>\n",
       "      <td>94</td>\n",
       "      <td>28.1</td>\n",
       "      <td>0.167</td>\n",
       "      <td>21</td>\n",
       "      <td>0</td>\n",
       "    </tr>\n",
       "    <tr>\n",
       "      <th>4</th>\n",
       "      <td>0</td>\n",
       "      <td>137</td>\n",
       "      <td>40</td>\n",
       "      <td>35</td>\n",
       "      <td>168</td>\n",
       "      <td>43.1</td>\n",
       "      <td>2.288</td>\n",
       "      <td>33</td>\n",
       "      <td>1</td>\n",
       "    </tr>\n",
       "  </tbody>\n",
       "</table>\n",
       "</div>"
      ],
      "text/plain": [
       "   Number of times pregnant  \\\n",
       "0                         6   \n",
       "1                         1   \n",
       "2                         8   \n",
       "3                         1   \n",
       "4                         0   \n",
       "\n",
       "   Plasma glucose concentration a 2 hours in an oral glucose tolerance test  \\\n",
       "0                                                148                          \n",
       "1                                                 85                          \n",
       "2                                                183                          \n",
       "3                                                 89                          \n",
       "4                                                137                          \n",
       "\n",
       "   Diastolic blood pressure (mm Hg)  Triceps skin fold thickness (mm)  \\\n",
       "0                                72                                35   \n",
       "1                                66                                29   \n",
       "2                                64                                 0   \n",
       "3                                66                                23   \n",
       "4                                40                                35   \n",
       "\n",
       "   2-Hour serum insulin (mu U/ml)  \\\n",
       "0                               0   \n",
       "1                               0   \n",
       "2                               0   \n",
       "3                              94   \n",
       "4                             168   \n",
       "\n",
       "   Body mass index (weight in kg/(height in m)^2)  Diabetes pedigree function  \\\n",
       "0                                            33.6                       0.627   \n",
       "1                                            26.6                       0.351   \n",
       "2                                            23.3                       0.672   \n",
       "3                                            28.1                       0.167   \n",
       "4                                            43.1                       2.288   \n",
       "\n",
       "   Age (years)  Class variable  \n",
       "0           50               1  \n",
       "1           31               0  \n",
       "2           32               1  \n",
       "3           21               0  \n",
       "4           33               1  "
      ]
     },
     "metadata": {},
     "output_type": "display_data"
    }
   ],
   "source": [
    "diabetes_df=get_data('diabetes')"
   ]
  },
  {
   "cell_type": "code",
   "execution_count": 5,
   "metadata": {},
   "outputs": [],
   "source": [
    "from pycaret.classification import *"
   ]
  },
  {
   "cell_type": "code",
   "execution_count": 7,
   "metadata": {},
   "outputs": [
    {
     "name": "stdout",
     "output_type": "stream",
     "text": [
      " \n",
      "Setup Succesfully Completed!\n"
     ]
    },
    {
     "data": {
      "text/html": [
       "<style  type=\"text/css\" >\n",
       "</style><table id=\"T_4bbeb682_cf52_11ea_a9c2_1062e5f024e8\" ><thead>    <tr>        <th class=\"blank level0\" ></th>        <th class=\"col_heading level0 col0\" >Description</th>        <th class=\"col_heading level0 col1\" >Value</th>    </tr></thead><tbody>\n",
       "                <tr>\n",
       "                        <th id=\"T_4bbeb682_cf52_11ea_a9c2_1062e5f024e8level0_row0\" class=\"row_heading level0 row0\" >0</th>\n",
       "                        <td id=\"T_4bbeb682_cf52_11ea_a9c2_1062e5f024e8row0_col0\" class=\"data row0 col0\" >session_id</td>\n",
       "                        <td id=\"T_4bbeb682_cf52_11ea_a9c2_1062e5f024e8row0_col1\" class=\"data row0 col1\" >8393</td>\n",
       "            </tr>\n",
       "            <tr>\n",
       "                        <th id=\"T_4bbeb682_cf52_11ea_a9c2_1062e5f024e8level0_row1\" class=\"row_heading level0 row1\" >1</th>\n",
       "                        <td id=\"T_4bbeb682_cf52_11ea_a9c2_1062e5f024e8row1_col0\" class=\"data row1 col0\" >Target Type</td>\n",
       "                        <td id=\"T_4bbeb682_cf52_11ea_a9c2_1062e5f024e8row1_col1\" class=\"data row1 col1\" >Binary</td>\n",
       "            </tr>\n",
       "            <tr>\n",
       "                        <th id=\"T_4bbeb682_cf52_11ea_a9c2_1062e5f024e8level0_row2\" class=\"row_heading level0 row2\" >2</th>\n",
       "                        <td id=\"T_4bbeb682_cf52_11ea_a9c2_1062e5f024e8row2_col0\" class=\"data row2 col0\" >Label Encoded</td>\n",
       "                        <td id=\"T_4bbeb682_cf52_11ea_a9c2_1062e5f024e8row2_col1\" class=\"data row2 col1\" >None</td>\n",
       "            </tr>\n",
       "            <tr>\n",
       "                        <th id=\"T_4bbeb682_cf52_11ea_a9c2_1062e5f024e8level0_row3\" class=\"row_heading level0 row3\" >3</th>\n",
       "                        <td id=\"T_4bbeb682_cf52_11ea_a9c2_1062e5f024e8row3_col0\" class=\"data row3 col0\" >Original Data</td>\n",
       "                        <td id=\"T_4bbeb682_cf52_11ea_a9c2_1062e5f024e8row3_col1\" class=\"data row3 col1\" >(768, 9)</td>\n",
       "            </tr>\n",
       "            <tr>\n",
       "                        <th id=\"T_4bbeb682_cf52_11ea_a9c2_1062e5f024e8level0_row4\" class=\"row_heading level0 row4\" >4</th>\n",
       "                        <td id=\"T_4bbeb682_cf52_11ea_a9c2_1062e5f024e8row4_col0\" class=\"data row4 col0\" >Missing Values </td>\n",
       "                        <td id=\"T_4bbeb682_cf52_11ea_a9c2_1062e5f024e8row4_col1\" class=\"data row4 col1\" >False</td>\n",
       "            </tr>\n",
       "            <tr>\n",
       "                        <th id=\"T_4bbeb682_cf52_11ea_a9c2_1062e5f024e8level0_row5\" class=\"row_heading level0 row5\" >5</th>\n",
       "                        <td id=\"T_4bbeb682_cf52_11ea_a9c2_1062e5f024e8row5_col0\" class=\"data row5 col0\" >Numeric Features </td>\n",
       "                        <td id=\"T_4bbeb682_cf52_11ea_a9c2_1062e5f024e8row5_col1\" class=\"data row5 col1\" >7</td>\n",
       "            </tr>\n",
       "            <tr>\n",
       "                        <th id=\"T_4bbeb682_cf52_11ea_a9c2_1062e5f024e8level0_row6\" class=\"row_heading level0 row6\" >6</th>\n",
       "                        <td id=\"T_4bbeb682_cf52_11ea_a9c2_1062e5f024e8row6_col0\" class=\"data row6 col0\" >Categorical Features </td>\n",
       "                        <td id=\"T_4bbeb682_cf52_11ea_a9c2_1062e5f024e8row6_col1\" class=\"data row6 col1\" >1</td>\n",
       "            </tr>\n",
       "            <tr>\n",
       "                        <th id=\"T_4bbeb682_cf52_11ea_a9c2_1062e5f024e8level0_row7\" class=\"row_heading level0 row7\" >7</th>\n",
       "                        <td id=\"T_4bbeb682_cf52_11ea_a9c2_1062e5f024e8row7_col0\" class=\"data row7 col0\" >Ordinal Features </td>\n",
       "                        <td id=\"T_4bbeb682_cf52_11ea_a9c2_1062e5f024e8row7_col1\" class=\"data row7 col1\" >False</td>\n",
       "            </tr>\n",
       "            <tr>\n",
       "                        <th id=\"T_4bbeb682_cf52_11ea_a9c2_1062e5f024e8level0_row8\" class=\"row_heading level0 row8\" >8</th>\n",
       "                        <td id=\"T_4bbeb682_cf52_11ea_a9c2_1062e5f024e8row8_col0\" class=\"data row8 col0\" >High Cardinality Features </td>\n",
       "                        <td id=\"T_4bbeb682_cf52_11ea_a9c2_1062e5f024e8row8_col1\" class=\"data row8 col1\" >False</td>\n",
       "            </tr>\n",
       "            <tr>\n",
       "                        <th id=\"T_4bbeb682_cf52_11ea_a9c2_1062e5f024e8level0_row9\" class=\"row_heading level0 row9\" >9</th>\n",
       "                        <td id=\"T_4bbeb682_cf52_11ea_a9c2_1062e5f024e8row9_col0\" class=\"data row9 col0\" >High Cardinality Method </td>\n",
       "                        <td id=\"T_4bbeb682_cf52_11ea_a9c2_1062e5f024e8row9_col1\" class=\"data row9 col1\" >None</td>\n",
       "            </tr>\n",
       "            <tr>\n",
       "                        <th id=\"T_4bbeb682_cf52_11ea_a9c2_1062e5f024e8level0_row10\" class=\"row_heading level0 row10\" >10</th>\n",
       "                        <td id=\"T_4bbeb682_cf52_11ea_a9c2_1062e5f024e8row10_col0\" class=\"data row10 col0\" >Sampled Data</td>\n",
       "                        <td id=\"T_4bbeb682_cf52_11ea_a9c2_1062e5f024e8row10_col1\" class=\"data row10 col1\" >(768, 9)</td>\n",
       "            </tr>\n",
       "            <tr>\n",
       "                        <th id=\"T_4bbeb682_cf52_11ea_a9c2_1062e5f024e8level0_row11\" class=\"row_heading level0 row11\" >11</th>\n",
       "                        <td id=\"T_4bbeb682_cf52_11ea_a9c2_1062e5f024e8row11_col0\" class=\"data row11 col0\" >Transformed Train Set</td>\n",
       "                        <td id=\"T_4bbeb682_cf52_11ea_a9c2_1062e5f024e8row11_col1\" class=\"data row11 col1\" >(537, 24)</td>\n",
       "            </tr>\n",
       "            <tr>\n",
       "                        <th id=\"T_4bbeb682_cf52_11ea_a9c2_1062e5f024e8level0_row12\" class=\"row_heading level0 row12\" >12</th>\n",
       "                        <td id=\"T_4bbeb682_cf52_11ea_a9c2_1062e5f024e8row12_col0\" class=\"data row12 col0\" >Transformed Test Set</td>\n",
       "                        <td id=\"T_4bbeb682_cf52_11ea_a9c2_1062e5f024e8row12_col1\" class=\"data row12 col1\" >(231, 24)</td>\n",
       "            </tr>\n",
       "            <tr>\n",
       "                        <th id=\"T_4bbeb682_cf52_11ea_a9c2_1062e5f024e8level0_row13\" class=\"row_heading level0 row13\" >13</th>\n",
       "                        <td id=\"T_4bbeb682_cf52_11ea_a9c2_1062e5f024e8row13_col0\" class=\"data row13 col0\" >Numeric Imputer </td>\n",
       "                        <td id=\"T_4bbeb682_cf52_11ea_a9c2_1062e5f024e8row13_col1\" class=\"data row13 col1\" >mean</td>\n",
       "            </tr>\n",
       "            <tr>\n",
       "                        <th id=\"T_4bbeb682_cf52_11ea_a9c2_1062e5f024e8level0_row14\" class=\"row_heading level0 row14\" >14</th>\n",
       "                        <td id=\"T_4bbeb682_cf52_11ea_a9c2_1062e5f024e8row14_col0\" class=\"data row14 col0\" >Categorical Imputer </td>\n",
       "                        <td id=\"T_4bbeb682_cf52_11ea_a9c2_1062e5f024e8row14_col1\" class=\"data row14 col1\" >constant</td>\n",
       "            </tr>\n",
       "            <tr>\n",
       "                        <th id=\"T_4bbeb682_cf52_11ea_a9c2_1062e5f024e8level0_row15\" class=\"row_heading level0 row15\" >15</th>\n",
       "                        <td id=\"T_4bbeb682_cf52_11ea_a9c2_1062e5f024e8row15_col0\" class=\"data row15 col0\" >Normalize </td>\n",
       "                        <td id=\"T_4bbeb682_cf52_11ea_a9c2_1062e5f024e8row15_col1\" class=\"data row15 col1\" >False</td>\n",
       "            </tr>\n",
       "            <tr>\n",
       "                        <th id=\"T_4bbeb682_cf52_11ea_a9c2_1062e5f024e8level0_row16\" class=\"row_heading level0 row16\" >16</th>\n",
       "                        <td id=\"T_4bbeb682_cf52_11ea_a9c2_1062e5f024e8row16_col0\" class=\"data row16 col0\" >Normalize Method </td>\n",
       "                        <td id=\"T_4bbeb682_cf52_11ea_a9c2_1062e5f024e8row16_col1\" class=\"data row16 col1\" >None</td>\n",
       "            </tr>\n",
       "            <tr>\n",
       "                        <th id=\"T_4bbeb682_cf52_11ea_a9c2_1062e5f024e8level0_row17\" class=\"row_heading level0 row17\" >17</th>\n",
       "                        <td id=\"T_4bbeb682_cf52_11ea_a9c2_1062e5f024e8row17_col0\" class=\"data row17 col0\" >Transformation </td>\n",
       "                        <td id=\"T_4bbeb682_cf52_11ea_a9c2_1062e5f024e8row17_col1\" class=\"data row17 col1\" >False</td>\n",
       "            </tr>\n",
       "            <tr>\n",
       "                        <th id=\"T_4bbeb682_cf52_11ea_a9c2_1062e5f024e8level0_row18\" class=\"row_heading level0 row18\" >18</th>\n",
       "                        <td id=\"T_4bbeb682_cf52_11ea_a9c2_1062e5f024e8row18_col0\" class=\"data row18 col0\" >Transformation Method </td>\n",
       "                        <td id=\"T_4bbeb682_cf52_11ea_a9c2_1062e5f024e8row18_col1\" class=\"data row18 col1\" >None</td>\n",
       "            </tr>\n",
       "            <tr>\n",
       "                        <th id=\"T_4bbeb682_cf52_11ea_a9c2_1062e5f024e8level0_row19\" class=\"row_heading level0 row19\" >19</th>\n",
       "                        <td id=\"T_4bbeb682_cf52_11ea_a9c2_1062e5f024e8row19_col0\" class=\"data row19 col0\" >PCA </td>\n",
       "                        <td id=\"T_4bbeb682_cf52_11ea_a9c2_1062e5f024e8row19_col1\" class=\"data row19 col1\" >False</td>\n",
       "            </tr>\n",
       "            <tr>\n",
       "                        <th id=\"T_4bbeb682_cf52_11ea_a9c2_1062e5f024e8level0_row20\" class=\"row_heading level0 row20\" >20</th>\n",
       "                        <td id=\"T_4bbeb682_cf52_11ea_a9c2_1062e5f024e8row20_col0\" class=\"data row20 col0\" >PCA Method </td>\n",
       "                        <td id=\"T_4bbeb682_cf52_11ea_a9c2_1062e5f024e8row20_col1\" class=\"data row20 col1\" >None</td>\n",
       "            </tr>\n",
       "            <tr>\n",
       "                        <th id=\"T_4bbeb682_cf52_11ea_a9c2_1062e5f024e8level0_row21\" class=\"row_heading level0 row21\" >21</th>\n",
       "                        <td id=\"T_4bbeb682_cf52_11ea_a9c2_1062e5f024e8row21_col0\" class=\"data row21 col0\" >PCA Components </td>\n",
       "                        <td id=\"T_4bbeb682_cf52_11ea_a9c2_1062e5f024e8row21_col1\" class=\"data row21 col1\" >None</td>\n",
       "            </tr>\n",
       "            <tr>\n",
       "                        <th id=\"T_4bbeb682_cf52_11ea_a9c2_1062e5f024e8level0_row22\" class=\"row_heading level0 row22\" >22</th>\n",
       "                        <td id=\"T_4bbeb682_cf52_11ea_a9c2_1062e5f024e8row22_col0\" class=\"data row22 col0\" >Ignore Low Variance </td>\n",
       "                        <td id=\"T_4bbeb682_cf52_11ea_a9c2_1062e5f024e8row22_col1\" class=\"data row22 col1\" >False</td>\n",
       "            </tr>\n",
       "            <tr>\n",
       "                        <th id=\"T_4bbeb682_cf52_11ea_a9c2_1062e5f024e8level0_row23\" class=\"row_heading level0 row23\" >23</th>\n",
       "                        <td id=\"T_4bbeb682_cf52_11ea_a9c2_1062e5f024e8row23_col0\" class=\"data row23 col0\" >Combine Rare Levels </td>\n",
       "                        <td id=\"T_4bbeb682_cf52_11ea_a9c2_1062e5f024e8row23_col1\" class=\"data row23 col1\" >False</td>\n",
       "            </tr>\n",
       "            <tr>\n",
       "                        <th id=\"T_4bbeb682_cf52_11ea_a9c2_1062e5f024e8level0_row24\" class=\"row_heading level0 row24\" >24</th>\n",
       "                        <td id=\"T_4bbeb682_cf52_11ea_a9c2_1062e5f024e8row24_col0\" class=\"data row24 col0\" >Rare Level Threshold </td>\n",
       "                        <td id=\"T_4bbeb682_cf52_11ea_a9c2_1062e5f024e8row24_col1\" class=\"data row24 col1\" >None</td>\n",
       "            </tr>\n",
       "            <tr>\n",
       "                        <th id=\"T_4bbeb682_cf52_11ea_a9c2_1062e5f024e8level0_row25\" class=\"row_heading level0 row25\" >25</th>\n",
       "                        <td id=\"T_4bbeb682_cf52_11ea_a9c2_1062e5f024e8row25_col0\" class=\"data row25 col0\" >Numeric Binning </td>\n",
       "                        <td id=\"T_4bbeb682_cf52_11ea_a9c2_1062e5f024e8row25_col1\" class=\"data row25 col1\" >False</td>\n",
       "            </tr>\n",
       "            <tr>\n",
       "                        <th id=\"T_4bbeb682_cf52_11ea_a9c2_1062e5f024e8level0_row26\" class=\"row_heading level0 row26\" >26</th>\n",
       "                        <td id=\"T_4bbeb682_cf52_11ea_a9c2_1062e5f024e8row26_col0\" class=\"data row26 col0\" >Remove Outliers </td>\n",
       "                        <td id=\"T_4bbeb682_cf52_11ea_a9c2_1062e5f024e8row26_col1\" class=\"data row26 col1\" >False</td>\n",
       "            </tr>\n",
       "            <tr>\n",
       "                        <th id=\"T_4bbeb682_cf52_11ea_a9c2_1062e5f024e8level0_row27\" class=\"row_heading level0 row27\" >27</th>\n",
       "                        <td id=\"T_4bbeb682_cf52_11ea_a9c2_1062e5f024e8row27_col0\" class=\"data row27 col0\" >Outliers Threshold </td>\n",
       "                        <td id=\"T_4bbeb682_cf52_11ea_a9c2_1062e5f024e8row27_col1\" class=\"data row27 col1\" >None</td>\n",
       "            </tr>\n",
       "            <tr>\n",
       "                        <th id=\"T_4bbeb682_cf52_11ea_a9c2_1062e5f024e8level0_row28\" class=\"row_heading level0 row28\" >28</th>\n",
       "                        <td id=\"T_4bbeb682_cf52_11ea_a9c2_1062e5f024e8row28_col0\" class=\"data row28 col0\" >Remove Multicollinearity </td>\n",
       "                        <td id=\"T_4bbeb682_cf52_11ea_a9c2_1062e5f024e8row28_col1\" class=\"data row28 col1\" >False</td>\n",
       "            </tr>\n",
       "            <tr>\n",
       "                        <th id=\"T_4bbeb682_cf52_11ea_a9c2_1062e5f024e8level0_row29\" class=\"row_heading level0 row29\" >29</th>\n",
       "                        <td id=\"T_4bbeb682_cf52_11ea_a9c2_1062e5f024e8row29_col0\" class=\"data row29 col0\" >Multicollinearity Threshold </td>\n",
       "                        <td id=\"T_4bbeb682_cf52_11ea_a9c2_1062e5f024e8row29_col1\" class=\"data row29 col1\" >None</td>\n",
       "            </tr>\n",
       "            <tr>\n",
       "                        <th id=\"T_4bbeb682_cf52_11ea_a9c2_1062e5f024e8level0_row30\" class=\"row_heading level0 row30\" >30</th>\n",
       "                        <td id=\"T_4bbeb682_cf52_11ea_a9c2_1062e5f024e8row30_col0\" class=\"data row30 col0\" >Clustering </td>\n",
       "                        <td id=\"T_4bbeb682_cf52_11ea_a9c2_1062e5f024e8row30_col1\" class=\"data row30 col1\" >False</td>\n",
       "            </tr>\n",
       "            <tr>\n",
       "                        <th id=\"T_4bbeb682_cf52_11ea_a9c2_1062e5f024e8level0_row31\" class=\"row_heading level0 row31\" >31</th>\n",
       "                        <td id=\"T_4bbeb682_cf52_11ea_a9c2_1062e5f024e8row31_col0\" class=\"data row31 col0\" >Clustering Iteration </td>\n",
       "                        <td id=\"T_4bbeb682_cf52_11ea_a9c2_1062e5f024e8row31_col1\" class=\"data row31 col1\" >None</td>\n",
       "            </tr>\n",
       "            <tr>\n",
       "                        <th id=\"T_4bbeb682_cf52_11ea_a9c2_1062e5f024e8level0_row32\" class=\"row_heading level0 row32\" >32</th>\n",
       "                        <td id=\"T_4bbeb682_cf52_11ea_a9c2_1062e5f024e8row32_col0\" class=\"data row32 col0\" >Polynomial Features </td>\n",
       "                        <td id=\"T_4bbeb682_cf52_11ea_a9c2_1062e5f024e8row32_col1\" class=\"data row32 col1\" >False</td>\n",
       "            </tr>\n",
       "            <tr>\n",
       "                        <th id=\"T_4bbeb682_cf52_11ea_a9c2_1062e5f024e8level0_row33\" class=\"row_heading level0 row33\" >33</th>\n",
       "                        <td id=\"T_4bbeb682_cf52_11ea_a9c2_1062e5f024e8row33_col0\" class=\"data row33 col0\" >Polynomial Degree </td>\n",
       "                        <td id=\"T_4bbeb682_cf52_11ea_a9c2_1062e5f024e8row33_col1\" class=\"data row33 col1\" >None</td>\n",
       "            </tr>\n",
       "            <tr>\n",
       "                        <th id=\"T_4bbeb682_cf52_11ea_a9c2_1062e5f024e8level0_row34\" class=\"row_heading level0 row34\" >34</th>\n",
       "                        <td id=\"T_4bbeb682_cf52_11ea_a9c2_1062e5f024e8row34_col0\" class=\"data row34 col0\" >Trignometry Features </td>\n",
       "                        <td id=\"T_4bbeb682_cf52_11ea_a9c2_1062e5f024e8row34_col1\" class=\"data row34 col1\" >False</td>\n",
       "            </tr>\n",
       "            <tr>\n",
       "                        <th id=\"T_4bbeb682_cf52_11ea_a9c2_1062e5f024e8level0_row35\" class=\"row_heading level0 row35\" >35</th>\n",
       "                        <td id=\"T_4bbeb682_cf52_11ea_a9c2_1062e5f024e8row35_col0\" class=\"data row35 col0\" >Polynomial Threshold </td>\n",
       "                        <td id=\"T_4bbeb682_cf52_11ea_a9c2_1062e5f024e8row35_col1\" class=\"data row35 col1\" >None</td>\n",
       "            </tr>\n",
       "            <tr>\n",
       "                        <th id=\"T_4bbeb682_cf52_11ea_a9c2_1062e5f024e8level0_row36\" class=\"row_heading level0 row36\" >36</th>\n",
       "                        <td id=\"T_4bbeb682_cf52_11ea_a9c2_1062e5f024e8row36_col0\" class=\"data row36 col0\" >Group Features </td>\n",
       "                        <td id=\"T_4bbeb682_cf52_11ea_a9c2_1062e5f024e8row36_col1\" class=\"data row36 col1\" >False</td>\n",
       "            </tr>\n",
       "            <tr>\n",
       "                        <th id=\"T_4bbeb682_cf52_11ea_a9c2_1062e5f024e8level0_row37\" class=\"row_heading level0 row37\" >37</th>\n",
       "                        <td id=\"T_4bbeb682_cf52_11ea_a9c2_1062e5f024e8row37_col0\" class=\"data row37 col0\" >Feature Selection </td>\n",
       "                        <td id=\"T_4bbeb682_cf52_11ea_a9c2_1062e5f024e8row37_col1\" class=\"data row37 col1\" >False</td>\n",
       "            </tr>\n",
       "            <tr>\n",
       "                        <th id=\"T_4bbeb682_cf52_11ea_a9c2_1062e5f024e8level0_row38\" class=\"row_heading level0 row38\" >38</th>\n",
       "                        <td id=\"T_4bbeb682_cf52_11ea_a9c2_1062e5f024e8row38_col0\" class=\"data row38 col0\" >Features Selection Threshold </td>\n",
       "                        <td id=\"T_4bbeb682_cf52_11ea_a9c2_1062e5f024e8row38_col1\" class=\"data row38 col1\" >None</td>\n",
       "            </tr>\n",
       "            <tr>\n",
       "                        <th id=\"T_4bbeb682_cf52_11ea_a9c2_1062e5f024e8level0_row39\" class=\"row_heading level0 row39\" >39</th>\n",
       "                        <td id=\"T_4bbeb682_cf52_11ea_a9c2_1062e5f024e8row39_col0\" class=\"data row39 col0\" >Feature Interaction </td>\n",
       "                        <td id=\"T_4bbeb682_cf52_11ea_a9c2_1062e5f024e8row39_col1\" class=\"data row39 col1\" >False</td>\n",
       "            </tr>\n",
       "            <tr>\n",
       "                        <th id=\"T_4bbeb682_cf52_11ea_a9c2_1062e5f024e8level0_row40\" class=\"row_heading level0 row40\" >40</th>\n",
       "                        <td id=\"T_4bbeb682_cf52_11ea_a9c2_1062e5f024e8row40_col0\" class=\"data row40 col0\" >Feature Ratio </td>\n",
       "                        <td id=\"T_4bbeb682_cf52_11ea_a9c2_1062e5f024e8row40_col1\" class=\"data row40 col1\" >False</td>\n",
       "            </tr>\n",
       "            <tr>\n",
       "                        <th id=\"T_4bbeb682_cf52_11ea_a9c2_1062e5f024e8level0_row41\" class=\"row_heading level0 row41\" >41</th>\n",
       "                        <td id=\"T_4bbeb682_cf52_11ea_a9c2_1062e5f024e8row41_col0\" class=\"data row41 col0\" >Interaction Threshold </td>\n",
       "                        <td id=\"T_4bbeb682_cf52_11ea_a9c2_1062e5f024e8row41_col1\" class=\"data row41 col1\" >None</td>\n",
       "            </tr>\n",
       "    </tbody></table>"
      ],
      "text/plain": [
       "<pandas.io.formats.style.Styler at 0x1e1bfaf2408>"
      ]
     },
     "metadata": {},
     "output_type": "display_data"
    }
   ],
   "source": [
    "clf=setup(data=diabetes_df,target = 'Class variable')"
   ]
  },
  {
   "cell_type": "markdown",
   "metadata": {},
   "source": [
    "#### Comparing models"
   ]
  },
  {
   "cell_type": "code",
   "execution_count": 8,
   "metadata": {},
   "outputs": [
    {
     "data": {
      "text/html": [
       "<style  type=\"text/css\" >\n",
       "    #T_cfe5d142_cf52_11ea_ab50_1062e5f024e8 th {\n",
       "          text-align: left;\n",
       "    }    #T_cfe5d142_cf52_11ea_ab50_1062e5f024e8row0_col0 {\n",
       "            text-align:  left;\n",
       "        }    #T_cfe5d142_cf52_11ea_ab50_1062e5f024e8row0_col1 {\n",
       "            background-color:  yellow;\n",
       "            text-align:  left;\n",
       "        }    #T_cfe5d142_cf52_11ea_ab50_1062e5f024e8row0_col2 {\n",
       "            : ;\n",
       "            text-align:  left;\n",
       "        }    #T_cfe5d142_cf52_11ea_ab50_1062e5f024e8row0_col3 {\n",
       "            : ;\n",
       "            text-align:  left;\n",
       "        }    #T_cfe5d142_cf52_11ea_ab50_1062e5f024e8row0_col4 {\n",
       "            : ;\n",
       "            text-align:  left;\n",
       "        }    #T_cfe5d142_cf52_11ea_ab50_1062e5f024e8row0_col5 {\n",
       "            background-color:  yellow;\n",
       "            text-align:  left;\n",
       "        }    #T_cfe5d142_cf52_11ea_ab50_1062e5f024e8row0_col6 {\n",
       "            background-color:  yellow;\n",
       "            text-align:  left;\n",
       "        }    #T_cfe5d142_cf52_11ea_ab50_1062e5f024e8row1_col0 {\n",
       "            text-align:  left;\n",
       "        }    #T_cfe5d142_cf52_11ea_ab50_1062e5f024e8row1_col1 {\n",
       "            : ;\n",
       "            text-align:  left;\n",
       "        }    #T_cfe5d142_cf52_11ea_ab50_1062e5f024e8row1_col2 {\n",
       "            : ;\n",
       "            text-align:  left;\n",
       "        }    #T_cfe5d142_cf52_11ea_ab50_1062e5f024e8row1_col3 {\n",
       "            : ;\n",
       "            text-align:  left;\n",
       "        }    #T_cfe5d142_cf52_11ea_ab50_1062e5f024e8row1_col4 {\n",
       "            background-color:  yellow;\n",
       "            text-align:  left;\n",
       "        }    #T_cfe5d142_cf52_11ea_ab50_1062e5f024e8row1_col5 {\n",
       "            : ;\n",
       "            text-align:  left;\n",
       "        }    #T_cfe5d142_cf52_11ea_ab50_1062e5f024e8row1_col6 {\n",
       "            : ;\n",
       "            text-align:  left;\n",
       "        }    #T_cfe5d142_cf52_11ea_ab50_1062e5f024e8row2_col0 {\n",
       "            text-align:  left;\n",
       "        }    #T_cfe5d142_cf52_11ea_ab50_1062e5f024e8row2_col1 {\n",
       "            : ;\n",
       "            text-align:  left;\n",
       "        }    #T_cfe5d142_cf52_11ea_ab50_1062e5f024e8row2_col2 {\n",
       "            : ;\n",
       "            text-align:  left;\n",
       "        }    #T_cfe5d142_cf52_11ea_ab50_1062e5f024e8row2_col3 {\n",
       "            : ;\n",
       "            text-align:  left;\n",
       "        }    #T_cfe5d142_cf52_11ea_ab50_1062e5f024e8row2_col4 {\n",
       "            : ;\n",
       "            text-align:  left;\n",
       "        }    #T_cfe5d142_cf52_11ea_ab50_1062e5f024e8row2_col5 {\n",
       "            : ;\n",
       "            text-align:  left;\n",
       "        }    #T_cfe5d142_cf52_11ea_ab50_1062e5f024e8row2_col6 {\n",
       "            : ;\n",
       "            text-align:  left;\n",
       "        }    #T_cfe5d142_cf52_11ea_ab50_1062e5f024e8row3_col0 {\n",
       "            text-align:  left;\n",
       "        }    #T_cfe5d142_cf52_11ea_ab50_1062e5f024e8row3_col1 {\n",
       "            : ;\n",
       "            text-align:  left;\n",
       "        }    #T_cfe5d142_cf52_11ea_ab50_1062e5f024e8row3_col2 {\n",
       "            background-color:  yellow;\n",
       "            text-align:  left;\n",
       "        }    #T_cfe5d142_cf52_11ea_ab50_1062e5f024e8row3_col3 {\n",
       "            background-color:  yellow;\n",
       "            text-align:  left;\n",
       "        }    #T_cfe5d142_cf52_11ea_ab50_1062e5f024e8row3_col4 {\n",
       "            : ;\n",
       "            text-align:  left;\n",
       "        }    #T_cfe5d142_cf52_11ea_ab50_1062e5f024e8row3_col5 {\n",
       "            : ;\n",
       "            text-align:  left;\n",
       "        }    #T_cfe5d142_cf52_11ea_ab50_1062e5f024e8row3_col6 {\n",
       "            : ;\n",
       "            text-align:  left;\n",
       "        }    #T_cfe5d142_cf52_11ea_ab50_1062e5f024e8row4_col0 {\n",
       "            text-align:  left;\n",
       "        }    #T_cfe5d142_cf52_11ea_ab50_1062e5f024e8row4_col1 {\n",
       "            : ;\n",
       "            text-align:  left;\n",
       "        }    #T_cfe5d142_cf52_11ea_ab50_1062e5f024e8row4_col2 {\n",
       "            : ;\n",
       "            text-align:  left;\n",
       "        }    #T_cfe5d142_cf52_11ea_ab50_1062e5f024e8row4_col3 {\n",
       "            : ;\n",
       "            text-align:  left;\n",
       "        }    #T_cfe5d142_cf52_11ea_ab50_1062e5f024e8row4_col4 {\n",
       "            : ;\n",
       "            text-align:  left;\n",
       "        }    #T_cfe5d142_cf52_11ea_ab50_1062e5f024e8row4_col5 {\n",
       "            : ;\n",
       "            text-align:  left;\n",
       "        }    #T_cfe5d142_cf52_11ea_ab50_1062e5f024e8row4_col6 {\n",
       "            : ;\n",
       "            text-align:  left;\n",
       "        }    #T_cfe5d142_cf52_11ea_ab50_1062e5f024e8row5_col0 {\n",
       "            text-align:  left;\n",
       "        }    #T_cfe5d142_cf52_11ea_ab50_1062e5f024e8row5_col1 {\n",
       "            : ;\n",
       "            text-align:  left;\n",
       "        }    #T_cfe5d142_cf52_11ea_ab50_1062e5f024e8row5_col2 {\n",
       "            : ;\n",
       "            text-align:  left;\n",
       "        }    #T_cfe5d142_cf52_11ea_ab50_1062e5f024e8row5_col3 {\n",
       "            : ;\n",
       "            text-align:  left;\n",
       "        }    #T_cfe5d142_cf52_11ea_ab50_1062e5f024e8row5_col4 {\n",
       "            : ;\n",
       "            text-align:  left;\n",
       "        }    #T_cfe5d142_cf52_11ea_ab50_1062e5f024e8row5_col5 {\n",
       "            : ;\n",
       "            text-align:  left;\n",
       "        }    #T_cfe5d142_cf52_11ea_ab50_1062e5f024e8row5_col6 {\n",
       "            : ;\n",
       "            text-align:  left;\n",
       "        }    #T_cfe5d142_cf52_11ea_ab50_1062e5f024e8row6_col0 {\n",
       "            text-align:  left;\n",
       "        }    #T_cfe5d142_cf52_11ea_ab50_1062e5f024e8row6_col1 {\n",
       "            : ;\n",
       "            text-align:  left;\n",
       "        }    #T_cfe5d142_cf52_11ea_ab50_1062e5f024e8row6_col2 {\n",
       "            : ;\n",
       "            text-align:  left;\n",
       "        }    #T_cfe5d142_cf52_11ea_ab50_1062e5f024e8row6_col3 {\n",
       "            : ;\n",
       "            text-align:  left;\n",
       "        }    #T_cfe5d142_cf52_11ea_ab50_1062e5f024e8row6_col4 {\n",
       "            : ;\n",
       "            text-align:  left;\n",
       "        }    #T_cfe5d142_cf52_11ea_ab50_1062e5f024e8row6_col5 {\n",
       "            : ;\n",
       "            text-align:  left;\n",
       "        }    #T_cfe5d142_cf52_11ea_ab50_1062e5f024e8row6_col6 {\n",
       "            : ;\n",
       "            text-align:  left;\n",
       "        }    #T_cfe5d142_cf52_11ea_ab50_1062e5f024e8row7_col0 {\n",
       "            text-align:  left;\n",
       "        }    #T_cfe5d142_cf52_11ea_ab50_1062e5f024e8row7_col1 {\n",
       "            : ;\n",
       "            text-align:  left;\n",
       "        }    #T_cfe5d142_cf52_11ea_ab50_1062e5f024e8row7_col2 {\n",
       "            : ;\n",
       "            text-align:  left;\n",
       "        }    #T_cfe5d142_cf52_11ea_ab50_1062e5f024e8row7_col3 {\n",
       "            : ;\n",
       "            text-align:  left;\n",
       "        }    #T_cfe5d142_cf52_11ea_ab50_1062e5f024e8row7_col4 {\n",
       "            : ;\n",
       "            text-align:  left;\n",
       "        }    #T_cfe5d142_cf52_11ea_ab50_1062e5f024e8row7_col5 {\n",
       "            : ;\n",
       "            text-align:  left;\n",
       "        }    #T_cfe5d142_cf52_11ea_ab50_1062e5f024e8row7_col6 {\n",
       "            : ;\n",
       "            text-align:  left;\n",
       "        }    #T_cfe5d142_cf52_11ea_ab50_1062e5f024e8row8_col0 {\n",
       "            text-align:  left;\n",
       "        }    #T_cfe5d142_cf52_11ea_ab50_1062e5f024e8row8_col1 {\n",
       "            : ;\n",
       "            text-align:  left;\n",
       "        }    #T_cfe5d142_cf52_11ea_ab50_1062e5f024e8row8_col2 {\n",
       "            : ;\n",
       "            text-align:  left;\n",
       "        }    #T_cfe5d142_cf52_11ea_ab50_1062e5f024e8row8_col3 {\n",
       "            : ;\n",
       "            text-align:  left;\n",
       "        }    #T_cfe5d142_cf52_11ea_ab50_1062e5f024e8row8_col4 {\n",
       "            : ;\n",
       "            text-align:  left;\n",
       "        }    #T_cfe5d142_cf52_11ea_ab50_1062e5f024e8row8_col5 {\n",
       "            : ;\n",
       "            text-align:  left;\n",
       "        }    #T_cfe5d142_cf52_11ea_ab50_1062e5f024e8row8_col6 {\n",
       "            : ;\n",
       "            text-align:  left;\n",
       "        }    #T_cfe5d142_cf52_11ea_ab50_1062e5f024e8row9_col0 {\n",
       "            text-align:  left;\n",
       "        }    #T_cfe5d142_cf52_11ea_ab50_1062e5f024e8row9_col1 {\n",
       "            : ;\n",
       "            text-align:  left;\n",
       "        }    #T_cfe5d142_cf52_11ea_ab50_1062e5f024e8row9_col2 {\n",
       "            : ;\n",
       "            text-align:  left;\n",
       "        }    #T_cfe5d142_cf52_11ea_ab50_1062e5f024e8row9_col3 {\n",
       "            : ;\n",
       "            text-align:  left;\n",
       "        }    #T_cfe5d142_cf52_11ea_ab50_1062e5f024e8row9_col4 {\n",
       "            : ;\n",
       "            text-align:  left;\n",
       "        }    #T_cfe5d142_cf52_11ea_ab50_1062e5f024e8row9_col5 {\n",
       "            : ;\n",
       "            text-align:  left;\n",
       "        }    #T_cfe5d142_cf52_11ea_ab50_1062e5f024e8row9_col6 {\n",
       "            : ;\n",
       "            text-align:  left;\n",
       "        }    #T_cfe5d142_cf52_11ea_ab50_1062e5f024e8row10_col0 {\n",
       "            text-align:  left;\n",
       "        }    #T_cfe5d142_cf52_11ea_ab50_1062e5f024e8row10_col1 {\n",
       "            : ;\n",
       "            text-align:  left;\n",
       "        }    #T_cfe5d142_cf52_11ea_ab50_1062e5f024e8row10_col2 {\n",
       "            : ;\n",
       "            text-align:  left;\n",
       "        }    #T_cfe5d142_cf52_11ea_ab50_1062e5f024e8row10_col3 {\n",
       "            : ;\n",
       "            text-align:  left;\n",
       "        }    #T_cfe5d142_cf52_11ea_ab50_1062e5f024e8row10_col4 {\n",
       "            : ;\n",
       "            text-align:  left;\n",
       "        }    #T_cfe5d142_cf52_11ea_ab50_1062e5f024e8row10_col5 {\n",
       "            : ;\n",
       "            text-align:  left;\n",
       "        }    #T_cfe5d142_cf52_11ea_ab50_1062e5f024e8row10_col6 {\n",
       "            : ;\n",
       "            text-align:  left;\n",
       "        }    #T_cfe5d142_cf52_11ea_ab50_1062e5f024e8row11_col0 {\n",
       "            text-align:  left;\n",
       "        }    #T_cfe5d142_cf52_11ea_ab50_1062e5f024e8row11_col1 {\n",
       "            : ;\n",
       "            text-align:  left;\n",
       "        }    #T_cfe5d142_cf52_11ea_ab50_1062e5f024e8row11_col2 {\n",
       "            : ;\n",
       "            text-align:  left;\n",
       "        }    #T_cfe5d142_cf52_11ea_ab50_1062e5f024e8row11_col3 {\n",
       "            : ;\n",
       "            text-align:  left;\n",
       "        }    #T_cfe5d142_cf52_11ea_ab50_1062e5f024e8row11_col4 {\n",
       "            : ;\n",
       "            text-align:  left;\n",
       "        }    #T_cfe5d142_cf52_11ea_ab50_1062e5f024e8row11_col5 {\n",
       "            : ;\n",
       "            text-align:  left;\n",
       "        }    #T_cfe5d142_cf52_11ea_ab50_1062e5f024e8row11_col6 {\n",
       "            : ;\n",
       "            text-align:  left;\n",
       "        }    #T_cfe5d142_cf52_11ea_ab50_1062e5f024e8row12_col0 {\n",
       "            text-align:  left;\n",
       "        }    #T_cfe5d142_cf52_11ea_ab50_1062e5f024e8row12_col1 {\n",
       "            : ;\n",
       "            text-align:  left;\n",
       "        }    #T_cfe5d142_cf52_11ea_ab50_1062e5f024e8row12_col2 {\n",
       "            : ;\n",
       "            text-align:  left;\n",
       "        }    #T_cfe5d142_cf52_11ea_ab50_1062e5f024e8row12_col3 {\n",
       "            : ;\n",
       "            text-align:  left;\n",
       "        }    #T_cfe5d142_cf52_11ea_ab50_1062e5f024e8row12_col4 {\n",
       "            : ;\n",
       "            text-align:  left;\n",
       "        }    #T_cfe5d142_cf52_11ea_ab50_1062e5f024e8row12_col5 {\n",
       "            : ;\n",
       "            text-align:  left;\n",
       "        }    #T_cfe5d142_cf52_11ea_ab50_1062e5f024e8row12_col6 {\n",
       "            : ;\n",
       "            text-align:  left;\n",
       "        }    #T_cfe5d142_cf52_11ea_ab50_1062e5f024e8row13_col0 {\n",
       "            text-align:  left;\n",
       "        }    #T_cfe5d142_cf52_11ea_ab50_1062e5f024e8row13_col1 {\n",
       "            : ;\n",
       "            text-align:  left;\n",
       "        }    #T_cfe5d142_cf52_11ea_ab50_1062e5f024e8row13_col2 {\n",
       "            : ;\n",
       "            text-align:  left;\n",
       "        }    #T_cfe5d142_cf52_11ea_ab50_1062e5f024e8row13_col3 {\n",
       "            : ;\n",
       "            text-align:  left;\n",
       "        }    #T_cfe5d142_cf52_11ea_ab50_1062e5f024e8row13_col4 {\n",
       "            : ;\n",
       "            text-align:  left;\n",
       "        }    #T_cfe5d142_cf52_11ea_ab50_1062e5f024e8row13_col5 {\n",
       "            : ;\n",
       "            text-align:  left;\n",
       "        }    #T_cfe5d142_cf52_11ea_ab50_1062e5f024e8row13_col6 {\n",
       "            : ;\n",
       "            text-align:  left;\n",
       "        }    #T_cfe5d142_cf52_11ea_ab50_1062e5f024e8row14_col0 {\n",
       "            text-align:  left;\n",
       "        }    #T_cfe5d142_cf52_11ea_ab50_1062e5f024e8row14_col1 {\n",
       "            : ;\n",
       "            text-align:  left;\n",
       "        }    #T_cfe5d142_cf52_11ea_ab50_1062e5f024e8row14_col2 {\n",
       "            : ;\n",
       "            text-align:  left;\n",
       "        }    #T_cfe5d142_cf52_11ea_ab50_1062e5f024e8row14_col3 {\n",
       "            : ;\n",
       "            text-align:  left;\n",
       "        }    #T_cfe5d142_cf52_11ea_ab50_1062e5f024e8row14_col4 {\n",
       "            : ;\n",
       "            text-align:  left;\n",
       "        }    #T_cfe5d142_cf52_11ea_ab50_1062e5f024e8row14_col5 {\n",
       "            : ;\n",
       "            text-align:  left;\n",
       "        }    #T_cfe5d142_cf52_11ea_ab50_1062e5f024e8row14_col6 {\n",
       "            : ;\n",
       "            text-align:  left;\n",
       "        }</style><table id=\"T_cfe5d142_cf52_11ea_ab50_1062e5f024e8\" ><thead>    <tr>        <th class=\"blank level0\" ></th>        <th class=\"col_heading level0 col0\" >Model</th>        <th class=\"col_heading level0 col1\" >Accuracy</th>        <th class=\"col_heading level0 col2\" >AUC</th>        <th class=\"col_heading level0 col3\" >Recall</th>        <th class=\"col_heading level0 col4\" >Prec.</th>        <th class=\"col_heading level0 col5\" >F1</th>        <th class=\"col_heading level0 col6\" >Kappa</th>    </tr></thead><tbody>\n",
       "                <tr>\n",
       "                        <th id=\"T_cfe5d142_cf52_11ea_ab50_1062e5f024e8level0_row0\" class=\"row_heading level0 row0\" >0</th>\n",
       "                        <td id=\"T_cfe5d142_cf52_11ea_ab50_1062e5f024e8row0_col0\" class=\"data row0 col0\" >Ada Boost Classifier</td>\n",
       "                        <td id=\"T_cfe5d142_cf52_11ea_ab50_1062e5f024e8row0_col1\" class=\"data row0 col1\" >0.774600</td>\n",
       "                        <td id=\"T_cfe5d142_cf52_11ea_ab50_1062e5f024e8row0_col2\" class=\"data row0 col2\" >0.824900</td>\n",
       "                        <td id=\"T_cfe5d142_cf52_11ea_ab50_1062e5f024e8row0_col3\" class=\"data row0 col3\" >0.631300</td>\n",
       "                        <td id=\"T_cfe5d142_cf52_11ea_ab50_1062e5f024e8row0_col4\" class=\"data row0 col4\" >0.697000</td>\n",
       "                        <td id=\"T_cfe5d142_cf52_11ea_ab50_1062e5f024e8row0_col5\" class=\"data row0 col5\" >0.657700</td>\n",
       "                        <td id=\"T_cfe5d142_cf52_11ea_ab50_1062e5f024e8row0_col6\" class=\"data row0 col6\" >0.491500</td>\n",
       "            </tr>\n",
       "            <tr>\n",
       "                        <th id=\"T_cfe5d142_cf52_11ea_ab50_1062e5f024e8level0_row1\" class=\"row_heading level0 row1\" >1</th>\n",
       "                        <td id=\"T_cfe5d142_cf52_11ea_ab50_1062e5f024e8row1_col0\" class=\"data row1 col0\" >Ridge Classifier</td>\n",
       "                        <td id=\"T_cfe5d142_cf52_11ea_ab50_1062e5f024e8row1_col1\" class=\"data row1 col1\" >0.772900</td>\n",
       "                        <td id=\"T_cfe5d142_cf52_11ea_ab50_1062e5f024e8row1_col2\" class=\"data row1 col2\" >0.000000</td>\n",
       "                        <td id=\"T_cfe5d142_cf52_11ea_ab50_1062e5f024e8row1_col3\" class=\"data row1 col3\" >0.578400</td>\n",
       "                        <td id=\"T_cfe5d142_cf52_11ea_ab50_1062e5f024e8row1_col4\" class=\"data row1 col4\" >0.728200</td>\n",
       "                        <td id=\"T_cfe5d142_cf52_11ea_ab50_1062e5f024e8row1_col5\" class=\"data row1 col5\" >0.639700</td>\n",
       "                        <td id=\"T_cfe5d142_cf52_11ea_ab50_1062e5f024e8row1_col6\" class=\"data row1 col6\" >0.477400</td>\n",
       "            </tr>\n",
       "            <tr>\n",
       "                        <th id=\"T_cfe5d142_cf52_11ea_ab50_1062e5f024e8level0_row2\" class=\"row_heading level0 row2\" >2</th>\n",
       "                        <td id=\"T_cfe5d142_cf52_11ea_ab50_1062e5f024e8row2_col0\" class=\"data row2 col0\" >Linear Discriminant Analysis</td>\n",
       "                        <td id=\"T_cfe5d142_cf52_11ea_ab50_1062e5f024e8row2_col1\" class=\"data row2 col1\" >0.771000</td>\n",
       "                        <td id=\"T_cfe5d142_cf52_11ea_ab50_1062e5f024e8row2_col2\" class=\"data row2 col2\" >0.833800</td>\n",
       "                        <td id=\"T_cfe5d142_cf52_11ea_ab50_1062e5f024e8row2_col3\" class=\"data row2 col3\" >0.583600</td>\n",
       "                        <td id=\"T_cfe5d142_cf52_11ea_ab50_1062e5f024e8row2_col4\" class=\"data row2 col4\" >0.723900</td>\n",
       "                        <td id=\"T_cfe5d142_cf52_11ea_ab50_1062e5f024e8row2_col5\" class=\"data row2 col5\" >0.639800</td>\n",
       "                        <td id=\"T_cfe5d142_cf52_11ea_ab50_1062e5f024e8row2_col6\" class=\"data row2 col6\" >0.475300</td>\n",
       "            </tr>\n",
       "            <tr>\n",
       "                        <th id=\"T_cfe5d142_cf52_11ea_ab50_1062e5f024e8level0_row3\" class=\"row_heading level0 row3\" >3</th>\n",
       "                        <td id=\"T_cfe5d142_cf52_11ea_ab50_1062e5f024e8row3_col0\" class=\"data row3 col0\" >Extreme Gradient Boosting</td>\n",
       "                        <td id=\"T_cfe5d142_cf52_11ea_ab50_1062e5f024e8row3_col1\" class=\"data row3 col1\" >0.767300</td>\n",
       "                        <td id=\"T_cfe5d142_cf52_11ea_ab50_1062e5f024e8row3_col2\" class=\"data row3 col2\" >0.835600</td>\n",
       "                        <td id=\"T_cfe5d142_cf52_11ea_ab50_1062e5f024e8row3_col3\" class=\"data row3 col3\" >0.636800</td>\n",
       "                        <td id=\"T_cfe5d142_cf52_11ea_ab50_1062e5f024e8row3_col4\" class=\"data row3 col4\" >0.689800</td>\n",
       "                        <td id=\"T_cfe5d142_cf52_11ea_ab50_1062e5f024e8row3_col5\" class=\"data row3 col5\" >0.655400</td>\n",
       "                        <td id=\"T_cfe5d142_cf52_11ea_ab50_1062e5f024e8row3_col6\" class=\"data row3 col6\" >0.481300</td>\n",
       "            </tr>\n",
       "            <tr>\n",
       "                        <th id=\"T_cfe5d142_cf52_11ea_ab50_1062e5f024e8level0_row4\" class=\"row_heading level0 row4\" >4</th>\n",
       "                        <td id=\"T_cfe5d142_cf52_11ea_ab50_1062e5f024e8row4_col0\" class=\"data row4 col0\" >CatBoost Classifier</td>\n",
       "                        <td id=\"T_cfe5d142_cf52_11ea_ab50_1062e5f024e8row4_col1\" class=\"data row4 col1\" >0.767300</td>\n",
       "                        <td id=\"T_cfe5d142_cf52_11ea_ab50_1062e5f024e8row4_col2\" class=\"data row4 col2\" >0.830700</td>\n",
       "                        <td id=\"T_cfe5d142_cf52_11ea_ab50_1062e5f024e8row4_col3\" class=\"data row4 col3\" >0.621300</td>\n",
       "                        <td id=\"T_cfe5d142_cf52_11ea_ab50_1062e5f024e8row4_col4\" class=\"data row4 col4\" >0.695900</td>\n",
       "                        <td id=\"T_cfe5d142_cf52_11ea_ab50_1062e5f024e8row4_col5\" class=\"data row4 col5\" >0.648700</td>\n",
       "                        <td id=\"T_cfe5d142_cf52_11ea_ab50_1062e5f024e8row4_col6\" class=\"data row4 col6\" >0.476800</td>\n",
       "            </tr>\n",
       "            <tr>\n",
       "                        <th id=\"T_cfe5d142_cf52_11ea_ab50_1062e5f024e8level0_row5\" class=\"row_heading level0 row5\" >5</th>\n",
       "                        <td id=\"T_cfe5d142_cf52_11ea_ab50_1062e5f024e8row5_col0\" class=\"data row5 col0\" >Logistic Regression</td>\n",
       "                        <td id=\"T_cfe5d142_cf52_11ea_ab50_1062e5f024e8row5_col1\" class=\"data row5 col1\" >0.765300</td>\n",
       "                        <td id=\"T_cfe5d142_cf52_11ea_ab50_1062e5f024e8row5_col2\" class=\"data row5 col2\" >0.822400</td>\n",
       "                        <td id=\"T_cfe5d142_cf52_11ea_ab50_1062e5f024e8row5_col3\" class=\"data row5 col3\" >0.583300</td>\n",
       "                        <td id=\"T_cfe5d142_cf52_11ea_ab50_1062e5f024e8row5_col4\" class=\"data row5 col4\" >0.713200</td>\n",
       "                        <td id=\"T_cfe5d142_cf52_11ea_ab50_1062e5f024e8row5_col5\" class=\"data row5 col5\" >0.633700</td>\n",
       "                        <td id=\"T_cfe5d142_cf52_11ea_ab50_1062e5f024e8row5_col6\" class=\"data row5 col6\" >0.464500</td>\n",
       "            </tr>\n",
       "            <tr>\n",
       "                        <th id=\"T_cfe5d142_cf52_11ea_ab50_1062e5f024e8level0_row6\" class=\"row_heading level0 row6\" >6</th>\n",
       "                        <td id=\"T_cfe5d142_cf52_11ea_ab50_1062e5f024e8row6_col0\" class=\"data row6 col0\" >Gradient Boosting Classifier</td>\n",
       "                        <td id=\"T_cfe5d142_cf52_11ea_ab50_1062e5f024e8row6_col1\" class=\"data row6 col1\" >0.763400</td>\n",
       "                        <td id=\"T_cfe5d142_cf52_11ea_ab50_1062e5f024e8row6_col2\" class=\"data row6 col2\" >0.831400</td>\n",
       "                        <td id=\"T_cfe5d142_cf52_11ea_ab50_1062e5f024e8row6_col3\" class=\"data row6 col3\" >0.636500</td>\n",
       "                        <td id=\"T_cfe5d142_cf52_11ea_ab50_1062e5f024e8row6_col4\" class=\"data row6 col4\" >0.679400</td>\n",
       "                        <td id=\"T_cfe5d142_cf52_11ea_ab50_1062e5f024e8row6_col5\" class=\"data row6 col5\" >0.652800</td>\n",
       "                        <td id=\"T_cfe5d142_cf52_11ea_ab50_1062e5f024e8row6_col6\" class=\"data row6 col6\" >0.474500</td>\n",
       "            </tr>\n",
       "            <tr>\n",
       "                        <th id=\"T_cfe5d142_cf52_11ea_ab50_1062e5f024e8level0_row7\" class=\"row_heading level0 row7\" >7</th>\n",
       "                        <td id=\"T_cfe5d142_cf52_11ea_ab50_1062e5f024e8row7_col0\" class=\"data row7 col0\" >Extra Trees Classifier</td>\n",
       "                        <td id=\"T_cfe5d142_cf52_11ea_ab50_1062e5f024e8row7_col1\" class=\"data row7 col1\" >0.748700</td>\n",
       "                        <td id=\"T_cfe5d142_cf52_11ea_ab50_1062e5f024e8row7_col2\" class=\"data row7 col2\" >0.806100</td>\n",
       "                        <td id=\"T_cfe5d142_cf52_11ea_ab50_1062e5f024e8row7_col3\" class=\"data row7 col3\" >0.557000</td>\n",
       "                        <td id=\"T_cfe5d142_cf52_11ea_ab50_1062e5f024e8row7_col4\" class=\"data row7 col4\" >0.673600</td>\n",
       "                        <td id=\"T_cfe5d142_cf52_11ea_ab50_1062e5f024e8row7_col5\" class=\"data row7 col5\" >0.605300</td>\n",
       "                        <td id=\"T_cfe5d142_cf52_11ea_ab50_1062e5f024e8row7_col6\" class=\"data row7 col6\" >0.424300</td>\n",
       "            </tr>\n",
       "            <tr>\n",
       "                        <th id=\"T_cfe5d142_cf52_11ea_ab50_1062e5f024e8level0_row8\" class=\"row_heading level0 row8\" >8</th>\n",
       "                        <td id=\"T_cfe5d142_cf52_11ea_ab50_1062e5f024e8row8_col0\" class=\"data row8 col0\" >Random Forest Classifier</td>\n",
       "                        <td id=\"T_cfe5d142_cf52_11ea_ab50_1062e5f024e8row8_col1\" class=\"data row8 col1\" >0.748200</td>\n",
       "                        <td id=\"T_cfe5d142_cf52_11ea_ab50_1062e5f024e8row8_col2\" class=\"data row8 col2\" >0.804900</td>\n",
       "                        <td id=\"T_cfe5d142_cf52_11ea_ab50_1062e5f024e8row8_col3\" class=\"data row8 col3\" >0.534500</td>\n",
       "                        <td id=\"T_cfe5d142_cf52_11ea_ab50_1062e5f024e8row8_col4\" class=\"data row8 col4\" >0.695900</td>\n",
       "                        <td id=\"T_cfe5d142_cf52_11ea_ab50_1062e5f024e8row8_col5\" class=\"data row8 col5\" >0.599100</td>\n",
       "                        <td id=\"T_cfe5d142_cf52_11ea_ab50_1062e5f024e8row8_col6\" class=\"data row8 col6\" >0.420500</td>\n",
       "            </tr>\n",
       "            <tr>\n",
       "                        <th id=\"T_cfe5d142_cf52_11ea_ab50_1062e5f024e8level0_row9\" class=\"row_heading level0 row9\" >9</th>\n",
       "                        <td id=\"T_cfe5d142_cf52_11ea_ab50_1062e5f024e8row9_col0\" class=\"data row9 col0\" >K Neighbors Classifier</td>\n",
       "                        <td id=\"T_cfe5d142_cf52_11ea_ab50_1062e5f024e8row9_col1\" class=\"data row9 col1\" >0.741100</td>\n",
       "                        <td id=\"T_cfe5d142_cf52_11ea_ab50_1062e5f024e8row9_col2\" class=\"data row9 col2\" >0.769000</td>\n",
       "                        <td id=\"T_cfe5d142_cf52_11ea_ab50_1062e5f024e8row9_col3\" class=\"data row9 col3\" >0.604400</td>\n",
       "                        <td id=\"T_cfe5d142_cf52_11ea_ab50_1062e5f024e8row9_col4\" class=\"data row9 col4\" >0.641400</td>\n",
       "                        <td id=\"T_cfe5d142_cf52_11ea_ab50_1062e5f024e8row9_col5\" class=\"data row9 col5\" >0.614400</td>\n",
       "                        <td id=\"T_cfe5d142_cf52_11ea_ab50_1062e5f024e8row9_col6\" class=\"data row9 col6\" >0.421500</td>\n",
       "            </tr>\n",
       "            <tr>\n",
       "                        <th id=\"T_cfe5d142_cf52_11ea_ab50_1062e5f024e8level0_row10\" class=\"row_heading level0 row10\" >10</th>\n",
       "                        <td id=\"T_cfe5d142_cf52_11ea_ab50_1062e5f024e8row10_col0\" class=\"data row10 col0\" >Light Gradient Boosting Machine</td>\n",
       "                        <td id=\"T_cfe5d142_cf52_11ea_ab50_1062e5f024e8row10_col1\" class=\"data row10 col1\" >0.727800</td>\n",
       "                        <td id=\"T_cfe5d142_cf52_11ea_ab50_1062e5f024e8row10_col2\" class=\"data row10 col2\" >0.801700</td>\n",
       "                        <td id=\"T_cfe5d142_cf52_11ea_ab50_1062e5f024e8row10_col3\" class=\"data row10 col3\" >0.571600</td>\n",
       "                        <td id=\"T_cfe5d142_cf52_11ea_ab50_1062e5f024e8row10_col4\" class=\"data row10 col4\" >0.632800</td>\n",
       "                        <td id=\"T_cfe5d142_cf52_11ea_ab50_1062e5f024e8row10_col5\" class=\"data row10 col5\" >0.592000</td>\n",
       "                        <td id=\"T_cfe5d142_cf52_11ea_ab50_1062e5f024e8row10_col6\" class=\"data row10 col6\" >0.390700</td>\n",
       "            </tr>\n",
       "            <tr>\n",
       "                        <th id=\"T_cfe5d142_cf52_11ea_ab50_1062e5f024e8level0_row11\" class=\"row_heading level0 row11\" >11</th>\n",
       "                        <td id=\"T_cfe5d142_cf52_11ea_ab50_1062e5f024e8row11_col0\" class=\"data row11 col0\" >Decision Tree Classifier</td>\n",
       "                        <td id=\"T_cfe5d142_cf52_11ea_ab50_1062e5f024e8row11_col1\" class=\"data row11 col1\" >0.692900</td>\n",
       "                        <td id=\"T_cfe5d142_cf52_11ea_ab50_1062e5f024e8row11_col2\" class=\"data row11 col2\" >0.661200</td>\n",
       "                        <td id=\"T_cfe5d142_cf52_11ea_ab50_1062e5f024e8row11_col3\" class=\"data row11 col3\" >0.556700</td>\n",
       "                        <td id=\"T_cfe5d142_cf52_11ea_ab50_1062e5f024e8row11_col4\" class=\"data row11 col4\" >0.561000</td>\n",
       "                        <td id=\"T_cfe5d142_cf52_11ea_ab50_1062e5f024e8row11_col5\" class=\"data row11 col5\" >0.552300</td>\n",
       "                        <td id=\"T_cfe5d142_cf52_11ea_ab50_1062e5f024e8row11_col6\" class=\"data row11 col6\" >0.320600</td>\n",
       "            </tr>\n",
       "            <tr>\n",
       "                        <th id=\"T_cfe5d142_cf52_11ea_ab50_1062e5f024e8level0_row12\" class=\"row_heading level0 row12\" >12</th>\n",
       "                        <td id=\"T_cfe5d142_cf52_11ea_ab50_1062e5f024e8row12_col0\" class=\"data row12 col0\" >Naive Bayes</td>\n",
       "                        <td id=\"T_cfe5d142_cf52_11ea_ab50_1062e5f024e8row12_col1\" class=\"data row12 col1\" >0.674300</td>\n",
       "                        <td id=\"T_cfe5d142_cf52_11ea_ab50_1062e5f024e8row12_col2\" class=\"data row12 col2\" >0.748100</td>\n",
       "                        <td id=\"T_cfe5d142_cf52_11ea_ab50_1062e5f024e8row12_col3\" class=\"data row12 col3\" >0.172500</td>\n",
       "                        <td id=\"T_cfe5d142_cf52_11ea_ab50_1062e5f024e8row12_col4\" class=\"data row12 col4\" >0.638100</td>\n",
       "                        <td id=\"T_cfe5d142_cf52_11ea_ab50_1062e5f024e8row12_col5\" class=\"data row12 col5\" >0.265100</td>\n",
       "                        <td id=\"T_cfe5d142_cf52_11ea_ab50_1062e5f024e8row12_col6\" class=\"data row12 col6\" >0.137900</td>\n",
       "            </tr>\n",
       "            <tr>\n",
       "                        <th id=\"T_cfe5d142_cf52_11ea_ab50_1062e5f024e8level0_row13\" class=\"row_heading level0 row13\" >13</th>\n",
       "                        <td id=\"T_cfe5d142_cf52_11ea_ab50_1062e5f024e8row13_col0\" class=\"data row13 col0\" >Quadratic Discriminant Analysis</td>\n",
       "                        <td id=\"T_cfe5d142_cf52_11ea_ab50_1062e5f024e8row13_col1\" class=\"data row13 col1\" >0.609100</td>\n",
       "                        <td id=\"T_cfe5d142_cf52_11ea_ab50_1062e5f024e8row13_col2\" class=\"data row13 col2\" >0.636700</td>\n",
       "                        <td id=\"T_cfe5d142_cf52_11ea_ab50_1062e5f024e8row13_col3\" class=\"data row13 col3\" >0.410500</td>\n",
       "                        <td id=\"T_cfe5d142_cf52_11ea_ab50_1062e5f024e8row13_col4\" class=\"data row13 col4\" >0.470100</td>\n",
       "                        <td id=\"T_cfe5d142_cf52_11ea_ab50_1062e5f024e8row13_col5\" class=\"data row13 col5\" >0.368600</td>\n",
       "                        <td id=\"T_cfe5d142_cf52_11ea_ab50_1062e5f024e8row13_col6\" class=\"data row13 col6\" >0.131500</td>\n",
       "            </tr>\n",
       "            <tr>\n",
       "                        <th id=\"T_cfe5d142_cf52_11ea_ab50_1062e5f024e8level0_row14\" class=\"row_heading level0 row14\" >14</th>\n",
       "                        <td id=\"T_cfe5d142_cf52_11ea_ab50_1062e5f024e8row14_col0\" class=\"data row14 col0\" >SVM - Linear Kernel</td>\n",
       "                        <td id=\"T_cfe5d142_cf52_11ea_ab50_1062e5f024e8row14_col1\" class=\"data row14 col1\" >0.532200</td>\n",
       "                        <td id=\"T_cfe5d142_cf52_11ea_ab50_1062e5f024e8row14_col2\" class=\"data row14 col2\" >0.000000</td>\n",
       "                        <td id=\"T_cfe5d142_cf52_11ea_ab50_1062e5f024e8row14_col3\" class=\"data row14 col3\" >0.580400</td>\n",
       "                        <td id=\"T_cfe5d142_cf52_11ea_ab50_1062e5f024e8row14_col4\" class=\"data row14 col4\" >0.432700</td>\n",
       "                        <td id=\"T_cfe5d142_cf52_11ea_ab50_1062e5f024e8row14_col5\" class=\"data row14 col5\" >0.422900</td>\n",
       "                        <td id=\"T_cfe5d142_cf52_11ea_ab50_1062e5f024e8row14_col6\" class=\"data row14 col6\" >0.090900</td>\n",
       "            </tr>\n",
       "    </tbody></table>"
      ],
      "text/plain": [
       "<pandas.io.formats.style.Styler at 0x1e1c260c608>"
      ]
     },
     "execution_count": 8,
     "metadata": {},
     "output_type": "execute_result"
    }
   ],
   "source": [
    "compare_models()"
   ]
  },
  {
   "cell_type": "markdown",
   "metadata": {},
   "source": [
    "### Ada Boosting Classifier performing well"
   ]
  },
  {
   "cell_type": "markdown",
   "metadata": {},
   "source": [
    "## Regression Problem"
   ]
  },
  {
   "cell_type": "code",
   "execution_count": 10,
   "metadata": {},
   "outputs": [
    {
     "data": {
      "text/html": [
       "<div>\n",
       "<style scoped>\n",
       "    .dataframe tbody tr th:only-of-type {\n",
       "        vertical-align: middle;\n",
       "    }\n",
       "\n",
       "    .dataframe tbody tr th {\n",
       "        vertical-align: top;\n",
       "    }\n",
       "\n",
       "    .dataframe thead th {\n",
       "        text-align: right;\n",
       "    }\n",
       "</style>\n",
       "<table border=\"1\" class=\"dataframe\">\n",
       "  <thead>\n",
       "    <tr style=\"text-align: right;\">\n",
       "      <th></th>\n",
       "      <th>crim</th>\n",
       "      <th>zn</th>\n",
       "      <th>indus</th>\n",
       "      <th>chas</th>\n",
       "      <th>nox</th>\n",
       "      <th>rm</th>\n",
       "      <th>age</th>\n",
       "      <th>dis</th>\n",
       "      <th>rad</th>\n",
       "      <th>tax</th>\n",
       "      <th>ptratio</th>\n",
       "      <th>black</th>\n",
       "      <th>lstat</th>\n",
       "      <th>medv</th>\n",
       "    </tr>\n",
       "  </thead>\n",
       "  <tbody>\n",
       "    <tr>\n",
       "      <th>0</th>\n",
       "      <td>0.00632</td>\n",
       "      <td>18.0</td>\n",
       "      <td>2.31</td>\n",
       "      <td>0</td>\n",
       "      <td>0.538</td>\n",
       "      <td>6.575</td>\n",
       "      <td>65.2</td>\n",
       "      <td>4.0900</td>\n",
       "      <td>1</td>\n",
       "      <td>296</td>\n",
       "      <td>15.3</td>\n",
       "      <td>396.90</td>\n",
       "      <td>4.98</td>\n",
       "      <td>24.0</td>\n",
       "    </tr>\n",
       "    <tr>\n",
       "      <th>1</th>\n",
       "      <td>0.02731</td>\n",
       "      <td>0.0</td>\n",
       "      <td>7.07</td>\n",
       "      <td>0</td>\n",
       "      <td>0.469</td>\n",
       "      <td>6.421</td>\n",
       "      <td>78.9</td>\n",
       "      <td>4.9671</td>\n",
       "      <td>2</td>\n",
       "      <td>242</td>\n",
       "      <td>17.8</td>\n",
       "      <td>396.90</td>\n",
       "      <td>9.14</td>\n",
       "      <td>21.6</td>\n",
       "    </tr>\n",
       "    <tr>\n",
       "      <th>2</th>\n",
       "      <td>0.02729</td>\n",
       "      <td>0.0</td>\n",
       "      <td>7.07</td>\n",
       "      <td>0</td>\n",
       "      <td>0.469</td>\n",
       "      <td>7.185</td>\n",
       "      <td>61.1</td>\n",
       "      <td>4.9671</td>\n",
       "      <td>2</td>\n",
       "      <td>242</td>\n",
       "      <td>17.8</td>\n",
       "      <td>392.83</td>\n",
       "      <td>4.03</td>\n",
       "      <td>34.7</td>\n",
       "    </tr>\n",
       "    <tr>\n",
       "      <th>3</th>\n",
       "      <td>0.03237</td>\n",
       "      <td>0.0</td>\n",
       "      <td>2.18</td>\n",
       "      <td>0</td>\n",
       "      <td>0.458</td>\n",
       "      <td>6.998</td>\n",
       "      <td>45.8</td>\n",
       "      <td>6.0622</td>\n",
       "      <td>3</td>\n",
       "      <td>222</td>\n",
       "      <td>18.7</td>\n",
       "      <td>394.63</td>\n",
       "      <td>2.94</td>\n",
       "      <td>33.4</td>\n",
       "    </tr>\n",
       "    <tr>\n",
       "      <th>4</th>\n",
       "      <td>0.06905</td>\n",
       "      <td>0.0</td>\n",
       "      <td>2.18</td>\n",
       "      <td>0</td>\n",
       "      <td>0.458</td>\n",
       "      <td>7.147</td>\n",
       "      <td>54.2</td>\n",
       "      <td>6.0622</td>\n",
       "      <td>3</td>\n",
       "      <td>222</td>\n",
       "      <td>18.7</td>\n",
       "      <td>396.90</td>\n",
       "      <td>5.33</td>\n",
       "      <td>36.2</td>\n",
       "    </tr>\n",
       "  </tbody>\n",
       "</table>\n",
       "</div>"
      ],
      "text/plain": [
       "      crim    zn  indus  chas    nox     rm   age     dis  rad  tax  ptratio  \\\n",
       "0  0.00632  18.0   2.31     0  0.538  6.575  65.2  4.0900    1  296     15.3   \n",
       "1  0.02731   0.0   7.07     0  0.469  6.421  78.9  4.9671    2  242     17.8   \n",
       "2  0.02729   0.0   7.07     0  0.469  7.185  61.1  4.9671    2  242     17.8   \n",
       "3  0.03237   0.0   2.18     0  0.458  6.998  45.8  6.0622    3  222     18.7   \n",
       "4  0.06905   0.0   2.18     0  0.458  7.147  54.2  6.0622    3  222     18.7   \n",
       "\n",
       "    black  lstat  medv  \n",
       "0  396.90   4.98  24.0  \n",
       "1  396.90   9.14  21.6  \n",
       "2  392.83   4.03  34.7  \n",
       "3  394.63   2.94  33.4  \n",
       "4  396.90   5.33  36.2  "
      ]
     },
     "metadata": {},
     "output_type": "display_data"
    }
   ],
   "source": [
    "boston_df = get_data('boston')"
   ]
  },
  {
   "cell_type": "code",
   "execution_count": 11,
   "metadata": {},
   "outputs": [],
   "source": [
    "from pycaret.regression import *"
   ]
  },
  {
   "cell_type": "code",
   "execution_count": 12,
   "metadata": {},
   "outputs": [
    {
     "name": "stdout",
     "output_type": "stream",
     "text": [
      " \n",
      "Setup Succesfully Completed!\n"
     ]
    },
    {
     "data": {
      "text/html": [
       "<style  type=\"text/css\" >\n",
       "</style><table id=\"T_97b10e1e_cf53_11ea_8f8f_1062e5f024e8\" ><thead>    <tr>        <th class=\"blank level0\" ></th>        <th class=\"col_heading level0 col0\" >Description</th>        <th class=\"col_heading level0 col1\" >Value</th>    </tr></thead><tbody>\n",
       "                <tr>\n",
       "                        <th id=\"T_97b10e1e_cf53_11ea_8f8f_1062e5f024e8level0_row0\" class=\"row_heading level0 row0\" >0</th>\n",
       "                        <td id=\"T_97b10e1e_cf53_11ea_8f8f_1062e5f024e8row0_col0\" class=\"data row0 col0\" >session_id</td>\n",
       "                        <td id=\"T_97b10e1e_cf53_11ea_8f8f_1062e5f024e8row0_col1\" class=\"data row0 col1\" >802</td>\n",
       "            </tr>\n",
       "            <tr>\n",
       "                        <th id=\"T_97b10e1e_cf53_11ea_8f8f_1062e5f024e8level0_row1\" class=\"row_heading level0 row1\" >1</th>\n",
       "                        <td id=\"T_97b10e1e_cf53_11ea_8f8f_1062e5f024e8row1_col0\" class=\"data row1 col0\" >Transform Target </td>\n",
       "                        <td id=\"T_97b10e1e_cf53_11ea_8f8f_1062e5f024e8row1_col1\" class=\"data row1 col1\" >False</td>\n",
       "            </tr>\n",
       "            <tr>\n",
       "                        <th id=\"T_97b10e1e_cf53_11ea_8f8f_1062e5f024e8level0_row2\" class=\"row_heading level0 row2\" >2</th>\n",
       "                        <td id=\"T_97b10e1e_cf53_11ea_8f8f_1062e5f024e8row2_col0\" class=\"data row2 col0\" >Transform Target Method</td>\n",
       "                        <td id=\"T_97b10e1e_cf53_11ea_8f8f_1062e5f024e8row2_col1\" class=\"data row2 col1\" >None</td>\n",
       "            </tr>\n",
       "            <tr>\n",
       "                        <th id=\"T_97b10e1e_cf53_11ea_8f8f_1062e5f024e8level0_row3\" class=\"row_heading level0 row3\" >3</th>\n",
       "                        <td id=\"T_97b10e1e_cf53_11ea_8f8f_1062e5f024e8row3_col0\" class=\"data row3 col0\" >Original Data</td>\n",
       "                        <td id=\"T_97b10e1e_cf53_11ea_8f8f_1062e5f024e8row3_col1\" class=\"data row3 col1\" >(506, 14)</td>\n",
       "            </tr>\n",
       "            <tr>\n",
       "                        <th id=\"T_97b10e1e_cf53_11ea_8f8f_1062e5f024e8level0_row4\" class=\"row_heading level0 row4\" >4</th>\n",
       "                        <td id=\"T_97b10e1e_cf53_11ea_8f8f_1062e5f024e8row4_col0\" class=\"data row4 col0\" >Missing Values </td>\n",
       "                        <td id=\"T_97b10e1e_cf53_11ea_8f8f_1062e5f024e8row4_col1\" class=\"data row4 col1\" >False</td>\n",
       "            </tr>\n",
       "            <tr>\n",
       "                        <th id=\"T_97b10e1e_cf53_11ea_8f8f_1062e5f024e8level0_row5\" class=\"row_heading level0 row5\" >5</th>\n",
       "                        <td id=\"T_97b10e1e_cf53_11ea_8f8f_1062e5f024e8row5_col0\" class=\"data row5 col0\" >Numeric Features </td>\n",
       "                        <td id=\"T_97b10e1e_cf53_11ea_8f8f_1062e5f024e8row5_col1\" class=\"data row5 col1\" >11</td>\n",
       "            </tr>\n",
       "            <tr>\n",
       "                        <th id=\"T_97b10e1e_cf53_11ea_8f8f_1062e5f024e8level0_row6\" class=\"row_heading level0 row6\" >6</th>\n",
       "                        <td id=\"T_97b10e1e_cf53_11ea_8f8f_1062e5f024e8row6_col0\" class=\"data row6 col0\" >Categorical Features </td>\n",
       "                        <td id=\"T_97b10e1e_cf53_11ea_8f8f_1062e5f024e8row6_col1\" class=\"data row6 col1\" >2</td>\n",
       "            </tr>\n",
       "            <tr>\n",
       "                        <th id=\"T_97b10e1e_cf53_11ea_8f8f_1062e5f024e8level0_row7\" class=\"row_heading level0 row7\" >7</th>\n",
       "                        <td id=\"T_97b10e1e_cf53_11ea_8f8f_1062e5f024e8row7_col0\" class=\"data row7 col0\" >Ordinal Features </td>\n",
       "                        <td id=\"T_97b10e1e_cf53_11ea_8f8f_1062e5f024e8row7_col1\" class=\"data row7 col1\" >False</td>\n",
       "            </tr>\n",
       "            <tr>\n",
       "                        <th id=\"T_97b10e1e_cf53_11ea_8f8f_1062e5f024e8level0_row8\" class=\"row_heading level0 row8\" >8</th>\n",
       "                        <td id=\"T_97b10e1e_cf53_11ea_8f8f_1062e5f024e8row8_col0\" class=\"data row8 col0\" >High Cardinality Features </td>\n",
       "                        <td id=\"T_97b10e1e_cf53_11ea_8f8f_1062e5f024e8row8_col1\" class=\"data row8 col1\" >False</td>\n",
       "            </tr>\n",
       "            <tr>\n",
       "                        <th id=\"T_97b10e1e_cf53_11ea_8f8f_1062e5f024e8level0_row9\" class=\"row_heading level0 row9\" >9</th>\n",
       "                        <td id=\"T_97b10e1e_cf53_11ea_8f8f_1062e5f024e8row9_col0\" class=\"data row9 col0\" >High Cardinality Method </td>\n",
       "                        <td id=\"T_97b10e1e_cf53_11ea_8f8f_1062e5f024e8row9_col1\" class=\"data row9 col1\" >None</td>\n",
       "            </tr>\n",
       "            <tr>\n",
       "                        <th id=\"T_97b10e1e_cf53_11ea_8f8f_1062e5f024e8level0_row10\" class=\"row_heading level0 row10\" >10</th>\n",
       "                        <td id=\"T_97b10e1e_cf53_11ea_8f8f_1062e5f024e8row10_col0\" class=\"data row10 col0\" >Sampled Data</td>\n",
       "                        <td id=\"T_97b10e1e_cf53_11ea_8f8f_1062e5f024e8row10_col1\" class=\"data row10 col1\" >(506, 14)</td>\n",
       "            </tr>\n",
       "            <tr>\n",
       "                        <th id=\"T_97b10e1e_cf53_11ea_8f8f_1062e5f024e8level0_row11\" class=\"row_heading level0 row11\" >11</th>\n",
       "                        <td id=\"T_97b10e1e_cf53_11ea_8f8f_1062e5f024e8row11_col0\" class=\"data row11 col0\" >Transformed Train Set</td>\n",
       "                        <td id=\"T_97b10e1e_cf53_11ea_8f8f_1062e5f024e8row11_col1\" class=\"data row11 col1\" >(354, 21)</td>\n",
       "            </tr>\n",
       "            <tr>\n",
       "                        <th id=\"T_97b10e1e_cf53_11ea_8f8f_1062e5f024e8level0_row12\" class=\"row_heading level0 row12\" >12</th>\n",
       "                        <td id=\"T_97b10e1e_cf53_11ea_8f8f_1062e5f024e8row12_col0\" class=\"data row12 col0\" >Transformed Test Set</td>\n",
       "                        <td id=\"T_97b10e1e_cf53_11ea_8f8f_1062e5f024e8row12_col1\" class=\"data row12 col1\" >(152, 21)</td>\n",
       "            </tr>\n",
       "            <tr>\n",
       "                        <th id=\"T_97b10e1e_cf53_11ea_8f8f_1062e5f024e8level0_row13\" class=\"row_heading level0 row13\" >13</th>\n",
       "                        <td id=\"T_97b10e1e_cf53_11ea_8f8f_1062e5f024e8row13_col0\" class=\"data row13 col0\" >Numeric Imputer </td>\n",
       "                        <td id=\"T_97b10e1e_cf53_11ea_8f8f_1062e5f024e8row13_col1\" class=\"data row13 col1\" >mean</td>\n",
       "            </tr>\n",
       "            <tr>\n",
       "                        <th id=\"T_97b10e1e_cf53_11ea_8f8f_1062e5f024e8level0_row14\" class=\"row_heading level0 row14\" >14</th>\n",
       "                        <td id=\"T_97b10e1e_cf53_11ea_8f8f_1062e5f024e8row14_col0\" class=\"data row14 col0\" >Categorical Imputer </td>\n",
       "                        <td id=\"T_97b10e1e_cf53_11ea_8f8f_1062e5f024e8row14_col1\" class=\"data row14 col1\" >constant</td>\n",
       "            </tr>\n",
       "            <tr>\n",
       "                        <th id=\"T_97b10e1e_cf53_11ea_8f8f_1062e5f024e8level0_row15\" class=\"row_heading level0 row15\" >15</th>\n",
       "                        <td id=\"T_97b10e1e_cf53_11ea_8f8f_1062e5f024e8row15_col0\" class=\"data row15 col0\" >Normalize </td>\n",
       "                        <td id=\"T_97b10e1e_cf53_11ea_8f8f_1062e5f024e8row15_col1\" class=\"data row15 col1\" >False</td>\n",
       "            </tr>\n",
       "            <tr>\n",
       "                        <th id=\"T_97b10e1e_cf53_11ea_8f8f_1062e5f024e8level0_row16\" class=\"row_heading level0 row16\" >16</th>\n",
       "                        <td id=\"T_97b10e1e_cf53_11ea_8f8f_1062e5f024e8row16_col0\" class=\"data row16 col0\" >Normalize Method </td>\n",
       "                        <td id=\"T_97b10e1e_cf53_11ea_8f8f_1062e5f024e8row16_col1\" class=\"data row16 col1\" >None</td>\n",
       "            </tr>\n",
       "            <tr>\n",
       "                        <th id=\"T_97b10e1e_cf53_11ea_8f8f_1062e5f024e8level0_row17\" class=\"row_heading level0 row17\" >17</th>\n",
       "                        <td id=\"T_97b10e1e_cf53_11ea_8f8f_1062e5f024e8row17_col0\" class=\"data row17 col0\" >Transformation </td>\n",
       "                        <td id=\"T_97b10e1e_cf53_11ea_8f8f_1062e5f024e8row17_col1\" class=\"data row17 col1\" >False</td>\n",
       "            </tr>\n",
       "            <tr>\n",
       "                        <th id=\"T_97b10e1e_cf53_11ea_8f8f_1062e5f024e8level0_row18\" class=\"row_heading level0 row18\" >18</th>\n",
       "                        <td id=\"T_97b10e1e_cf53_11ea_8f8f_1062e5f024e8row18_col0\" class=\"data row18 col0\" >Transformation Method </td>\n",
       "                        <td id=\"T_97b10e1e_cf53_11ea_8f8f_1062e5f024e8row18_col1\" class=\"data row18 col1\" >None</td>\n",
       "            </tr>\n",
       "            <tr>\n",
       "                        <th id=\"T_97b10e1e_cf53_11ea_8f8f_1062e5f024e8level0_row19\" class=\"row_heading level0 row19\" >19</th>\n",
       "                        <td id=\"T_97b10e1e_cf53_11ea_8f8f_1062e5f024e8row19_col0\" class=\"data row19 col0\" >PCA </td>\n",
       "                        <td id=\"T_97b10e1e_cf53_11ea_8f8f_1062e5f024e8row19_col1\" class=\"data row19 col1\" >False</td>\n",
       "            </tr>\n",
       "            <tr>\n",
       "                        <th id=\"T_97b10e1e_cf53_11ea_8f8f_1062e5f024e8level0_row20\" class=\"row_heading level0 row20\" >20</th>\n",
       "                        <td id=\"T_97b10e1e_cf53_11ea_8f8f_1062e5f024e8row20_col0\" class=\"data row20 col0\" >PCA Method </td>\n",
       "                        <td id=\"T_97b10e1e_cf53_11ea_8f8f_1062e5f024e8row20_col1\" class=\"data row20 col1\" >None</td>\n",
       "            </tr>\n",
       "            <tr>\n",
       "                        <th id=\"T_97b10e1e_cf53_11ea_8f8f_1062e5f024e8level0_row21\" class=\"row_heading level0 row21\" >21</th>\n",
       "                        <td id=\"T_97b10e1e_cf53_11ea_8f8f_1062e5f024e8row21_col0\" class=\"data row21 col0\" >PCA Components </td>\n",
       "                        <td id=\"T_97b10e1e_cf53_11ea_8f8f_1062e5f024e8row21_col1\" class=\"data row21 col1\" >None</td>\n",
       "            </tr>\n",
       "            <tr>\n",
       "                        <th id=\"T_97b10e1e_cf53_11ea_8f8f_1062e5f024e8level0_row22\" class=\"row_heading level0 row22\" >22</th>\n",
       "                        <td id=\"T_97b10e1e_cf53_11ea_8f8f_1062e5f024e8row22_col0\" class=\"data row22 col0\" >Ignore Low Variance </td>\n",
       "                        <td id=\"T_97b10e1e_cf53_11ea_8f8f_1062e5f024e8row22_col1\" class=\"data row22 col1\" >False</td>\n",
       "            </tr>\n",
       "            <tr>\n",
       "                        <th id=\"T_97b10e1e_cf53_11ea_8f8f_1062e5f024e8level0_row23\" class=\"row_heading level0 row23\" >23</th>\n",
       "                        <td id=\"T_97b10e1e_cf53_11ea_8f8f_1062e5f024e8row23_col0\" class=\"data row23 col0\" >Combine Rare Levels </td>\n",
       "                        <td id=\"T_97b10e1e_cf53_11ea_8f8f_1062e5f024e8row23_col1\" class=\"data row23 col1\" >False</td>\n",
       "            </tr>\n",
       "            <tr>\n",
       "                        <th id=\"T_97b10e1e_cf53_11ea_8f8f_1062e5f024e8level0_row24\" class=\"row_heading level0 row24\" >24</th>\n",
       "                        <td id=\"T_97b10e1e_cf53_11ea_8f8f_1062e5f024e8row24_col0\" class=\"data row24 col0\" >Rare Level Threshold </td>\n",
       "                        <td id=\"T_97b10e1e_cf53_11ea_8f8f_1062e5f024e8row24_col1\" class=\"data row24 col1\" >None</td>\n",
       "            </tr>\n",
       "            <tr>\n",
       "                        <th id=\"T_97b10e1e_cf53_11ea_8f8f_1062e5f024e8level0_row25\" class=\"row_heading level0 row25\" >25</th>\n",
       "                        <td id=\"T_97b10e1e_cf53_11ea_8f8f_1062e5f024e8row25_col0\" class=\"data row25 col0\" >Numeric Binning </td>\n",
       "                        <td id=\"T_97b10e1e_cf53_11ea_8f8f_1062e5f024e8row25_col1\" class=\"data row25 col1\" >False</td>\n",
       "            </tr>\n",
       "            <tr>\n",
       "                        <th id=\"T_97b10e1e_cf53_11ea_8f8f_1062e5f024e8level0_row26\" class=\"row_heading level0 row26\" >26</th>\n",
       "                        <td id=\"T_97b10e1e_cf53_11ea_8f8f_1062e5f024e8row26_col0\" class=\"data row26 col0\" >Remove Outliers </td>\n",
       "                        <td id=\"T_97b10e1e_cf53_11ea_8f8f_1062e5f024e8row26_col1\" class=\"data row26 col1\" >False</td>\n",
       "            </tr>\n",
       "            <tr>\n",
       "                        <th id=\"T_97b10e1e_cf53_11ea_8f8f_1062e5f024e8level0_row27\" class=\"row_heading level0 row27\" >27</th>\n",
       "                        <td id=\"T_97b10e1e_cf53_11ea_8f8f_1062e5f024e8row27_col0\" class=\"data row27 col0\" >Outliers Threshold </td>\n",
       "                        <td id=\"T_97b10e1e_cf53_11ea_8f8f_1062e5f024e8row27_col1\" class=\"data row27 col1\" >None</td>\n",
       "            </tr>\n",
       "            <tr>\n",
       "                        <th id=\"T_97b10e1e_cf53_11ea_8f8f_1062e5f024e8level0_row28\" class=\"row_heading level0 row28\" >28</th>\n",
       "                        <td id=\"T_97b10e1e_cf53_11ea_8f8f_1062e5f024e8row28_col0\" class=\"data row28 col0\" >Remove Multicollinearity </td>\n",
       "                        <td id=\"T_97b10e1e_cf53_11ea_8f8f_1062e5f024e8row28_col1\" class=\"data row28 col1\" >False</td>\n",
       "            </tr>\n",
       "            <tr>\n",
       "                        <th id=\"T_97b10e1e_cf53_11ea_8f8f_1062e5f024e8level0_row29\" class=\"row_heading level0 row29\" >29</th>\n",
       "                        <td id=\"T_97b10e1e_cf53_11ea_8f8f_1062e5f024e8row29_col0\" class=\"data row29 col0\" >Multicollinearity Threshold </td>\n",
       "                        <td id=\"T_97b10e1e_cf53_11ea_8f8f_1062e5f024e8row29_col1\" class=\"data row29 col1\" >None</td>\n",
       "            </tr>\n",
       "            <tr>\n",
       "                        <th id=\"T_97b10e1e_cf53_11ea_8f8f_1062e5f024e8level0_row30\" class=\"row_heading level0 row30\" >30</th>\n",
       "                        <td id=\"T_97b10e1e_cf53_11ea_8f8f_1062e5f024e8row30_col0\" class=\"data row30 col0\" >Clustering </td>\n",
       "                        <td id=\"T_97b10e1e_cf53_11ea_8f8f_1062e5f024e8row30_col1\" class=\"data row30 col1\" >False</td>\n",
       "            </tr>\n",
       "            <tr>\n",
       "                        <th id=\"T_97b10e1e_cf53_11ea_8f8f_1062e5f024e8level0_row31\" class=\"row_heading level0 row31\" >31</th>\n",
       "                        <td id=\"T_97b10e1e_cf53_11ea_8f8f_1062e5f024e8row31_col0\" class=\"data row31 col0\" >Clustering Iteration </td>\n",
       "                        <td id=\"T_97b10e1e_cf53_11ea_8f8f_1062e5f024e8row31_col1\" class=\"data row31 col1\" >None</td>\n",
       "            </tr>\n",
       "            <tr>\n",
       "                        <th id=\"T_97b10e1e_cf53_11ea_8f8f_1062e5f024e8level0_row32\" class=\"row_heading level0 row32\" >32</th>\n",
       "                        <td id=\"T_97b10e1e_cf53_11ea_8f8f_1062e5f024e8row32_col0\" class=\"data row32 col0\" >Polynomial Features </td>\n",
       "                        <td id=\"T_97b10e1e_cf53_11ea_8f8f_1062e5f024e8row32_col1\" class=\"data row32 col1\" >False</td>\n",
       "            </tr>\n",
       "            <tr>\n",
       "                        <th id=\"T_97b10e1e_cf53_11ea_8f8f_1062e5f024e8level0_row33\" class=\"row_heading level0 row33\" >33</th>\n",
       "                        <td id=\"T_97b10e1e_cf53_11ea_8f8f_1062e5f024e8row33_col0\" class=\"data row33 col0\" >Polynomial Degree </td>\n",
       "                        <td id=\"T_97b10e1e_cf53_11ea_8f8f_1062e5f024e8row33_col1\" class=\"data row33 col1\" >None</td>\n",
       "            </tr>\n",
       "            <tr>\n",
       "                        <th id=\"T_97b10e1e_cf53_11ea_8f8f_1062e5f024e8level0_row34\" class=\"row_heading level0 row34\" >34</th>\n",
       "                        <td id=\"T_97b10e1e_cf53_11ea_8f8f_1062e5f024e8row34_col0\" class=\"data row34 col0\" >Trignometry Features </td>\n",
       "                        <td id=\"T_97b10e1e_cf53_11ea_8f8f_1062e5f024e8row34_col1\" class=\"data row34 col1\" >False</td>\n",
       "            </tr>\n",
       "            <tr>\n",
       "                        <th id=\"T_97b10e1e_cf53_11ea_8f8f_1062e5f024e8level0_row35\" class=\"row_heading level0 row35\" >35</th>\n",
       "                        <td id=\"T_97b10e1e_cf53_11ea_8f8f_1062e5f024e8row35_col0\" class=\"data row35 col0\" >Polynomial Threshold </td>\n",
       "                        <td id=\"T_97b10e1e_cf53_11ea_8f8f_1062e5f024e8row35_col1\" class=\"data row35 col1\" >None</td>\n",
       "            </tr>\n",
       "            <tr>\n",
       "                        <th id=\"T_97b10e1e_cf53_11ea_8f8f_1062e5f024e8level0_row36\" class=\"row_heading level0 row36\" >36</th>\n",
       "                        <td id=\"T_97b10e1e_cf53_11ea_8f8f_1062e5f024e8row36_col0\" class=\"data row36 col0\" >Group Features </td>\n",
       "                        <td id=\"T_97b10e1e_cf53_11ea_8f8f_1062e5f024e8row36_col1\" class=\"data row36 col1\" >False</td>\n",
       "            </tr>\n",
       "            <tr>\n",
       "                        <th id=\"T_97b10e1e_cf53_11ea_8f8f_1062e5f024e8level0_row37\" class=\"row_heading level0 row37\" >37</th>\n",
       "                        <td id=\"T_97b10e1e_cf53_11ea_8f8f_1062e5f024e8row37_col0\" class=\"data row37 col0\" >Feature Selection </td>\n",
       "                        <td id=\"T_97b10e1e_cf53_11ea_8f8f_1062e5f024e8row37_col1\" class=\"data row37 col1\" >False</td>\n",
       "            </tr>\n",
       "            <tr>\n",
       "                        <th id=\"T_97b10e1e_cf53_11ea_8f8f_1062e5f024e8level0_row38\" class=\"row_heading level0 row38\" >38</th>\n",
       "                        <td id=\"T_97b10e1e_cf53_11ea_8f8f_1062e5f024e8row38_col0\" class=\"data row38 col0\" >Features Selection Threshold </td>\n",
       "                        <td id=\"T_97b10e1e_cf53_11ea_8f8f_1062e5f024e8row38_col1\" class=\"data row38 col1\" >None</td>\n",
       "            </tr>\n",
       "            <tr>\n",
       "                        <th id=\"T_97b10e1e_cf53_11ea_8f8f_1062e5f024e8level0_row39\" class=\"row_heading level0 row39\" >39</th>\n",
       "                        <td id=\"T_97b10e1e_cf53_11ea_8f8f_1062e5f024e8row39_col0\" class=\"data row39 col0\" >Feature Interaction </td>\n",
       "                        <td id=\"T_97b10e1e_cf53_11ea_8f8f_1062e5f024e8row39_col1\" class=\"data row39 col1\" >False</td>\n",
       "            </tr>\n",
       "            <tr>\n",
       "                        <th id=\"T_97b10e1e_cf53_11ea_8f8f_1062e5f024e8level0_row40\" class=\"row_heading level0 row40\" >40</th>\n",
       "                        <td id=\"T_97b10e1e_cf53_11ea_8f8f_1062e5f024e8row40_col0\" class=\"data row40 col0\" >Feature Ratio </td>\n",
       "                        <td id=\"T_97b10e1e_cf53_11ea_8f8f_1062e5f024e8row40_col1\" class=\"data row40 col1\" >False</td>\n",
       "            </tr>\n",
       "            <tr>\n",
       "                        <th id=\"T_97b10e1e_cf53_11ea_8f8f_1062e5f024e8level0_row41\" class=\"row_heading level0 row41\" >41</th>\n",
       "                        <td id=\"T_97b10e1e_cf53_11ea_8f8f_1062e5f024e8row41_col0\" class=\"data row41 col0\" >Interaction Threshold </td>\n",
       "                        <td id=\"T_97b10e1e_cf53_11ea_8f8f_1062e5f024e8row41_col1\" class=\"data row41 col1\" >None</td>\n",
       "            </tr>\n",
       "    </tbody></table>"
      ],
      "text/plain": [
       "<pandas.io.formats.style.Styler at 0x1e1c56b2a48>"
      ]
     },
     "metadata": {},
     "output_type": "display_data"
    }
   ],
   "source": [
    "reg = setup(data=boston_df,target = 'medv')"
   ]
  },
  {
   "cell_type": "code",
   "execution_count": 13,
   "metadata": {},
   "outputs": [
    {
     "data": {
      "text/html": [
       "<style  type=\"text/css\" >\n",
       "    #T_1401e21e_cf54_11ea_9c91_1062e5f024e8 th {\n",
       "          text-align: left;\n",
       "    }    #T_1401e21e_cf54_11ea_9c91_1062e5f024e8row0_col0 {\n",
       "            text-align:  left;\n",
       "        }    #T_1401e21e_cf54_11ea_9c91_1062e5f024e8row0_col1 {\n",
       "            background-color:  yellow;\n",
       "            text-align:  left;\n",
       "        }    #T_1401e21e_cf54_11ea_9c91_1062e5f024e8row0_col2 {\n",
       "            background-color:  yellow;\n",
       "            text-align:  left;\n",
       "        }    #T_1401e21e_cf54_11ea_9c91_1062e5f024e8row0_col3 {\n",
       "            background-color:  yellow;\n",
       "            text-align:  left;\n",
       "        }    #T_1401e21e_cf54_11ea_9c91_1062e5f024e8row0_col4 {\n",
       "            text-align:  left;\n",
       "        }    #T_1401e21e_cf54_11ea_9c91_1062e5f024e8row0_col5 {\n",
       "            : ;\n",
       "            text-align:  left;\n",
       "        }    #T_1401e21e_cf54_11ea_9c91_1062e5f024e8row0_col6 {\n",
       "            : ;\n",
       "            text-align:  left;\n",
       "        }    #T_1401e21e_cf54_11ea_9c91_1062e5f024e8row1_col0 {\n",
       "            text-align:  left;\n",
       "        }    #T_1401e21e_cf54_11ea_9c91_1062e5f024e8row1_col1 {\n",
       "            : ;\n",
       "            text-align:  left;\n",
       "        }    #T_1401e21e_cf54_11ea_9c91_1062e5f024e8row1_col2 {\n",
       "            : ;\n",
       "            text-align:  left;\n",
       "        }    #T_1401e21e_cf54_11ea_9c91_1062e5f024e8row1_col3 {\n",
       "            : ;\n",
       "            text-align:  left;\n",
       "        }    #T_1401e21e_cf54_11ea_9c91_1062e5f024e8row1_col4 {\n",
       "            text-align:  left;\n",
       "        }    #T_1401e21e_cf54_11ea_9c91_1062e5f024e8row1_col5 {\n",
       "            background-color:  yellow;\n",
       "            text-align:  left;\n",
       "        }    #T_1401e21e_cf54_11ea_9c91_1062e5f024e8row1_col6 {\n",
       "            background-color:  yellow;\n",
       "            text-align:  left;\n",
       "        }    #T_1401e21e_cf54_11ea_9c91_1062e5f024e8row2_col0 {\n",
       "            text-align:  left;\n",
       "        }    #T_1401e21e_cf54_11ea_9c91_1062e5f024e8row2_col1 {\n",
       "            : ;\n",
       "            text-align:  left;\n",
       "        }    #T_1401e21e_cf54_11ea_9c91_1062e5f024e8row2_col2 {\n",
       "            : ;\n",
       "            text-align:  left;\n",
       "        }    #T_1401e21e_cf54_11ea_9c91_1062e5f024e8row2_col3 {\n",
       "            : ;\n",
       "            text-align:  left;\n",
       "        }    #T_1401e21e_cf54_11ea_9c91_1062e5f024e8row2_col4 {\n",
       "            text-align:  left;\n",
       "        }    #T_1401e21e_cf54_11ea_9c91_1062e5f024e8row2_col5 {\n",
       "            : ;\n",
       "            text-align:  left;\n",
       "        }    #T_1401e21e_cf54_11ea_9c91_1062e5f024e8row2_col6 {\n",
       "            : ;\n",
       "            text-align:  left;\n",
       "        }    #T_1401e21e_cf54_11ea_9c91_1062e5f024e8row3_col0 {\n",
       "            text-align:  left;\n",
       "        }    #T_1401e21e_cf54_11ea_9c91_1062e5f024e8row3_col1 {\n",
       "            : ;\n",
       "            text-align:  left;\n",
       "        }    #T_1401e21e_cf54_11ea_9c91_1062e5f024e8row3_col2 {\n",
       "            : ;\n",
       "            text-align:  left;\n",
       "        }    #T_1401e21e_cf54_11ea_9c91_1062e5f024e8row3_col3 {\n",
       "            : ;\n",
       "            text-align:  left;\n",
       "        }    #T_1401e21e_cf54_11ea_9c91_1062e5f024e8row3_col4 {\n",
       "            text-align:  left;\n",
       "        }    #T_1401e21e_cf54_11ea_9c91_1062e5f024e8row3_col5 {\n",
       "            : ;\n",
       "            text-align:  left;\n",
       "        }    #T_1401e21e_cf54_11ea_9c91_1062e5f024e8row3_col6 {\n",
       "            : ;\n",
       "            text-align:  left;\n",
       "        }    #T_1401e21e_cf54_11ea_9c91_1062e5f024e8row4_col0 {\n",
       "            text-align:  left;\n",
       "        }    #T_1401e21e_cf54_11ea_9c91_1062e5f024e8row4_col1 {\n",
       "            : ;\n",
       "            text-align:  left;\n",
       "        }    #T_1401e21e_cf54_11ea_9c91_1062e5f024e8row4_col2 {\n",
       "            : ;\n",
       "            text-align:  left;\n",
       "        }    #T_1401e21e_cf54_11ea_9c91_1062e5f024e8row4_col3 {\n",
       "            : ;\n",
       "            text-align:  left;\n",
       "        }    #T_1401e21e_cf54_11ea_9c91_1062e5f024e8row4_col4 {\n",
       "            text-align:  left;\n",
       "        }    #T_1401e21e_cf54_11ea_9c91_1062e5f024e8row4_col5 {\n",
       "            : ;\n",
       "            text-align:  left;\n",
       "        }    #T_1401e21e_cf54_11ea_9c91_1062e5f024e8row4_col6 {\n",
       "            : ;\n",
       "            text-align:  left;\n",
       "        }    #T_1401e21e_cf54_11ea_9c91_1062e5f024e8row5_col0 {\n",
       "            text-align:  left;\n",
       "        }    #T_1401e21e_cf54_11ea_9c91_1062e5f024e8row5_col1 {\n",
       "            : ;\n",
       "            text-align:  left;\n",
       "        }    #T_1401e21e_cf54_11ea_9c91_1062e5f024e8row5_col2 {\n",
       "            : ;\n",
       "            text-align:  left;\n",
       "        }    #T_1401e21e_cf54_11ea_9c91_1062e5f024e8row5_col3 {\n",
       "            : ;\n",
       "            text-align:  left;\n",
       "        }    #T_1401e21e_cf54_11ea_9c91_1062e5f024e8row5_col4 {\n",
       "            text-align:  left;\n",
       "        }    #T_1401e21e_cf54_11ea_9c91_1062e5f024e8row5_col5 {\n",
       "            : ;\n",
       "            text-align:  left;\n",
       "        }    #T_1401e21e_cf54_11ea_9c91_1062e5f024e8row5_col6 {\n",
       "            : ;\n",
       "            text-align:  left;\n",
       "        }    #T_1401e21e_cf54_11ea_9c91_1062e5f024e8row6_col0 {\n",
       "            text-align:  left;\n",
       "        }    #T_1401e21e_cf54_11ea_9c91_1062e5f024e8row6_col1 {\n",
       "            : ;\n",
       "            text-align:  left;\n",
       "        }    #T_1401e21e_cf54_11ea_9c91_1062e5f024e8row6_col2 {\n",
       "            : ;\n",
       "            text-align:  left;\n",
       "        }    #T_1401e21e_cf54_11ea_9c91_1062e5f024e8row6_col3 {\n",
       "            : ;\n",
       "            text-align:  left;\n",
       "        }    #T_1401e21e_cf54_11ea_9c91_1062e5f024e8row6_col4 {\n",
       "            text-align:  left;\n",
       "        }    #T_1401e21e_cf54_11ea_9c91_1062e5f024e8row6_col5 {\n",
       "            : ;\n",
       "            text-align:  left;\n",
       "        }    #T_1401e21e_cf54_11ea_9c91_1062e5f024e8row6_col6 {\n",
       "            : ;\n",
       "            text-align:  left;\n",
       "        }    #T_1401e21e_cf54_11ea_9c91_1062e5f024e8row7_col0 {\n",
       "            text-align:  left;\n",
       "        }    #T_1401e21e_cf54_11ea_9c91_1062e5f024e8row7_col1 {\n",
       "            : ;\n",
       "            text-align:  left;\n",
       "        }    #T_1401e21e_cf54_11ea_9c91_1062e5f024e8row7_col2 {\n",
       "            : ;\n",
       "            text-align:  left;\n",
       "        }    #T_1401e21e_cf54_11ea_9c91_1062e5f024e8row7_col3 {\n",
       "            : ;\n",
       "            text-align:  left;\n",
       "        }    #T_1401e21e_cf54_11ea_9c91_1062e5f024e8row7_col4 {\n",
       "            text-align:  left;\n",
       "        }    #T_1401e21e_cf54_11ea_9c91_1062e5f024e8row7_col5 {\n",
       "            : ;\n",
       "            text-align:  left;\n",
       "        }    #T_1401e21e_cf54_11ea_9c91_1062e5f024e8row7_col6 {\n",
       "            : ;\n",
       "            text-align:  left;\n",
       "        }    #T_1401e21e_cf54_11ea_9c91_1062e5f024e8row8_col0 {\n",
       "            text-align:  left;\n",
       "        }    #T_1401e21e_cf54_11ea_9c91_1062e5f024e8row8_col1 {\n",
       "            : ;\n",
       "            text-align:  left;\n",
       "        }    #T_1401e21e_cf54_11ea_9c91_1062e5f024e8row8_col2 {\n",
       "            : ;\n",
       "            text-align:  left;\n",
       "        }    #T_1401e21e_cf54_11ea_9c91_1062e5f024e8row8_col3 {\n",
       "            : ;\n",
       "            text-align:  left;\n",
       "        }    #T_1401e21e_cf54_11ea_9c91_1062e5f024e8row8_col4 {\n",
       "            text-align:  left;\n",
       "        }    #T_1401e21e_cf54_11ea_9c91_1062e5f024e8row8_col5 {\n",
       "            : ;\n",
       "            text-align:  left;\n",
       "        }    #T_1401e21e_cf54_11ea_9c91_1062e5f024e8row8_col6 {\n",
       "            : ;\n",
       "            text-align:  left;\n",
       "        }    #T_1401e21e_cf54_11ea_9c91_1062e5f024e8row9_col0 {\n",
       "            text-align:  left;\n",
       "        }    #T_1401e21e_cf54_11ea_9c91_1062e5f024e8row9_col1 {\n",
       "            : ;\n",
       "            text-align:  left;\n",
       "        }    #T_1401e21e_cf54_11ea_9c91_1062e5f024e8row9_col2 {\n",
       "            : ;\n",
       "            text-align:  left;\n",
       "        }    #T_1401e21e_cf54_11ea_9c91_1062e5f024e8row9_col3 {\n",
       "            : ;\n",
       "            text-align:  left;\n",
       "        }    #T_1401e21e_cf54_11ea_9c91_1062e5f024e8row9_col4 {\n",
       "            text-align:  left;\n",
       "        }    #T_1401e21e_cf54_11ea_9c91_1062e5f024e8row9_col5 {\n",
       "            : ;\n",
       "            text-align:  left;\n",
       "        }    #T_1401e21e_cf54_11ea_9c91_1062e5f024e8row9_col6 {\n",
       "            : ;\n",
       "            text-align:  left;\n",
       "        }    #T_1401e21e_cf54_11ea_9c91_1062e5f024e8row10_col0 {\n",
       "            text-align:  left;\n",
       "        }    #T_1401e21e_cf54_11ea_9c91_1062e5f024e8row10_col1 {\n",
       "            : ;\n",
       "            text-align:  left;\n",
       "        }    #T_1401e21e_cf54_11ea_9c91_1062e5f024e8row10_col2 {\n",
       "            : ;\n",
       "            text-align:  left;\n",
       "        }    #T_1401e21e_cf54_11ea_9c91_1062e5f024e8row10_col3 {\n",
       "            : ;\n",
       "            text-align:  left;\n",
       "        }    #T_1401e21e_cf54_11ea_9c91_1062e5f024e8row10_col4 {\n",
       "            text-align:  left;\n",
       "        }    #T_1401e21e_cf54_11ea_9c91_1062e5f024e8row10_col5 {\n",
       "            : ;\n",
       "            text-align:  left;\n",
       "        }    #T_1401e21e_cf54_11ea_9c91_1062e5f024e8row10_col6 {\n",
       "            : ;\n",
       "            text-align:  left;\n",
       "        }    #T_1401e21e_cf54_11ea_9c91_1062e5f024e8row11_col0 {\n",
       "            text-align:  left;\n",
       "        }    #T_1401e21e_cf54_11ea_9c91_1062e5f024e8row11_col1 {\n",
       "            : ;\n",
       "            text-align:  left;\n",
       "        }    #T_1401e21e_cf54_11ea_9c91_1062e5f024e8row11_col2 {\n",
       "            : ;\n",
       "            text-align:  left;\n",
       "        }    #T_1401e21e_cf54_11ea_9c91_1062e5f024e8row11_col3 {\n",
       "            : ;\n",
       "            text-align:  left;\n",
       "        }    #T_1401e21e_cf54_11ea_9c91_1062e5f024e8row11_col4 {\n",
       "            text-align:  left;\n",
       "        }    #T_1401e21e_cf54_11ea_9c91_1062e5f024e8row11_col5 {\n",
       "            : ;\n",
       "            text-align:  left;\n",
       "        }    #T_1401e21e_cf54_11ea_9c91_1062e5f024e8row11_col6 {\n",
       "            : ;\n",
       "            text-align:  left;\n",
       "        }    #T_1401e21e_cf54_11ea_9c91_1062e5f024e8row12_col0 {\n",
       "            text-align:  left;\n",
       "        }    #T_1401e21e_cf54_11ea_9c91_1062e5f024e8row12_col1 {\n",
       "            : ;\n",
       "            text-align:  left;\n",
       "        }    #T_1401e21e_cf54_11ea_9c91_1062e5f024e8row12_col2 {\n",
       "            : ;\n",
       "            text-align:  left;\n",
       "        }    #T_1401e21e_cf54_11ea_9c91_1062e5f024e8row12_col3 {\n",
       "            : ;\n",
       "            text-align:  left;\n",
       "        }    #T_1401e21e_cf54_11ea_9c91_1062e5f024e8row12_col4 {\n",
       "            text-align:  left;\n",
       "        }    #T_1401e21e_cf54_11ea_9c91_1062e5f024e8row12_col5 {\n",
       "            : ;\n",
       "            text-align:  left;\n",
       "        }    #T_1401e21e_cf54_11ea_9c91_1062e5f024e8row12_col6 {\n",
       "            : ;\n",
       "            text-align:  left;\n",
       "        }    #T_1401e21e_cf54_11ea_9c91_1062e5f024e8row13_col0 {\n",
       "            text-align:  left;\n",
       "        }    #T_1401e21e_cf54_11ea_9c91_1062e5f024e8row13_col1 {\n",
       "            : ;\n",
       "            text-align:  left;\n",
       "        }    #T_1401e21e_cf54_11ea_9c91_1062e5f024e8row13_col2 {\n",
       "            : ;\n",
       "            text-align:  left;\n",
       "        }    #T_1401e21e_cf54_11ea_9c91_1062e5f024e8row13_col3 {\n",
       "            : ;\n",
       "            text-align:  left;\n",
       "        }    #T_1401e21e_cf54_11ea_9c91_1062e5f024e8row13_col4 {\n",
       "            text-align:  left;\n",
       "        }    #T_1401e21e_cf54_11ea_9c91_1062e5f024e8row13_col5 {\n",
       "            : ;\n",
       "            text-align:  left;\n",
       "        }    #T_1401e21e_cf54_11ea_9c91_1062e5f024e8row13_col6 {\n",
       "            : ;\n",
       "            text-align:  left;\n",
       "        }    #T_1401e21e_cf54_11ea_9c91_1062e5f024e8row14_col0 {\n",
       "            text-align:  left;\n",
       "        }    #T_1401e21e_cf54_11ea_9c91_1062e5f024e8row14_col1 {\n",
       "            : ;\n",
       "            text-align:  left;\n",
       "        }    #T_1401e21e_cf54_11ea_9c91_1062e5f024e8row14_col2 {\n",
       "            : ;\n",
       "            text-align:  left;\n",
       "        }    #T_1401e21e_cf54_11ea_9c91_1062e5f024e8row14_col3 {\n",
       "            : ;\n",
       "            text-align:  left;\n",
       "        }    #T_1401e21e_cf54_11ea_9c91_1062e5f024e8row14_col4 {\n",
       "            text-align:  left;\n",
       "        }    #T_1401e21e_cf54_11ea_9c91_1062e5f024e8row14_col5 {\n",
       "            : ;\n",
       "            text-align:  left;\n",
       "        }    #T_1401e21e_cf54_11ea_9c91_1062e5f024e8row14_col6 {\n",
       "            : ;\n",
       "            text-align:  left;\n",
       "        }    #T_1401e21e_cf54_11ea_9c91_1062e5f024e8row15_col0 {\n",
       "            text-align:  left;\n",
       "        }    #T_1401e21e_cf54_11ea_9c91_1062e5f024e8row15_col1 {\n",
       "            : ;\n",
       "            text-align:  left;\n",
       "        }    #T_1401e21e_cf54_11ea_9c91_1062e5f024e8row15_col2 {\n",
       "            : ;\n",
       "            text-align:  left;\n",
       "        }    #T_1401e21e_cf54_11ea_9c91_1062e5f024e8row15_col3 {\n",
       "            : ;\n",
       "            text-align:  left;\n",
       "        }    #T_1401e21e_cf54_11ea_9c91_1062e5f024e8row15_col4 {\n",
       "            text-align:  left;\n",
       "        }    #T_1401e21e_cf54_11ea_9c91_1062e5f024e8row15_col5 {\n",
       "            : ;\n",
       "            text-align:  left;\n",
       "        }    #T_1401e21e_cf54_11ea_9c91_1062e5f024e8row15_col6 {\n",
       "            : ;\n",
       "            text-align:  left;\n",
       "        }    #T_1401e21e_cf54_11ea_9c91_1062e5f024e8row16_col0 {\n",
       "            text-align:  left;\n",
       "        }    #T_1401e21e_cf54_11ea_9c91_1062e5f024e8row16_col1 {\n",
       "            : ;\n",
       "            text-align:  left;\n",
       "        }    #T_1401e21e_cf54_11ea_9c91_1062e5f024e8row16_col2 {\n",
       "            : ;\n",
       "            text-align:  left;\n",
       "        }    #T_1401e21e_cf54_11ea_9c91_1062e5f024e8row16_col3 {\n",
       "            : ;\n",
       "            text-align:  left;\n",
       "        }    #T_1401e21e_cf54_11ea_9c91_1062e5f024e8row16_col4 {\n",
       "            text-align:  left;\n",
       "        }    #T_1401e21e_cf54_11ea_9c91_1062e5f024e8row16_col5 {\n",
       "            : ;\n",
       "            text-align:  left;\n",
       "        }    #T_1401e21e_cf54_11ea_9c91_1062e5f024e8row16_col6 {\n",
       "            : ;\n",
       "            text-align:  left;\n",
       "        }    #T_1401e21e_cf54_11ea_9c91_1062e5f024e8row17_col0 {\n",
       "            text-align:  left;\n",
       "        }    #T_1401e21e_cf54_11ea_9c91_1062e5f024e8row17_col1 {\n",
       "            : ;\n",
       "            text-align:  left;\n",
       "        }    #T_1401e21e_cf54_11ea_9c91_1062e5f024e8row17_col2 {\n",
       "            : ;\n",
       "            text-align:  left;\n",
       "        }    #T_1401e21e_cf54_11ea_9c91_1062e5f024e8row17_col3 {\n",
       "            : ;\n",
       "            text-align:  left;\n",
       "        }    #T_1401e21e_cf54_11ea_9c91_1062e5f024e8row17_col4 {\n",
       "            text-align:  left;\n",
       "        }    #T_1401e21e_cf54_11ea_9c91_1062e5f024e8row17_col5 {\n",
       "            : ;\n",
       "            text-align:  left;\n",
       "        }    #T_1401e21e_cf54_11ea_9c91_1062e5f024e8row17_col6 {\n",
       "            : ;\n",
       "            text-align:  left;\n",
       "        }    #T_1401e21e_cf54_11ea_9c91_1062e5f024e8row18_col0 {\n",
       "            text-align:  left;\n",
       "        }    #T_1401e21e_cf54_11ea_9c91_1062e5f024e8row18_col1 {\n",
       "            : ;\n",
       "            text-align:  left;\n",
       "        }    #T_1401e21e_cf54_11ea_9c91_1062e5f024e8row18_col2 {\n",
       "            : ;\n",
       "            text-align:  left;\n",
       "        }    #T_1401e21e_cf54_11ea_9c91_1062e5f024e8row18_col3 {\n",
       "            : ;\n",
       "            text-align:  left;\n",
       "        }    #T_1401e21e_cf54_11ea_9c91_1062e5f024e8row18_col4 {\n",
       "            text-align:  left;\n",
       "        }    #T_1401e21e_cf54_11ea_9c91_1062e5f024e8row18_col5 {\n",
       "            : ;\n",
       "            text-align:  left;\n",
       "        }    #T_1401e21e_cf54_11ea_9c91_1062e5f024e8row18_col6 {\n",
       "            : ;\n",
       "            text-align:  left;\n",
       "        }    #T_1401e21e_cf54_11ea_9c91_1062e5f024e8row19_col0 {\n",
       "            text-align:  left;\n",
       "        }    #T_1401e21e_cf54_11ea_9c91_1062e5f024e8row19_col1 {\n",
       "            : ;\n",
       "            text-align:  left;\n",
       "        }    #T_1401e21e_cf54_11ea_9c91_1062e5f024e8row19_col2 {\n",
       "            : ;\n",
       "            text-align:  left;\n",
       "        }    #T_1401e21e_cf54_11ea_9c91_1062e5f024e8row19_col3 {\n",
       "            : ;\n",
       "            text-align:  left;\n",
       "        }    #T_1401e21e_cf54_11ea_9c91_1062e5f024e8row19_col4 {\n",
       "            text-align:  left;\n",
       "        }    #T_1401e21e_cf54_11ea_9c91_1062e5f024e8row19_col5 {\n",
       "            : ;\n",
       "            text-align:  left;\n",
       "        }    #T_1401e21e_cf54_11ea_9c91_1062e5f024e8row19_col6 {\n",
       "            : ;\n",
       "            text-align:  left;\n",
       "        }    #T_1401e21e_cf54_11ea_9c91_1062e5f024e8row20_col0 {\n",
       "            text-align:  left;\n",
       "        }    #T_1401e21e_cf54_11ea_9c91_1062e5f024e8row20_col1 {\n",
       "            : ;\n",
       "            text-align:  left;\n",
       "        }    #T_1401e21e_cf54_11ea_9c91_1062e5f024e8row20_col2 {\n",
       "            : ;\n",
       "            text-align:  left;\n",
       "        }    #T_1401e21e_cf54_11ea_9c91_1062e5f024e8row20_col3 {\n",
       "            : ;\n",
       "            text-align:  left;\n",
       "        }    #T_1401e21e_cf54_11ea_9c91_1062e5f024e8row20_col4 {\n",
       "            text-align:  left;\n",
       "        }    #T_1401e21e_cf54_11ea_9c91_1062e5f024e8row20_col5 {\n",
       "            : ;\n",
       "            text-align:  left;\n",
       "        }    #T_1401e21e_cf54_11ea_9c91_1062e5f024e8row20_col6 {\n",
       "            : ;\n",
       "            text-align:  left;\n",
       "        }    #T_1401e21e_cf54_11ea_9c91_1062e5f024e8row21_col0 {\n",
       "            text-align:  left;\n",
       "        }    #T_1401e21e_cf54_11ea_9c91_1062e5f024e8row21_col1 {\n",
       "            : ;\n",
       "            text-align:  left;\n",
       "        }    #T_1401e21e_cf54_11ea_9c91_1062e5f024e8row21_col2 {\n",
       "            : ;\n",
       "            text-align:  left;\n",
       "        }    #T_1401e21e_cf54_11ea_9c91_1062e5f024e8row21_col3 {\n",
       "            : ;\n",
       "            text-align:  left;\n",
       "        }    #T_1401e21e_cf54_11ea_9c91_1062e5f024e8row21_col4 {\n",
       "            text-align:  left;\n",
       "        }    #T_1401e21e_cf54_11ea_9c91_1062e5f024e8row21_col5 {\n",
       "            : ;\n",
       "            text-align:  left;\n",
       "        }    #T_1401e21e_cf54_11ea_9c91_1062e5f024e8row21_col6 {\n",
       "            : ;\n",
       "            text-align:  left;\n",
       "        }</style><table id=\"T_1401e21e_cf54_11ea_9c91_1062e5f024e8\" ><thead>    <tr>        <th class=\"blank level0\" ></th>        <th class=\"col_heading level0 col0\" >Model</th>        <th class=\"col_heading level0 col1\" >MAE</th>        <th class=\"col_heading level0 col2\" >MSE</th>        <th class=\"col_heading level0 col3\" >RMSE</th>        <th class=\"col_heading level0 col4\" >R2</th>        <th class=\"col_heading level0 col5\" >RMSLE</th>        <th class=\"col_heading level0 col6\" >MAPE</th>    </tr></thead><tbody>\n",
       "                <tr>\n",
       "                        <th id=\"T_1401e21e_cf54_11ea_9c91_1062e5f024e8level0_row0\" class=\"row_heading level0 row0\" >0</th>\n",
       "                        <td id=\"T_1401e21e_cf54_11ea_9c91_1062e5f024e8row0_col0\" class=\"data row0 col0\" >CatBoost Regressor</td>\n",
       "                        <td id=\"T_1401e21e_cf54_11ea_9c91_1062e5f024e8row0_col1\" class=\"data row0 col1\" >2.100800</td>\n",
       "                        <td id=\"T_1401e21e_cf54_11ea_9c91_1062e5f024e8row0_col2\" class=\"data row0 col2\" >9.313900</td>\n",
       "                        <td id=\"T_1401e21e_cf54_11ea_9c91_1062e5f024e8row0_col3\" class=\"data row0 col3\" >2.952300</td>\n",
       "                        <td id=\"T_1401e21e_cf54_11ea_9c91_1062e5f024e8row0_col4\" class=\"data row0 col4\" >0.878300</td>\n",
       "                        <td id=\"T_1401e21e_cf54_11ea_9c91_1062e5f024e8row0_col5\" class=\"data row0 col5\" >0.138500</td>\n",
       "                        <td id=\"T_1401e21e_cf54_11ea_9c91_1062e5f024e8row0_col6\" class=\"data row0 col6\" >0.107000</td>\n",
       "            </tr>\n",
       "            <tr>\n",
       "                        <th id=\"T_1401e21e_cf54_11ea_9c91_1062e5f024e8level0_row1\" class=\"row_heading level0 row1\" >1</th>\n",
       "                        <td id=\"T_1401e21e_cf54_11ea_9c91_1062e5f024e8row1_col0\" class=\"data row1 col0\" >Extra Trees Regressor</td>\n",
       "                        <td id=\"T_1401e21e_cf54_11ea_9c91_1062e5f024e8row1_col1\" class=\"data row1 col1\" >2.114000</td>\n",
       "                        <td id=\"T_1401e21e_cf54_11ea_9c91_1062e5f024e8row1_col2\" class=\"data row1 col2\" >9.550900</td>\n",
       "                        <td id=\"T_1401e21e_cf54_11ea_9c91_1062e5f024e8row1_col3\" class=\"data row1 col3\" >2.984900</td>\n",
       "                        <td id=\"T_1401e21e_cf54_11ea_9c91_1062e5f024e8row1_col4\" class=\"data row1 col4\" >0.869200</td>\n",
       "                        <td id=\"T_1401e21e_cf54_11ea_9c91_1062e5f024e8row1_col5\" class=\"data row1 col5\" >0.135300</td>\n",
       "                        <td id=\"T_1401e21e_cf54_11ea_9c91_1062e5f024e8row1_col6\" class=\"data row1 col6\" >0.106200</td>\n",
       "            </tr>\n",
       "            <tr>\n",
       "                        <th id=\"T_1401e21e_cf54_11ea_9c91_1062e5f024e8level0_row2\" class=\"row_heading level0 row2\" >2</th>\n",
       "                        <td id=\"T_1401e21e_cf54_11ea_9c91_1062e5f024e8row2_col0\" class=\"data row2 col0\" >Gradient Boosting Regressor</td>\n",
       "                        <td id=\"T_1401e21e_cf54_11ea_9c91_1062e5f024e8row2_col1\" class=\"data row2 col1\" >2.247900</td>\n",
       "                        <td id=\"T_1401e21e_cf54_11ea_9c91_1062e5f024e8row2_col2\" class=\"data row2 col2\" >10.333700</td>\n",
       "                        <td id=\"T_1401e21e_cf54_11ea_9c91_1062e5f024e8row2_col3\" class=\"data row2 col3\" >3.108000</td>\n",
       "                        <td id=\"T_1401e21e_cf54_11ea_9c91_1062e5f024e8row2_col4\" class=\"data row2 col4\" >0.861500</td>\n",
       "                        <td id=\"T_1401e21e_cf54_11ea_9c91_1062e5f024e8row2_col5\" class=\"data row2 col5\" >0.145500</td>\n",
       "                        <td id=\"T_1401e21e_cf54_11ea_9c91_1062e5f024e8row2_col6\" class=\"data row2 col6\" >0.114200</td>\n",
       "            </tr>\n",
       "            <tr>\n",
       "                        <th id=\"T_1401e21e_cf54_11ea_9c91_1062e5f024e8level0_row3\" class=\"row_heading level0 row3\" >3</th>\n",
       "                        <td id=\"T_1401e21e_cf54_11ea_9c91_1062e5f024e8row3_col0\" class=\"data row3 col0\" >Extreme Gradient Boosting</td>\n",
       "                        <td id=\"T_1401e21e_cf54_11ea_9c91_1062e5f024e8row3_col1\" class=\"data row3 col1\" >2.309000</td>\n",
       "                        <td id=\"T_1401e21e_cf54_11ea_9c91_1062e5f024e8row3_col2\" class=\"data row3 col2\" >10.907200</td>\n",
       "                        <td id=\"T_1401e21e_cf54_11ea_9c91_1062e5f024e8row3_col3\" class=\"data row3 col3\" >3.189100</td>\n",
       "                        <td id=\"T_1401e21e_cf54_11ea_9c91_1062e5f024e8row3_col4\" class=\"data row3 col4\" >0.852200</td>\n",
       "                        <td id=\"T_1401e21e_cf54_11ea_9c91_1062e5f024e8row3_col5\" class=\"data row3 col5\" >0.151200</td>\n",
       "                        <td id=\"T_1401e21e_cf54_11ea_9c91_1062e5f024e8row3_col6\" class=\"data row3 col6\" >0.119000</td>\n",
       "            </tr>\n",
       "            <tr>\n",
       "                        <th id=\"T_1401e21e_cf54_11ea_9c91_1062e5f024e8level0_row4\" class=\"row_heading level0 row4\" >4</th>\n",
       "                        <td id=\"T_1401e21e_cf54_11ea_9c91_1062e5f024e8row4_col0\" class=\"data row4 col0\" >Light Gradient Boosting Machine</td>\n",
       "                        <td id=\"T_1401e21e_cf54_11ea_9c91_1062e5f024e8row4_col1\" class=\"data row4 col1\" >2.329800</td>\n",
       "                        <td id=\"T_1401e21e_cf54_11ea_9c91_1062e5f024e8row4_col2\" class=\"data row4 col2\" >11.608600</td>\n",
       "                        <td id=\"T_1401e21e_cf54_11ea_9c91_1062e5f024e8row4_col3\" class=\"data row4 col3\" >3.294300</td>\n",
       "                        <td id=\"T_1401e21e_cf54_11ea_9c91_1062e5f024e8row4_col4\" class=\"data row4 col4\" >0.845200</td>\n",
       "                        <td id=\"T_1401e21e_cf54_11ea_9c91_1062e5f024e8row4_col5\" class=\"data row4 col5\" >0.152100</td>\n",
       "                        <td id=\"T_1401e21e_cf54_11ea_9c91_1062e5f024e8row4_col6\" class=\"data row4 col6\" >0.118800</td>\n",
       "            </tr>\n",
       "            <tr>\n",
       "                        <th id=\"T_1401e21e_cf54_11ea_9c91_1062e5f024e8level0_row5\" class=\"row_heading level0 row5\" >5</th>\n",
       "                        <td id=\"T_1401e21e_cf54_11ea_9c91_1062e5f024e8row5_col0\" class=\"data row5 col0\" >Random Forest</td>\n",
       "                        <td id=\"T_1401e21e_cf54_11ea_9c91_1062e5f024e8row5_col1\" class=\"data row5 col1\" >2.349700</td>\n",
       "                        <td id=\"T_1401e21e_cf54_11ea_9c91_1062e5f024e8row5_col2\" class=\"data row5 col2\" >13.197000</td>\n",
       "                        <td id=\"T_1401e21e_cf54_11ea_9c91_1062e5f024e8row5_col3\" class=\"data row5 col3\" >3.401900</td>\n",
       "                        <td id=\"T_1401e21e_cf54_11ea_9c91_1062e5f024e8row5_col4\" class=\"data row5 col4\" >0.833500</td>\n",
       "                        <td id=\"T_1401e21e_cf54_11ea_9c91_1062e5f024e8row5_col5\" class=\"data row5 col5\" >0.149600</td>\n",
       "                        <td id=\"T_1401e21e_cf54_11ea_9c91_1062e5f024e8row5_col6\" class=\"data row5 col6\" >0.116800</td>\n",
       "            </tr>\n",
       "            <tr>\n",
       "                        <th id=\"T_1401e21e_cf54_11ea_9c91_1062e5f024e8level0_row6\" class=\"row_heading level0 row6\" >6</th>\n",
       "                        <td id=\"T_1401e21e_cf54_11ea_9c91_1062e5f024e8row6_col0\" class=\"data row6 col0\" >AdaBoost Regressor</td>\n",
       "                        <td id=\"T_1401e21e_cf54_11ea_9c91_1062e5f024e8row6_col1\" class=\"data row6 col1\" >2.786700</td>\n",
       "                        <td id=\"T_1401e21e_cf54_11ea_9c91_1062e5f024e8row6_col2\" class=\"data row6 col2\" >15.729100</td>\n",
       "                        <td id=\"T_1401e21e_cf54_11ea_9c91_1062e5f024e8row6_col3\" class=\"data row6 col3\" >3.809400</td>\n",
       "                        <td id=\"T_1401e21e_cf54_11ea_9c91_1062e5f024e8row6_col4\" class=\"data row6 col4\" >0.793100</td>\n",
       "                        <td id=\"T_1401e21e_cf54_11ea_9c91_1062e5f024e8row6_col5\" class=\"data row6 col5\" >0.174900</td>\n",
       "                        <td id=\"T_1401e21e_cf54_11ea_9c91_1062e5f024e8row6_col6\" class=\"data row6 col6\" >0.143700</td>\n",
       "            </tr>\n",
       "            <tr>\n",
       "                        <th id=\"T_1401e21e_cf54_11ea_9c91_1062e5f024e8level0_row7\" class=\"row_heading level0 row7\" >7</th>\n",
       "                        <td id=\"T_1401e21e_cf54_11ea_9c91_1062e5f024e8row7_col0\" class=\"data row7 col0\" >Ridge Regression</td>\n",
       "                        <td id=\"T_1401e21e_cf54_11ea_9c91_1062e5f024e8row7_col1\" class=\"data row7 col1\" >3.095700</td>\n",
       "                        <td id=\"T_1401e21e_cf54_11ea_9c91_1062e5f024e8row7_col2\" class=\"data row7 col2\" >19.606900</td>\n",
       "                        <td id=\"T_1401e21e_cf54_11ea_9c91_1062e5f024e8row7_col3\" class=\"data row7 col3\" >4.242400</td>\n",
       "                        <td id=\"T_1401e21e_cf54_11ea_9c91_1062e5f024e8row7_col4\" class=\"data row7 col4\" >0.751000</td>\n",
       "                        <td id=\"T_1401e21e_cf54_11ea_9c91_1062e5f024e8row7_col5\" class=\"data row7 col5\" >0.230300</td>\n",
       "                        <td id=\"T_1401e21e_cf54_11ea_9c91_1062e5f024e8row7_col6\" class=\"data row7 col6\" >0.157700</td>\n",
       "            </tr>\n",
       "            <tr>\n",
       "                        <th id=\"T_1401e21e_cf54_11ea_9c91_1062e5f024e8level0_row8\" class=\"row_heading level0 row8\" >8</th>\n",
       "                        <td id=\"T_1401e21e_cf54_11ea_9c91_1062e5f024e8row8_col0\" class=\"data row8 col0\" >Bayesian Ridge</td>\n",
       "                        <td id=\"T_1401e21e_cf54_11ea_9c91_1062e5f024e8row8_col1\" class=\"data row8 col1\" >3.101500</td>\n",
       "                        <td id=\"T_1401e21e_cf54_11ea_9c91_1062e5f024e8row8_col2\" class=\"data row8 col2\" >19.800000</td>\n",
       "                        <td id=\"T_1401e21e_cf54_11ea_9c91_1062e5f024e8row8_col3\" class=\"data row8 col3\" >4.262900</td>\n",
       "                        <td id=\"T_1401e21e_cf54_11ea_9c91_1062e5f024e8row8_col4\" class=\"data row8 col4\" >0.750000</td>\n",
       "                        <td id=\"T_1401e21e_cf54_11ea_9c91_1062e5f024e8row8_col5\" class=\"data row8 col5\" >0.226700</td>\n",
       "                        <td id=\"T_1401e21e_cf54_11ea_9c91_1062e5f024e8row8_col6\" class=\"data row8 col6\" >0.157800</td>\n",
       "            </tr>\n",
       "            <tr>\n",
       "                        <th id=\"T_1401e21e_cf54_11ea_9c91_1062e5f024e8level0_row9\" class=\"row_heading level0 row9\" >9</th>\n",
       "                        <td id=\"T_1401e21e_cf54_11ea_9c91_1062e5f024e8row9_col0\" class=\"data row9 col0\" >Linear Regression</td>\n",
       "                        <td id=\"T_1401e21e_cf54_11ea_9c91_1062e5f024e8row9_col1\" class=\"data row9 col1\" >3.117900</td>\n",
       "                        <td id=\"T_1401e21e_cf54_11ea_9c91_1062e5f024e8row9_col2\" class=\"data row9 col2\" >19.666700</td>\n",
       "                        <td id=\"T_1401e21e_cf54_11ea_9c91_1062e5f024e8row9_col3\" class=\"data row9 col3\" >4.257500</td>\n",
       "                        <td id=\"T_1401e21e_cf54_11ea_9c91_1062e5f024e8row9_col4\" class=\"data row9 col4\" >0.748900</td>\n",
       "                        <td id=\"T_1401e21e_cf54_11ea_9c91_1062e5f024e8row9_col5\" class=\"data row9 col5\" >0.234300</td>\n",
       "                        <td id=\"T_1401e21e_cf54_11ea_9c91_1062e5f024e8row9_col6\" class=\"data row9 col6\" >0.158600</td>\n",
       "            </tr>\n",
       "            <tr>\n",
       "                        <th id=\"T_1401e21e_cf54_11ea_9c91_1062e5f024e8level0_row10\" class=\"row_heading level0 row10\" >10</th>\n",
       "                        <td id=\"T_1401e21e_cf54_11ea_9c91_1062e5f024e8row10_col0\" class=\"data row10 col0\" >Least Angle Regression</td>\n",
       "                        <td id=\"T_1401e21e_cf54_11ea_9c91_1062e5f024e8row10_col1\" class=\"data row10 col1\" >3.228300</td>\n",
       "                        <td id=\"T_1401e21e_cf54_11ea_9c91_1062e5f024e8row10_col2\" class=\"data row10 col2\" >20.521800</td>\n",
       "                        <td id=\"T_1401e21e_cf54_11ea_9c91_1062e5f024e8row10_col3\" class=\"data row10 col3\" >4.319000</td>\n",
       "                        <td id=\"T_1401e21e_cf54_11ea_9c91_1062e5f024e8row10_col4\" class=\"data row10 col4\" >0.741000</td>\n",
       "                        <td id=\"T_1401e21e_cf54_11ea_9c91_1062e5f024e8row10_col5\" class=\"data row10 col5\" >0.235400</td>\n",
       "                        <td id=\"T_1401e21e_cf54_11ea_9c91_1062e5f024e8row10_col6\" class=\"data row10 col6\" >0.163700</td>\n",
       "            </tr>\n",
       "            <tr>\n",
       "                        <th id=\"T_1401e21e_cf54_11ea_9c91_1062e5f024e8level0_row11\" class=\"row_heading level0 row11\" >11</th>\n",
       "                        <td id=\"T_1401e21e_cf54_11ea_9c91_1062e5f024e8row11_col0\" class=\"data row11 col0\" >TheilSen Regressor</td>\n",
       "                        <td id=\"T_1401e21e_cf54_11ea_9c91_1062e5f024e8row11_col1\" class=\"data row11 col1\" >3.088400</td>\n",
       "                        <td id=\"T_1401e21e_cf54_11ea_9c91_1062e5f024e8row11_col2\" class=\"data row11 col2\" >21.256700</td>\n",
       "                        <td id=\"T_1401e21e_cf54_11ea_9c91_1062e5f024e8row11_col3\" class=\"data row11 col3\" >4.421200</td>\n",
       "                        <td id=\"T_1401e21e_cf54_11ea_9c91_1062e5f024e8row11_col4\" class=\"data row11 col4\" >0.732500</td>\n",
       "                        <td id=\"T_1401e21e_cf54_11ea_9c91_1062e5f024e8row11_col5\" class=\"data row11 col5\" >0.244100</td>\n",
       "                        <td id=\"T_1401e21e_cf54_11ea_9c91_1062e5f024e8row11_col6\" class=\"data row11 col6\" >0.154700</td>\n",
       "            </tr>\n",
       "            <tr>\n",
       "                        <th id=\"T_1401e21e_cf54_11ea_9c91_1062e5f024e8level0_row12\" class=\"row_heading level0 row12\" >12</th>\n",
       "                        <td id=\"T_1401e21e_cf54_11ea_9c91_1062e5f024e8row12_col0\" class=\"data row12 col0\" >Random Sample Consensus</td>\n",
       "                        <td id=\"T_1401e21e_cf54_11ea_9c91_1062e5f024e8row12_col1\" class=\"data row12 col1\" >3.019800</td>\n",
       "                        <td id=\"T_1401e21e_cf54_11ea_9c91_1062e5f024e8row12_col2\" class=\"data row12 col2\" >21.830900</td>\n",
       "                        <td id=\"T_1401e21e_cf54_11ea_9c91_1062e5f024e8row12_col3\" class=\"data row12 col3\" >4.443000</td>\n",
       "                        <td id=\"T_1401e21e_cf54_11ea_9c91_1062e5f024e8row12_col4\" class=\"data row12 col4\" >0.720400</td>\n",
       "                        <td id=\"T_1401e21e_cf54_11ea_9c91_1062e5f024e8row12_col5\" class=\"data row12 col5\" >0.239300</td>\n",
       "                        <td id=\"T_1401e21e_cf54_11ea_9c91_1062e5f024e8row12_col6\" class=\"data row12 col6\" >0.153400</td>\n",
       "            </tr>\n",
       "            <tr>\n",
       "                        <th id=\"T_1401e21e_cf54_11ea_9c91_1062e5f024e8level0_row13\" class=\"row_heading level0 row13\" >13</th>\n",
       "                        <td id=\"T_1401e21e_cf54_11ea_9c91_1062e5f024e8row13_col0\" class=\"data row13 col0\" >Lasso Regression</td>\n",
       "                        <td id=\"T_1401e21e_cf54_11ea_9c91_1062e5f024e8row13_col1\" class=\"data row13 col1\" >3.583000</td>\n",
       "                        <td id=\"T_1401e21e_cf54_11ea_9c91_1062e5f024e8row13_col2\" class=\"data row13 col2\" >25.766400</td>\n",
       "                        <td id=\"T_1401e21e_cf54_11ea_9c91_1062e5f024e8row13_col3\" class=\"data row13 col3\" >4.935900</td>\n",
       "                        <td id=\"T_1401e21e_cf54_11ea_9c91_1062e5f024e8row13_col4\" class=\"data row13 col4\" >0.675100</td>\n",
       "                        <td id=\"T_1401e21e_cf54_11ea_9c91_1062e5f024e8row13_col5\" class=\"data row13 col5\" >0.227000</td>\n",
       "                        <td id=\"T_1401e21e_cf54_11ea_9c91_1062e5f024e8row13_col6\" class=\"data row13 col6\" >0.172500</td>\n",
       "            </tr>\n",
       "            <tr>\n",
       "                        <th id=\"T_1401e21e_cf54_11ea_9c91_1062e5f024e8level0_row14\" class=\"row_heading level0 row14\" >14</th>\n",
       "                        <td id=\"T_1401e21e_cf54_11ea_9c91_1062e5f024e8row14_col0\" class=\"data row14 col0\" >Elastic Net</td>\n",
       "                        <td id=\"T_1401e21e_cf54_11ea_9c91_1062e5f024e8row14_col1\" class=\"data row14 col1\" >3.620800</td>\n",
       "                        <td id=\"T_1401e21e_cf54_11ea_9c91_1062e5f024e8row14_col2\" class=\"data row14 col2\" >26.277800</td>\n",
       "                        <td id=\"T_1401e21e_cf54_11ea_9c91_1062e5f024e8row14_col3\" class=\"data row14 col3\" >4.997500</td>\n",
       "                        <td id=\"T_1401e21e_cf54_11ea_9c91_1062e5f024e8row14_col4\" class=\"data row14 col4\" >0.665700</td>\n",
       "                        <td id=\"T_1401e21e_cf54_11ea_9c91_1062e5f024e8row14_col5\" class=\"data row14 col5\" >0.232900</td>\n",
       "                        <td id=\"T_1401e21e_cf54_11ea_9c91_1062e5f024e8row14_col6\" class=\"data row14 col6\" >0.173200</td>\n",
       "            </tr>\n",
       "            <tr>\n",
       "                        <th id=\"T_1401e21e_cf54_11ea_9c91_1062e5f024e8level0_row15\" class=\"row_heading level0 row15\" >15</th>\n",
       "                        <td id=\"T_1401e21e_cf54_11ea_9c91_1062e5f024e8row15_col0\" class=\"data row15 col0\" >Huber Regressor</td>\n",
       "                        <td id=\"T_1401e21e_cf54_11ea_9c91_1062e5f024e8row15_col1\" class=\"data row15 col1\" >3.607000</td>\n",
       "                        <td id=\"T_1401e21e_cf54_11ea_9c91_1062e5f024e8row15_col2\" class=\"data row15 col2\" >27.382300</td>\n",
       "                        <td id=\"T_1401e21e_cf54_11ea_9c91_1062e5f024e8row15_col3\" class=\"data row15 col3\" >4.996300</td>\n",
       "                        <td id=\"T_1401e21e_cf54_11ea_9c91_1062e5f024e8row15_col4\" class=\"data row15 col4\" >0.642200</td>\n",
       "                        <td id=\"T_1401e21e_cf54_11ea_9c91_1062e5f024e8row15_col5\" class=\"data row15 col5\" >0.246300</td>\n",
       "                        <td id=\"T_1401e21e_cf54_11ea_9c91_1062e5f024e8row15_col6\" class=\"data row15 col6\" >0.176800</td>\n",
       "            </tr>\n",
       "            <tr>\n",
       "                        <th id=\"T_1401e21e_cf54_11ea_9c91_1062e5f024e8level0_row16\" class=\"row_heading level0 row16\" >16</th>\n",
       "                        <td id=\"T_1401e21e_cf54_11ea_9c91_1062e5f024e8row16_col0\" class=\"data row16 col0\" >Orthogonal Matching Pursuit</td>\n",
       "                        <td id=\"T_1401e21e_cf54_11ea_9c91_1062e5f024e8row16_col1\" class=\"data row16 col1\" >3.780600</td>\n",
       "                        <td id=\"T_1401e21e_cf54_11ea_9c91_1062e5f024e8row16_col2\" class=\"data row16 col2\" >30.513200</td>\n",
       "                        <td id=\"T_1401e21e_cf54_11ea_9c91_1062e5f024e8row16_col3\" class=\"data row16 col3\" >5.318100</td>\n",
       "                        <td id=\"T_1401e21e_cf54_11ea_9c91_1062e5f024e8row16_col4\" class=\"data row16 col4\" >0.593700</td>\n",
       "                        <td id=\"T_1401e21e_cf54_11ea_9c91_1062e5f024e8row16_col5\" class=\"data row16 col5\" >0.299500</td>\n",
       "                        <td id=\"T_1401e21e_cf54_11ea_9c91_1062e5f024e8row16_col6\" class=\"data row16 col6\" >0.207900</td>\n",
       "            </tr>\n",
       "            <tr>\n",
       "                        <th id=\"T_1401e21e_cf54_11ea_9c91_1062e5f024e8level0_row17\" class=\"row_heading level0 row17\" >17</th>\n",
       "                        <td id=\"T_1401e21e_cf54_11ea_9c91_1062e5f024e8row17_col0\" class=\"data row17 col0\" >Decision Tree</td>\n",
       "                        <td id=\"T_1401e21e_cf54_11ea_9c91_1062e5f024e8row17_col1\" class=\"data row17 col1\" >3.352900</td>\n",
       "                        <td id=\"T_1401e21e_cf54_11ea_9c91_1062e5f024e8row17_col2\" class=\"data row17 col2\" >28.772400</td>\n",
       "                        <td id=\"T_1401e21e_cf54_11ea_9c91_1062e5f024e8row17_col3\" class=\"data row17 col3\" >5.105500</td>\n",
       "                        <td id=\"T_1401e21e_cf54_11ea_9c91_1062e5f024e8row17_col4\" class=\"data row17 col4\" >0.574000</td>\n",
       "                        <td id=\"T_1401e21e_cf54_11ea_9c91_1062e5f024e8row17_col5\" class=\"data row17 col5\" >0.218200</td>\n",
       "                        <td id=\"T_1401e21e_cf54_11ea_9c91_1062e5f024e8row17_col6\" class=\"data row17 col6\" >0.167100</td>\n",
       "            </tr>\n",
       "            <tr>\n",
       "                        <th id=\"T_1401e21e_cf54_11ea_9c91_1062e5f024e8level0_row18\" class=\"row_heading level0 row18\" >18</th>\n",
       "                        <td id=\"T_1401e21e_cf54_11ea_9c91_1062e5f024e8row18_col0\" class=\"data row18 col0\" >K Neighbors Regressor</td>\n",
       "                        <td id=\"T_1401e21e_cf54_11ea_9c91_1062e5f024e8row18_col1\" class=\"data row18 col1\" >4.560600</td>\n",
       "                        <td id=\"T_1401e21e_cf54_11ea_9c91_1062e5f024e8row18_col2\" class=\"data row18 col2\" >44.800200</td>\n",
       "                        <td id=\"T_1401e21e_cf54_11ea_9c91_1062e5f024e8row18_col3\" class=\"data row18 col3\" >6.556500</td>\n",
       "                        <td id=\"T_1401e21e_cf54_11ea_9c91_1062e5f024e8row18_col4\" class=\"data row18 col4\" >0.410500</td>\n",
       "                        <td id=\"T_1401e21e_cf54_11ea_9c91_1062e5f024e8row18_col5\" class=\"data row18 col5\" >0.252300</td>\n",
       "                        <td id=\"T_1401e21e_cf54_11ea_9c91_1062e5f024e8row18_col6\" class=\"data row18 col6\" >0.211600</td>\n",
       "            </tr>\n",
       "            <tr>\n",
       "                        <th id=\"T_1401e21e_cf54_11ea_9c91_1062e5f024e8level0_row19\" class=\"row_heading level0 row19\" >19</th>\n",
       "                        <td id=\"T_1401e21e_cf54_11ea_9c91_1062e5f024e8row19_col0\" class=\"data row19 col0\" >Support Vector Machine</td>\n",
       "                        <td id=\"T_1401e21e_cf54_11ea_9c91_1062e5f024e8row19_col1\" class=\"data row19 col1\" >5.297400</td>\n",
       "                        <td id=\"T_1401e21e_cf54_11ea_9c91_1062e5f024e8row19_col2\" class=\"data row19 col2\" >65.656700</td>\n",
       "                        <td id=\"T_1401e21e_cf54_11ea_9c91_1062e5f024e8row19_col3\" class=\"data row19 col3\" >7.850700</td>\n",
       "                        <td id=\"T_1401e21e_cf54_11ea_9c91_1062e5f024e8row19_col4\" class=\"data row19 col4\" >0.205000</td>\n",
       "                        <td id=\"T_1401e21e_cf54_11ea_9c91_1062e5f024e8row19_col5\" class=\"data row19 col5\" >0.302400</td>\n",
       "                        <td id=\"T_1401e21e_cf54_11ea_9c91_1062e5f024e8row19_col6\" class=\"data row19 col6\" >0.235900</td>\n",
       "            </tr>\n",
       "            <tr>\n",
       "                        <th id=\"T_1401e21e_cf54_11ea_9c91_1062e5f024e8level0_row20\" class=\"row_heading level0 row20\" >20</th>\n",
       "                        <td id=\"T_1401e21e_cf54_11ea_9c91_1062e5f024e8row20_col0\" class=\"data row20 col0\" >Lasso Least Angle Regression</td>\n",
       "                        <td id=\"T_1401e21e_cf54_11ea_9c91_1062e5f024e8row20_col1\" class=\"data row20 col1\" >6.593100</td>\n",
       "                        <td id=\"T_1401e21e_cf54_11ea_9c91_1062e5f024e8row20_col2\" class=\"data row20 col2\" >82.090800</td>\n",
       "                        <td id=\"T_1401e21e_cf54_11ea_9c91_1062e5f024e8row20_col3\" class=\"data row20 col3\" >8.862400</td>\n",
       "                        <td id=\"T_1401e21e_cf54_11ea_9c91_1062e5f024e8row20_col4\" class=\"data row20 col4\" >-0.029900</td>\n",
       "                        <td id=\"T_1401e21e_cf54_11ea_9c91_1062e5f024e8row20_col5\" class=\"data row20 col5\" >0.381300</td>\n",
       "                        <td id=\"T_1401e21e_cf54_11ea_9c91_1062e5f024e8row20_col6\" class=\"data row20 col6\" >0.356900</td>\n",
       "            </tr>\n",
       "            <tr>\n",
       "                        <th id=\"T_1401e21e_cf54_11ea_9c91_1062e5f024e8level0_row21\" class=\"row_heading level0 row21\" >21</th>\n",
       "                        <td id=\"T_1401e21e_cf54_11ea_9c91_1062e5f024e8row21_col0\" class=\"data row21 col0\" >Passive Aggressive Regressor</td>\n",
       "                        <td id=\"T_1401e21e_cf54_11ea_9c91_1062e5f024e8row21_col1\" class=\"data row21 col1\" >11.850000</td>\n",
       "                        <td id=\"T_1401e21e_cf54_11ea_9c91_1062e5f024e8row21_col2\" class=\"data row21 col2\" >258.201300</td>\n",
       "                        <td id=\"T_1401e21e_cf54_11ea_9c91_1062e5f024e8row21_col3\" class=\"data row21 col3\" >13.916500</td>\n",
       "                        <td id=\"T_1401e21e_cf54_11ea_9c91_1062e5f024e8row21_col4\" class=\"data row21 col4\" >-3.107600</td>\n",
       "                        <td id=\"T_1401e21e_cf54_11ea_9c91_1062e5f024e8row21_col5\" class=\"data row21 col5\" >0.617000</td>\n",
       "                        <td id=\"T_1401e21e_cf54_11ea_9c91_1062e5f024e8row21_col6\" class=\"data row21 col6\" >0.641700</td>\n",
       "            </tr>\n",
       "    </tbody></table>"
      ],
      "text/plain": [
       "<pandas.io.formats.style.Styler at 0x1e1c5680488>"
      ]
     },
     "execution_count": 13,
     "metadata": {},
     "output_type": "execute_result"
    }
   ],
   "source": [
    "compare_models()"
   ]
  },
  {
   "cell_type": "markdown",
   "metadata": {},
   "source": [
    "## creating catboost model"
   ]
  },
  {
   "cell_type": "code",
   "execution_count": 14,
   "metadata": {},
   "outputs": [
    {
     "data": {
      "text/html": [
       "<div>\n",
       "<style scoped>\n",
       "    .dataframe tbody tr th:only-of-type {\n",
       "        vertical-align: middle;\n",
       "    }\n",
       "\n",
       "    .dataframe tbody tr th {\n",
       "        vertical-align: top;\n",
       "    }\n",
       "\n",
       "    .dataframe thead th {\n",
       "        text-align: right;\n",
       "    }\n",
       "</style>\n",
       "<table border=\"1\" class=\"dataframe\">\n",
       "  <thead>\n",
       "    <tr style=\"text-align: right;\">\n",
       "      <th></th>\n",
       "      <th>MAE</th>\n",
       "      <th>MSE</th>\n",
       "      <th>RMSE</th>\n",
       "      <th>R2</th>\n",
       "      <th>RMSLE</th>\n",
       "      <th>MAPE</th>\n",
       "    </tr>\n",
       "  </thead>\n",
       "  <tbody>\n",
       "    <tr>\n",
       "      <th>0</th>\n",
       "      <td>2.0524</td>\n",
       "      <td>6.8576</td>\n",
       "      <td>2.6187</td>\n",
       "      <td>0.8282</td>\n",
       "      <td>0.1225</td>\n",
       "      <td>0.0931</td>\n",
       "    </tr>\n",
       "    <tr>\n",
       "      <th>1</th>\n",
       "      <td>1.6233</td>\n",
       "      <td>4.0759</td>\n",
       "      <td>2.0189</td>\n",
       "      <td>0.8927</td>\n",
       "      <td>0.1071</td>\n",
       "      <td>0.0863</td>\n",
       "    </tr>\n",
       "    <tr>\n",
       "      <th>2</th>\n",
       "      <td>2.0058</td>\n",
       "      <td>8.4418</td>\n",
       "      <td>2.9055</td>\n",
       "      <td>0.9255</td>\n",
       "      <td>0.1064</td>\n",
       "      <td>0.0835</td>\n",
       "    </tr>\n",
       "    <tr>\n",
       "      <th>3</th>\n",
       "      <td>2.4681</td>\n",
       "      <td>24.9707</td>\n",
       "      <td>4.9971</td>\n",
       "      <td>0.7702</td>\n",
       "      <td>0.1819</td>\n",
       "      <td>0.1210</td>\n",
       "    </tr>\n",
       "    <tr>\n",
       "      <th>4</th>\n",
       "      <td>2.2094</td>\n",
       "      <td>9.4326</td>\n",
       "      <td>3.0713</td>\n",
       "      <td>0.8722</td>\n",
       "      <td>0.1509</td>\n",
       "      <td>0.1120</td>\n",
       "    </tr>\n",
       "    <tr>\n",
       "      <th>5</th>\n",
       "      <td>1.7707</td>\n",
       "      <td>5.8747</td>\n",
       "      <td>2.4238</td>\n",
       "      <td>0.8547</td>\n",
       "      <td>0.1472</td>\n",
       "      <td>0.1058</td>\n",
       "    </tr>\n",
       "    <tr>\n",
       "      <th>6</th>\n",
       "      <td>1.8813</td>\n",
       "      <td>6.0808</td>\n",
       "      <td>2.4659</td>\n",
       "      <td>0.8863</td>\n",
       "      <td>0.1016</td>\n",
       "      <td>0.0800</td>\n",
       "    </tr>\n",
       "    <tr>\n",
       "      <th>7</th>\n",
       "      <td>2.1034</td>\n",
       "      <td>6.8635</td>\n",
       "      <td>2.6198</td>\n",
       "      <td>0.9371</td>\n",
       "      <td>0.1489</td>\n",
       "      <td>0.1218</td>\n",
       "    </tr>\n",
       "    <tr>\n",
       "      <th>8</th>\n",
       "      <td>2.4869</td>\n",
       "      <td>11.2545</td>\n",
       "      <td>3.3548</td>\n",
       "      <td>0.8922</td>\n",
       "      <td>0.1936</td>\n",
       "      <td>0.1546</td>\n",
       "    </tr>\n",
       "    <tr>\n",
       "      <th>9</th>\n",
       "      <td>2.4068</td>\n",
       "      <td>9.2867</td>\n",
       "      <td>3.0474</td>\n",
       "      <td>0.9241</td>\n",
       "      <td>0.1249</td>\n",
       "      <td>0.1122</td>\n",
       "    </tr>\n",
       "    <tr>\n",
       "      <th>Mean</th>\n",
       "      <td>2.1008</td>\n",
       "      <td>9.3139</td>\n",
       "      <td>2.9523</td>\n",
       "      <td>0.8783</td>\n",
       "      <td>0.1385</td>\n",
       "      <td>0.1070</td>\n",
       "    </tr>\n",
       "    <tr>\n",
       "      <th>SD</th>\n",
       "      <td>0.2803</td>\n",
       "      <td>5.5806</td>\n",
       "      <td>0.7731</td>\n",
       "      <td>0.0480</td>\n",
       "      <td>0.0301</td>\n",
       "      <td>0.0215</td>\n",
       "    </tr>\n",
       "  </tbody>\n",
       "</table>\n",
       "</div>"
      ],
      "text/plain": [
       "         MAE      MSE    RMSE      R2   RMSLE    MAPE\n",
       "0     2.0524   6.8576  2.6187  0.8282  0.1225  0.0931\n",
       "1     1.6233   4.0759  2.0189  0.8927  0.1071  0.0863\n",
       "2     2.0058   8.4418  2.9055  0.9255  0.1064  0.0835\n",
       "3     2.4681  24.9707  4.9971  0.7702  0.1819  0.1210\n",
       "4     2.2094   9.4326  3.0713  0.8722  0.1509  0.1120\n",
       "5     1.7707   5.8747  2.4238  0.8547  0.1472  0.1058\n",
       "6     1.8813   6.0808  2.4659  0.8863  0.1016  0.0800\n",
       "7     2.1034   6.8635  2.6198  0.9371  0.1489  0.1218\n",
       "8     2.4869  11.2545  3.3548  0.8922  0.1936  0.1546\n",
       "9     2.4068   9.2867  3.0474  0.9241  0.1249  0.1122\n",
       "Mean  2.1008   9.3139  2.9523  0.8783  0.1385  0.1070\n",
       "SD    0.2803   5.5806  0.7731  0.0480  0.0301  0.0215"
      ]
     },
     "metadata": {},
     "output_type": "display_data"
    }
   ],
   "source": [
    "catboost = create_model('catboost')"
   ]
  },
  {
   "cell_type": "code",
   "execution_count": 15,
   "metadata": {},
   "outputs": [
    {
     "data": {
      "text/plain": [
       "{'learn': {'RMSE': [8.878652136497776,\n",
       "   8.715528926357404,\n",
       "   8.542552078352806,\n",
       "   8.39883334699049,\n",
       "   8.252303963079099,\n",
       "   8.109104983884794,\n",
       "   7.985642505892053,\n",
       "   7.865254540549266,\n",
       "   7.7562379364976675,\n",
       "   7.61502704559696,\n",
       "   7.5011603876950765,\n",
       "   7.373547906241038,\n",
       "   7.2576171374707705,\n",
       "   7.134424511153128,\n",
       "   7.040409815322518,\n",
       "   6.942053200905508,\n",
       "   6.840896981502083,\n",
       "   6.75116753814791,\n",
       "   6.645860242617655,\n",
       "   6.5399332269504855,\n",
       "   6.449648200913948,\n",
       "   6.3574219859639385,\n",
       "   6.262620078811898,\n",
       "   6.180748921848254,\n",
       "   6.092029813009741,\n",
       "   6.006769592783311,\n",
       "   5.914883264288087,\n",
       "   5.851254221940656,\n",
       "   5.768954284097714,\n",
       "   5.6878927075605485,\n",
       "   5.618159103758775,\n",
       "   5.537140366222338,\n",
       "   5.473314105533446,\n",
       "   5.395254868729561,\n",
       "   5.327289514484322,\n",
       "   5.262971856647063,\n",
       "   5.199532558475956,\n",
       "   5.124432307453096,\n",
       "   5.056129732634946,\n",
       "   4.988630076756398,\n",
       "   4.921633317834098,\n",
       "   4.855265367594667,\n",
       "   4.793748396389835,\n",
       "   4.7449549064870835,\n",
       "   4.688902590517047,\n",
       "   4.644118069778837,\n",
       "   4.593320931751572,\n",
       "   4.536726425996734,\n",
       "   4.494078707997622,\n",
       "   4.445335110825981,\n",
       "   4.395370245243511,\n",
       "   4.35068337367263,\n",
       "   4.30907203988464,\n",
       "   4.26404362860461,\n",
       "   4.220013989119979,\n",
       "   4.181898479305554,\n",
       "   4.136406347505048,\n",
       "   4.091680352161074,\n",
       "   4.0483049993750155,\n",
       "   4.010481563183536,\n",
       "   3.983317397938839,\n",
       "   3.9431144792686865,\n",
       "   3.9120206914125064,\n",
       "   3.8801478280066912,\n",
       "   3.837776914009647,\n",
       "   3.809136106616269,\n",
       "   3.7824418924497687,\n",
       "   3.7586424793589073,\n",
       "   3.729290154414387,\n",
       "   3.693758606563019,\n",
       "   3.6665588269730867,\n",
       "   3.641622147236226,\n",
       "   3.6124378039753533,\n",
       "   3.5860422480671463,\n",
       "   3.5603148265758042,\n",
       "   3.538041337057355,\n",
       "   3.5138449080973806,\n",
       "   3.4873570098062676,\n",
       "   3.4535926256901073,\n",
       "   3.433722787264422,\n",
       "   3.4129189866531497,\n",
       "   3.3880622037609394,\n",
       "   3.3610110944484837,\n",
       "   3.337501327862331,\n",
       "   3.318880027644134,\n",
       "   3.294056313943316,\n",
       "   3.2714516182083244,\n",
       "   3.247690516910893,\n",
       "   3.2295355239670624,\n",
       "   3.209670753159002,\n",
       "   3.185868260614801,\n",
       "   3.1621908975291886,\n",
       "   3.141737689539717,\n",
       "   3.1259473887325497,\n",
       "   3.10511421298524,\n",
       "   3.0863074937010806,\n",
       "   3.066902886419071,\n",
       "   3.048130289539855,\n",
       "   3.0253297504743055,\n",
       "   3.0146833844504384,\n",
       "   2.9976154307380454,\n",
       "   2.9801216032674205,\n",
       "   2.9659854929531186,\n",
       "   2.953344753657279,\n",
       "   2.9379536910721575,\n",
       "   2.9237156993632767,\n",
       "   2.911489422773211,\n",
       "   2.8959076249494577,\n",
       "   2.8812621208837186,\n",
       "   2.8655008470011727,\n",
       "   2.851365355483673,\n",
       "   2.8384179087023473,\n",
       "   2.8240616270931915,\n",
       "   2.8069694608767137,\n",
       "   2.7933944386238023,\n",
       "   2.7819887676475816,\n",
       "   2.772196945929437,\n",
       "   2.761642315582925,\n",
       "   2.746834110372159,\n",
       "   2.73346992007469,\n",
       "   2.722177375615986,\n",
       "   2.709014868596167,\n",
       "   2.6976432675016846,\n",
       "   2.683790709365517,\n",
       "   2.6701298513706693,\n",
       "   2.6593195304424295,\n",
       "   2.649385199595774,\n",
       "   2.63893450455087,\n",
       "   2.629031246595394,\n",
       "   2.6206866060640714,\n",
       "   2.6063336939054205,\n",
       "   2.6045044110015896,\n",
       "   2.5935075930907447,\n",
       "   2.580381171475762,\n",
       "   2.5726592308284144,\n",
       "   2.5645376879396906,\n",
       "   2.5567155135717,\n",
       "   2.554086662230195,\n",
       "   2.540044275879727,\n",
       "   2.529870251718486,\n",
       "   2.5190769346151796,\n",
       "   2.5110853969699325,\n",
       "   2.5026801308687863,\n",
       "   2.4933452122096935,\n",
       "   2.4825747387620463,\n",
       "   2.4755377628730293,\n",
       "   2.464178677123445,\n",
       "   2.4556436401233595,\n",
       "   2.451985807269274,\n",
       "   2.442644835883566,\n",
       "   2.4360937171222052,\n",
       "   2.4270123701323,\n",
       "   2.4184774468407366,\n",
       "   2.409733624576695,\n",
       "   2.403843459926984,\n",
       "   2.397862770135895,\n",
       "   2.391221526882035,\n",
       "   2.3838487198458016,\n",
       "   2.379517799926194,\n",
       "   2.374519999618253,\n",
       "   2.3650165800881897,\n",
       "   2.3570119784823453,\n",
       "   2.3495560358072693,\n",
       "   2.3424053817970467,\n",
       "   2.336039852677203,\n",
       "   2.3294807000574584,\n",
       "   2.322830035154086,\n",
       "   2.3183178234249824,\n",
       "   2.3157529872498634,\n",
       "   2.3075737209887732,\n",
       "   2.2976790425385043,\n",
       "   2.289680212441875,\n",
       "   2.2822106872241,\n",
       "   2.2784460111229667,\n",
       "   2.2726485189351675,\n",
       "   2.268458786067866,\n",
       "   2.262714806050536,\n",
       "   2.256977595574518,\n",
       "   2.2505625358707366,\n",
       "   2.244283441766688,\n",
       "   2.2352149183028938,\n",
       "   2.2309151431770617,\n",
       "   2.2247652194812155,\n",
       "   2.2219072723004887,\n",
       "   2.2124415364024017,\n",
       "   2.2087749777365797,\n",
       "   2.2046342736773212,\n",
       "   2.199508410482296,\n",
       "   2.1919542717134526,\n",
       "   2.182895682964507,\n",
       "   2.1769370511412305,\n",
       "   2.1708030348670526,\n",
       "   2.16759295558571,\n",
       "   2.160541496977491,\n",
       "   2.150663833670243,\n",
       "   2.1456856584312884,\n",
       "   2.1407967614384895,\n",
       "   2.139322436646369,\n",
       "   2.1336290878771837,\n",
       "   2.12881453329098,\n",
       "   2.1239823727639187,\n",
       "   2.120174941634313,\n",
       "   2.1185019756133965,\n",
       "   2.112820750744646,\n",
       "   2.106827147637604,\n",
       "   2.097374189741909,\n",
       "   2.0912835373695393,\n",
       "   2.0875730171043134,\n",
       "   2.0848443295864247,\n",
       "   2.0816626655635853,\n",
       "   2.0755533632464487,\n",
       "   2.071972208019501,\n",
       "   2.0678769054524646,\n",
       "   2.060782392933198,\n",
       "   2.0525515621939214,\n",
       "   2.0460810724036005,\n",
       "   2.0442222631259774,\n",
       "   2.042394207696301,\n",
       "   2.0383858240046657,\n",
       "   2.0307382320255747,\n",
       "   2.0239994285521354,\n",
       "   2.018033251511708,\n",
       "   2.0110983130128126,\n",
       "   2.0062865114030233,\n",
       "   2.001949631400257,\n",
       "   2.0001626602545732,\n",
       "   1.998972914423248,\n",
       "   1.9951302091586764,\n",
       "   1.992053695524132,\n",
       "   1.9885805019408402,\n",
       "   1.9848056108360763,\n",
       "   1.9765312134396456,\n",
       "   1.9725467455500079,\n",
       "   1.9696049314530153,\n",
       "   1.9669158878632724,\n",
       "   1.960016010051151,\n",
       "   1.9580170258294196,\n",
       "   1.953366458764494,\n",
       "   1.9479185092689895,\n",
       "   1.9463577187925716,\n",
       "   1.945163495312434,\n",
       "   1.9431146436591666,\n",
       "   1.938117594336049,\n",
       "   1.9318880146212591,\n",
       "   1.9283621133509665,\n",
       "   1.9236466277205118,\n",
       "   1.920826214248986,\n",
       "   1.9153586784486776,\n",
       "   1.9115468773489148,\n",
       "   1.9063172164919968,\n",
       "   1.9024154712090622,\n",
       "   1.898673213873023,\n",
       "   1.8909299707012817,\n",
       "   1.886924064128959,\n",
       "   1.881614515995522,\n",
       "   1.8765094011694667,\n",
       "   1.8723303587049862,\n",
       "   1.8688724363588796,\n",
       "   1.8660253769610236,\n",
       "   1.860744046449758,\n",
       "   1.8585663939476105,\n",
       "   1.8528595017870424,\n",
       "   1.8507686329763717,\n",
       "   1.8492128754252313,\n",
       "   1.8460436302101002,\n",
       "   1.8415915858907095,\n",
       "   1.8375695771375509,\n",
       "   1.8311637242321044,\n",
       "   1.8249708176869432,\n",
       "   1.8195741787031479,\n",
       "   1.8181490647265495,\n",
       "   1.81320969687914,\n",
       "   1.8122857435845443,\n",
       "   1.8106887908805027,\n",
       "   1.8060633081125144,\n",
       "   1.8004452053433821,\n",
       "   1.7989343694410358,\n",
       "   1.7923413753321202,\n",
       "   1.7867402000466088,\n",
       "   1.7852019189949582,\n",
       "   1.7803008900044581,\n",
       "   1.7791744722648504,\n",
       "   1.7745348292436562,\n",
       "   1.76836481510229,\n",
       "   1.7624969117255518,\n",
       "   1.7568438110554845,\n",
       "   1.7524897065140594,\n",
       "   1.7472690437711487,\n",
       "   1.745734744036989,\n",
       "   1.740336210652803,\n",
       "   1.7364794010508013,\n",
       "   1.7317251961691973,\n",
       "   1.7259695385351608,\n",
       "   1.724839504555971,\n",
       "   1.7208524941738395,\n",
       "   1.719290397984556,\n",
       "   1.718192446834736,\n",
       "   1.7134296164410563,\n",
       "   1.707495657418327,\n",
       "   1.702885471173877,\n",
       "   1.6978247662339008,\n",
       "   1.693694964845788,\n",
       "   1.6890841639763345,\n",
       "   1.6826244363187877,\n",
       "   1.6798949278639446,\n",
       "   1.6758983774194127,\n",
       "   1.6711548565492793,\n",
       "   1.669525758131712,\n",
       "   1.6669061779955068,\n",
       "   1.6608021187673394,\n",
       "   1.658556732706063,\n",
       "   1.6569782143967071,\n",
       "   1.653037395994667,\n",
       "   1.64753517928647,\n",
       "   1.646377256259062,\n",
       "   1.6424920346290233,\n",
       "   1.6404860128855732,\n",
       "   1.6391420811819213,\n",
       "   1.6345117443089052,\n",
       "   1.6320875270000685,\n",
       "   1.627054012967269,\n",
       "   1.6240793643050786,\n",
       "   1.6198632191008824,\n",
       "   1.616338489050438,\n",
       "   1.6133201368863541,\n",
       "   1.6080980935359985,\n",
       "   1.6038026097019706,\n",
       "   1.6008396098423543,\n",
       "   1.5973453587906858,\n",
       "   1.5959489983131157,\n",
       "   1.5946121283913575,\n",
       "   1.5927868601427073,\n",
       "   1.5891638081212547,\n",
       "   1.5880788483702337,\n",
       "   1.5870053086588105,\n",
       "   1.582123857923818,\n",
       "   1.5807996594360658,\n",
       "   1.5765618375679336,\n",
       "   1.571734953806234,\n",
       "   1.5668248845103427,\n",
       "   1.5661198322823202,\n",
       "   1.562592830850413,\n",
       "   1.5588184999013428,\n",
       "   1.55674614242716,\n",
       "   1.552354595744405,\n",
       "   1.5482272373815473,\n",
       "   1.5443911140159807,\n",
       "   1.5404731980465811,\n",
       "   1.5383090161994835,\n",
       "   1.5349728548599664,\n",
       "   1.5313629697189064,\n",
       "   1.5303233429706495,\n",
       "   1.529368045897489,\n",
       "   1.5259515037780984,\n",
       "   1.52371663470144,\n",
       "   1.5193851851676956,\n",
       "   1.5160561294860035,\n",
       "   1.5133546938500948,\n",
       "   1.512307254151195,\n",
       "   1.5077173679207647,\n",
       "   1.504105463378599,\n",
       "   1.4995525421221505,\n",
       "   1.498756840986491,\n",
       "   1.4938145428683383,\n",
       "   1.490826290063417,\n",
       "   1.487262181668363,\n",
       "   1.4863623283353808,\n",
       "   1.483198457226377,\n",
       "   1.4825182434790232,\n",
       "   1.4805494368666614,\n",
       "   1.4787869545621297,\n",
       "   1.475027283614281,\n",
       "   1.47363164512404,\n",
       "   1.4702080342604702,\n",
       "   1.4673759900313603,\n",
       "   1.4626350849962892,\n",
       "   1.4575698656333433,\n",
       "   1.4539409823138676,\n",
       "   1.449992959552409,\n",
       "   1.4470963493134283,\n",
       "   1.445924096302356,\n",
       "   1.4451313751240484,\n",
       "   1.4423236160354003,\n",
       "   1.4404373751901938,\n",
       "   1.435234545122904,\n",
       "   1.4344351342038075,\n",
       "   1.4304283083281448,\n",
       "   1.4275914779209316,\n",
       "   1.423481264314865,\n",
       "   1.4219462110995786,\n",
       "   1.4184505070492044,\n",
       "   1.4151074060474962,\n",
       "   1.4113275568986108,\n",
       "   1.4104307662164972,\n",
       "   1.4076801562255368,\n",
       "   1.4054049527352994,\n",
       "   1.4018535936533836,\n",
       "   1.3990149496721365,\n",
       "   1.3977047996594008,\n",
       "   1.397333206158971,\n",
       "   1.3947119467962297,\n",
       "   1.391905697930702,\n",
       "   1.3877175172015495,\n",
       "   1.3869844674510337,\n",
       "   1.3860876864054636,\n",
       "   1.3826299817677543,\n",
       "   1.379928721822621,\n",
       "   1.375646113212595,\n",
       "   1.3751335580191568,\n",
       "   1.3746184356676532,\n",
       "   1.3737988353930406,\n",
       "   1.3708442816941524,\n",
       "   1.3694412386250991,\n",
       "   1.367528132100592,\n",
       "   1.3631236004759937,\n",
       "   1.3624043146272622,\n",
       "   1.3582277221916303,\n",
       "   1.3549243187873923,\n",
       "   1.3528334202856978,\n",
       "   1.3501815381795799,\n",
       "   1.3477740745073805,\n",
       "   1.345756904955471,\n",
       "   1.3420086818337456,\n",
       "   1.3380223361658365,\n",
       "   1.3355592209551619,\n",
       "   1.3333377960802506,\n",
       "   1.3305198769695181,\n",
       "   1.3267441399983284,\n",
       "   1.3255409352321157,\n",
       "   1.3232491241136095,\n",
       "   1.3213191857267108,\n",
       "   1.3208473496733335,\n",
       "   1.3203460743651172,\n",
       "   1.3180924790686321,\n",
       "   1.314383396594204,\n",
       "   1.3109288176946108,\n",
       "   1.308812288468784,\n",
       "   1.3060042764386628,\n",
       "   1.3036036443617256,\n",
       "   1.3006632661914943,\n",
       "   1.2976296527317113,\n",
       "   1.2956820831002251,\n",
       "   1.2933831368478548,\n",
       "   1.2910481605563768,\n",
       "   1.2887719757520635,\n",
       "   1.2848255157721358,\n",
       "   1.2814081527965315,\n",
       "   1.2805285177553862,\n",
       "   1.2787482158584003,\n",
       "   1.278430398761598,\n",
       "   1.2756448116900698,\n",
       "   1.2724868638124331,\n",
       "   1.2719867283978765,\n",
       "   1.2690371213232228,\n",
       "   1.268752696603399,\n",
       "   1.2646509725383068,\n",
       "   1.2620617009244115,\n",
       "   1.260010950550527,\n",
       "   1.258483067185978,\n",
       "   1.2562549489340664,\n",
       "   1.254920412708156,\n",
       "   1.2532818858908161,\n",
       "   1.2508815322712108,\n",
       "   1.2500334324646813,\n",
       "   1.248468874683807,\n",
       "   1.2444720371018978,\n",
       "   1.242085852581424,\n",
       "   1.24023344888772,\n",
       "   1.238064625560249,\n",
       "   1.2343827034223505,\n",
       "   1.2331715408710446,\n",
       "   1.2311187077834638,\n",
       "   1.2276748070165204,\n",
       "   1.226947534964523,\n",
       "   1.224819123754886,\n",
       "   1.2241396461173222,\n",
       "   1.2219107826438078,\n",
       "   1.219756555464113,\n",
       "   1.2173323778353013,\n",
       "   1.2160266340534835,\n",
       "   1.2130448222873453,\n",
       "   1.2105309191396934,\n",
       "   1.2078270498070938,\n",
       "   1.206777716011818,\n",
       "   1.206188704215236,\n",
       "   1.2032050322753705,\n",
       "   1.2024369399051376,\n",
       "   1.200366087219503,\n",
       "   1.1974222396059147,\n",
       "   1.1939682040928232,\n",
       "   1.1931415478621035,\n",
       "   1.1926318667121816,\n",
       "   1.19123835618374,\n",
       "   1.189351688370159,\n",
       "   1.1857083028726987,\n",
       "   1.1830222838172681,\n",
       "   1.1817586580503638,\n",
       "   1.1796497063492488,\n",
       "   1.1793234742637058,\n",
       "   1.1779134701694378,\n",
       "   1.1764528297241625,\n",
       "   1.1758904059230706,\n",
       "   1.1740167493532363,\n",
       "   1.1722401077903968,\n",
       "   1.1703346110195878,\n",
       "   1.1679419430776306,\n",
       "   1.166142554946057,\n",
       "   1.1637891827427747,\n",
       "   1.1634989965947422,\n",
       "   1.1613107495543997,\n",
       "   1.159677300582999,\n",
       "   1.1586901777939278,\n",
       "   1.1584013850913564,\n",
       "   1.1571656040913556,\n",
       "   1.1532406197119003,\n",
       "   1.151206563901959,\n",
       "   1.1490794899133756,\n",
       "   1.1484923874818793,\n",
       "   1.1477941751845429,\n",
       "   1.1452791522834278,\n",
       "   1.1445732276852616,\n",
       "   1.1427517917396515,\n",
       "   1.1403000883900163,\n",
       "   1.1386025403862263,\n",
       "   1.1356518773888484,\n",
       "   1.1337279001759826,\n",
       "   1.132734850134268,\n",
       "   1.1298061065482419,\n",
       "   1.1280477701506262,\n",
       "   1.1265955992701493,\n",
       "   1.1254234461282635,\n",
       "   1.123784960785374,\n",
       "   1.123559903608822,\n",
       "   1.1215540666561163,\n",
       "   1.1190081124309068,\n",
       "   1.1168730210603737,\n",
       "   1.1149916219326024,\n",
       "   1.1120838660199528,\n",
       "   1.1104262511776672,\n",
       "   1.1076344235638393,\n",
       "   1.1064790696179425,\n",
       "   1.104719600118554,\n",
       "   1.1039441654532607,\n",
       "   1.10163043304576,\n",
       "   1.100276460524748,\n",
       "   1.099682446134925,\n",
       "   1.097934602027351,\n",
       "   1.0977097072647408,\n",
       "   1.0972102680559517,\n",
       "   1.0952672212570167,\n",
       "   1.0941614260737955,\n",
       "   1.0919304423217053,\n",
       "   1.0883358403915036,\n",
       "   1.0863456540733711,\n",
       "   1.0841606418490535,\n",
       "   1.0819155826894198,\n",
       "   1.0793741765294191,\n",
       "   1.078352936622473,\n",
       "   1.076118188415079,\n",
       "   1.0744923492187168,\n",
       "   1.0739723843492852,\n",
       "   1.0729556096660413,\n",
       "   1.070737895147242,\n",
       "   1.070549516735414,\n",
       "   1.0687149379659018,\n",
       "   1.065846118194483,\n",
       "   1.0631261920335444,\n",
       "   1.0620853899067366,\n",
       "   1.060548501791745,\n",
       "   1.0580024661422485,\n",
       "   1.0572389432313392,\n",
       "   1.053998338394482,\n",
       "   1.0526566931518013,\n",
       "   1.0507756934138113,\n",
       "   1.048621851904395,\n",
       "   1.0483403643060365,\n",
       "   1.0464269597825715,\n",
       "   1.0449998620543177,\n",
       "   1.0432022412620698,\n",
       "   1.0407541384765486,\n",
       "   1.0396106345583507,\n",
       "   1.038055115004621,\n",
       "   1.0356849850539485,\n",
       "   1.0333771552542048,\n",
       "   1.0324766287337923,\n",
       "   1.030810700618127,\n",
       "   1.0292017367933393,\n",
       "   1.0271237300955633,\n",
       "   1.025122716118909,\n",
       "   1.0226256632216097,\n",
       "   1.020403994476926,\n",
       "   1.0196596322725366,\n",
       "   1.0187217079683717,\n",
       "   1.0176414592334746,\n",
       "   1.017196338775559,\n",
       "   1.016852761421684,\n",
       "   1.0142686807755912,\n",
       "   1.0140932761463741,\n",
       "   1.0136370150897909,\n",
       "   1.0123679403015788,\n",
       "   1.0106618660144036,\n",
       "   1.010182192072648,\n",
       "   1.0076526124315333,\n",
       "   1.0074112584185473,\n",
       "   1.0059299715563648,\n",
       "   1.0036620206868843,\n",
       "   1.0015576343741701,\n",
       "   1.001292488798703,\n",
       "   0.9991720196687955,\n",
       "   0.9978787836506922,\n",
       "   0.9965236077129422,\n",
       "   0.9952623577393861,\n",
       "   0.9929322459948758,\n",
       "   0.9896793055050874,\n",
       "   0.987430427941558,\n",
       "   0.9863770976374336,\n",
       "   0.9838360427378494,\n",
       "   0.9827459800524468,\n",
       "   0.9807295461778112,\n",
       "   0.9795080439491614,\n",
       "   0.97750306864766,\n",
       "   0.9747584279107294,\n",
       "   0.9725129214485948,\n",
       "   0.9705811226097726,\n",
       "   0.9693457551484812,\n",
       "   0.9684852713336988,\n",
       "   0.9674011094343906,\n",
       "   0.9661330185006036,\n",
       "   0.9644875973208429,\n",
       "   0.963656504093043,\n",
       "   0.9618349443157729,\n",
       "   0.9611537528928541,\n",
       "   0.9595530186687559,\n",
       "   0.9572500443938083,\n",
       "   0.9570563512647063,\n",
       "   0.9558598469242802,\n",
       "   0.9541036867589773,\n",
       "   0.953739037996259,\n",
       "   0.95249099698488,\n",
       "   0.9507080055370895,\n",
       "   0.9488627448701469,\n",
       "   0.9482881326537076,\n",
       "   0.947081808095238,\n",
       "   0.9455110701294516,\n",
       "   0.9449780688348254,\n",
       "   0.9433976580462942,\n",
       "   0.9421587783348343,\n",
       "   0.9409951709382546,\n",
       "   0.9394939202703181,\n",
       "   0.9381376928290265,\n",
       "   0.9368004537630983,\n",
       "   0.9356325695902886,\n",
       "   0.9333448440484489,\n",
       "   0.9319772364430334,\n",
       "   0.9298736821844296,\n",
       "   0.9289974828607536,\n",
       "   0.9267585255238175,\n",
       "   0.924853317891202,\n",
       "   0.9230120085094848,\n",
       "   0.9213341808995553,\n",
       "   0.9211101882977029,\n",
       "   0.9182948351718352,\n",
       "   0.9163363105172228,\n",
       "   0.9138227922944031,\n",
       "   0.9126951975843605,\n",
       "   0.9123169095298422,\n",
       "   0.9098330225965569,\n",
       "   0.9082301061290432,\n",
       "   0.906000492901749,\n",
       "   0.904342561432242,\n",
       "   0.9028760067147994,\n",
       "   0.9013288419197142,\n",
       "   0.899109871727401,\n",
       "   0.896910104215481,\n",
       "   0.8957209979298153,\n",
       "   0.8943601849782519,\n",
       "   0.8929615091806467,\n",
       "   0.8908013530831347,\n",
       "   0.8889914478438146,\n",
       "   0.8883127296786985,\n",
       "   0.8873475681920915,\n",
       "   0.8850742741556228,\n",
       "   0.8831089250020191,\n",
       "   0.8814484777605709,\n",
       "   0.8794311570202694,\n",
       "   0.8779040428688881,\n",
       "   0.8762924955703246,\n",
       "   0.8748748198783578,\n",
       "   0.8731130447712856,\n",
       "   0.8714255599860626,\n",
       "   0.8698453489866421,\n",
       "   0.8693201251083433,\n",
       "   0.8690070246394039,\n",
       "   0.8673451669135845,\n",
       "   0.8660069756554007,\n",
       "   0.865098167832042,\n",
       "   0.8643809570660793,\n",
       "   0.8635848355352611,\n",
       "   0.861793871532835,\n",
       "   0.8596949279991336,\n",
       "   0.8582399080550082,\n",
       "   0.8568307448776874,\n",
       "   0.8546325532485566,\n",
       "   0.853966714815629,\n",
       "   0.8515398924033821,\n",
       "   0.8499377789880428,\n",
       "   0.8484125134516947,\n",
       "   0.8475929525971262,\n",
       "   0.8464095308865173,\n",
       "   0.8445403760319213,\n",
       "   0.8428270550510581,\n",
       "   0.8412249146674254,\n",
       "   0.8394931804561387,\n",
       "   0.8379965394928288,\n",
       "   0.8366937921702168,\n",
       "   0.8351849387248356,\n",
       "   0.8337175712889006,\n",
       "   0.8323628855996903,\n",
       "   0.831686572143128,\n",
       "   0.8309462599111045,\n",
       "   0.8298902307682394,\n",
       "   0.8277599065727743,\n",
       "   0.8266068274217979,\n",
       "   0.8258487149325578,\n",
       "   0.8256138422444597,\n",
       "   0.8236932472971129,\n",
       "   0.823073051895322,\n",
       "   0.8214576069872497,\n",
       "   0.8198459999667819,\n",
       "   0.8185168425766663,\n",
       "   0.8170511460563018,\n",
       "   0.8161771816634166,\n",
       "   0.8145625384308507,\n",
       "   0.8129399495801499,\n",
       "   0.8127997102801553,\n",
       "   0.8117708572972411,\n",
       "   0.8108295439550555,\n",
       "   0.8096157854289759,\n",
       "   0.8077633496865999,\n",
       "   0.8071388904759232,\n",
       "   0.805764320484449,\n",
       "   0.8043662941413403,\n",
       "   0.8028152634021258,\n",
       "   0.801746579957208,\n",
       "   0.8005125015940056,\n",
       "   0.7991267394142001,\n",
       "   0.7974323513242989,\n",
       "   0.7968078914732056,\n",
       "   0.7963984920336884,\n",
       "   0.7944386318770317,\n",
       "   0.7940926959779185,\n",
       "   0.793102415063214,\n",
       "   0.7907444947471414,\n",
       "   0.7898005989916435,\n",
       "   0.7879595848715293,\n",
       "   0.7865897831540662,\n",
       "   0.7860916193325086,\n",
       "   0.784672080199902,\n",
       "   0.7838986334461253,\n",
       "   0.7817199242758117,\n",
       "   0.7805566573476869,\n",
       "   0.7797607477708126,\n",
       "   0.7793542669192559,\n",
       "   0.7779006252983384,\n",
       "   0.7773898353987592,\n",
       "   0.7763720901588982,\n",
       "   0.7742414905444361,\n",
       "   0.7734504021417314,\n",
       "   0.7722453819695149,\n",
       "   0.7710917840398631,\n",
       "   0.7699420368064187,\n",
       "   0.7683287048857382,\n",
       "   0.7670122069905677,\n",
       "   0.766197420924966,\n",
       "   0.7655663302322112,\n",
       "   0.7643060776531149,\n",
       "   0.763666200715381,\n",
       "   0.7630033481685169,\n",
       "   0.761007565402115,\n",
       "   0.7595607561369074,\n",
       "   0.7585965751493564,\n",
       "   0.7578926371108466,\n",
       "   0.7573320191398278,\n",
       "   0.7557725513583597,\n",
       "   0.7542551597847902,\n",
       "   0.7532089855383373,\n",
       "   0.7512526102809813,\n",
       "   0.749809861995355,\n",
       "   0.7481140422935801,\n",
       "   0.7468761370037867,\n",
       "   0.7452005445462919,\n",
       "   0.7441719701400472,\n",
       "   0.742855714827787,\n",
       "   0.7426350285522391,\n",
       "   0.7407762393661577,\n",
       "   0.7387067881932873,\n",
       "   0.7378988168554695,\n",
       "   0.7365042065275482,\n",
       "   0.7361558754021773,\n",
       "   0.7354833895359041,\n",
       "   0.7335631695920188,\n",
       "   0.7324506098887059,\n",
       "   0.7314351164669103,\n",
       "   0.7299423170370599,\n",
       "   0.7289100739311066,\n",
       "   0.7277895740184986,\n",
       "   0.7265827055567368,\n",
       "   0.7248687225529519,\n",
       "   0.7245441765225877,\n",
       "   0.7235980819354674,\n",
       "   0.7227437761406864,\n",
       "   0.722525893242268,\n",
       "   0.7212435534489965,\n",
       "   0.7193096954384827,\n",
       "   0.7177552543599587,\n",
       "   0.7167888642611038,\n",
       "   0.715670842948695,\n",
       "   0.714919565535662,\n",
       "   0.7133825504866363,\n",
       "   0.7121917095468744,\n",
       "   0.7117895428470036,\n",
       "   0.7109746196588497,\n",
       "   0.7106200032708297,\n",
       "   0.7093038580465646,\n",
       "   0.7081624828827652,\n",
       "   0.7070486299657006,\n",
       "   0.7058604364078754,\n",
       "   0.7041836401490393,\n",
       "   0.7036510487359904,\n",
       "   0.7020171999063796,\n",
       "   0.7015013290630272,\n",
       "   0.6993852413990467,\n",
       "   0.6975334497459534,\n",
       "   0.6966313737245745,\n",
       "   0.6950318085064192,\n",
       "   0.6935544037447032,\n",
       "   0.6914099176134132,\n",
       "   0.6899332234480147,\n",
       "   0.6882681742898531,\n",
       "   0.6875874661980733,\n",
       "   0.6865409005829924,\n",
       "   0.6849142757791685,\n",
       "   0.6831364128477354,\n",
       "   0.6819540880196472,\n",
       "   0.6813524492480292,\n",
       "   0.6806256215083076,\n",
       "   0.680009552430861,\n",
       "   0.6789345911325603,\n",
       "   0.6783015601112043,\n",
       "   0.6765516250777179,\n",
       "   0.6752877973171754,\n",
       "   0.6744854058886671,\n",
       "   0.674354182098418,\n",
       "   0.6738639380411973,\n",
       "   0.6721928225340299,\n",
       "   0.6710345683024774,\n",
       "   0.6699779282626659,\n",
       "   0.6697555770394871,\n",
       "   0.6688332856371525,\n",
       "   0.6683634126044619,\n",
       "   0.6670469844333956,\n",
       "   0.6662537287976266,\n",
       "   0.665411053292562,\n",
       "   0.6641480857958915,\n",
       "   0.663120585038939,\n",
       "   0.6617925710787832,\n",
       "   0.6611113175120543,\n",
       "   0.6598729551831308,\n",
       "   0.6586649120556985,\n",
       "   0.657970587535776,\n",
       "   0.6570923965375938,\n",
       "   0.6568860773204511,\n",
       "   0.6554051242160881,\n",
       "   0.6545776748388482,\n",
       "   0.653718801521792,\n",
       "   0.6536391284163977,\n",
       "   0.6533868339511716,\n",
       "   0.653098261640373,\n",
       "   0.6520396679041764,\n",
       "   0.6515432272304893,\n",
       "   0.6504107021826945,\n",
       "   0.649519253882709,\n",
       "   0.648795881078914,\n",
       "   0.6478324660344156,\n",
       "   0.6472519213140491,\n",
       "   0.6466946131279054,\n",
       "   0.6462850396597639,\n",
       "   0.6451411414688037,\n",
       "   0.644626016372114,\n",
       "   0.6436501114829403,\n",
       "   0.6429384527736036,\n",
       "   0.6420321031142477,\n",
       "   0.6419540004925846,\n",
       "   0.6417034054502404,\n",
       "   0.6406679158463869,\n",
       "   0.639913452167878,\n",
       "   0.6384260517970322,\n",
       "   0.6381330549958423,\n",
       "   0.6377718579837321,\n",
       "   0.6375057128187952,\n",
       "   0.6368181185081866,\n",
       "   0.6354601340804271,\n",
       "   0.6351183033548387,\n",
       "   0.634029371413678,\n",
       "   0.6329226891673515,\n",
       "   0.6322684830394459,\n",
       "   0.6318221581976942,\n",
       "   0.6317628965138214,\n",
       "   0.6303699202663898,\n",
       "   0.6296340702747327,\n",
       "   0.6286150518427644,\n",
       "   0.628016711218586,\n",
       "   0.6266000249997699,\n",
       "   0.625787409953948,\n",
       "   0.6247264474243387,\n",
       "   0.6240337748658039,\n",
       "   0.6237208252687877,\n",
       "   0.6235224203486591,\n",
       "   0.6234492660392185,\n",
       "   0.6222951268772552,\n",
       "   0.6210671846470968,\n",
       "   0.6199118375945443,\n",
       "   0.6188821625507058,\n",
       "   0.6180848563941845,\n",
       "   0.6175074189652444,\n",
       "   0.6163429622619068,\n",
       "   0.6157675241209316,\n",
       "   0.6146782749523958,\n",
       "   0.6136506412608712,\n",
       "   0.6123733742044652,\n",
       "   0.6112508827453829,\n",
       "   0.6097525365311942,\n",
       "   0.608570181111607,\n",
       "   0.6071062552159108,\n",
       "   0.6063720606631584,\n",
       "   0.6058119500606743,\n",
       "   0.6050231200122246,\n",
       "   0.6032492704053559,\n",
       "   0.602935816605344,\n",
       "   0.6022513322295167,\n",
       "   0.6011114139972379,\n",
       "   0.6005665795169179,\n",
       "   0.5996792952091896,\n",
       "   0.5981280450609933,\n",
       "   0.5966343293601492,\n",
       "   0.5959752474986981,\n",
       "   0.5951677515570581,\n",
       "   0.5949284130126785,\n",
       "   0.5936093650672626,\n",
       "   0.5935089774236936,\n",
       "   0.5922777786702583,\n",
       "   0.5909207621901559,\n",
       "   0.5905217376443691,\n",
       "   0.5899275338435002,\n",
       "   0.5885060359108619,\n",
       "   0.5881018613436677,\n",
       "   0.5869952897746873,\n",
       "   0.5856970954586845,\n",
       "   0.5847444062403232,\n",
       "   0.5834815514879135,\n",
       "   0.5828349675806316,\n",
       "   0.581694877532947,\n",
       "   0.5803768548805631,\n",
       "   0.5800144771314993,\n",
       "   0.5787061463244149,\n",
       "   0.5780752252963396,\n",
       "   0.5775989268088388,\n",
       "   0.5762085441547348,\n",
       "   0.5755033591323346,\n",
       "   0.5751523336605776,\n",
       "   0.574001328766709,\n",
       "   0.5732862277286328,\n",
       "   0.5727547413759735,\n",
       "   0.5720130948757048,\n",
       "   0.5709409249056281,\n",
       "   0.5703395859344229,\n",
       "   0.569715264920083,\n",
       "   0.5687914878822543,\n",
       "   0.5685787809438012,\n",
       "   0.5685137386249521,\n",
       "   0.5680613738597065,\n",
       "   0.5674616451509265,\n",
       "   0.5662572886967979,\n",
       "   0.5658445268571779,\n",
       "   0.5646882161852446,\n",
       "   0.5636606844460625,\n",
       "   0.5625524406968452,\n",
       "   0.562345937058821,\n",
       "   0.5622860565603987,\n",
       "   0.5614931253775935,\n",
       "   0.5606552798573874,\n",
       "   0.5605742186427095,\n",
       "   0.559353376990349,\n",
       "   0.5576286030651317,\n",
       "   0.5568912818694024,\n",
       "   0.5562708674451301,\n",
       "   0.5555442661079668,\n",
       "   0.5540633091362194,\n",
       "   0.5524849479384004,\n",
       "   0.551236911004575]}}"
      ]
     },
     "execution_count": 15,
     "metadata": {},
     "output_type": "execute_result"
    }
   ],
   "source": [
    "catboost.get_evals_result()"
   ]
  },
  {
   "cell_type": "markdown",
   "metadata": {},
   "source": [
    "## Hyper Tunng of model"
   ]
  },
  {
   "cell_type": "code",
   "execution_count": 16,
   "metadata": {},
   "outputs": [
    {
     "data": {
      "text/html": [
       "<div>\n",
       "<style scoped>\n",
       "    .dataframe tbody tr th:only-of-type {\n",
       "        vertical-align: middle;\n",
       "    }\n",
       "\n",
       "    .dataframe tbody tr th {\n",
       "        vertical-align: top;\n",
       "    }\n",
       "\n",
       "    .dataframe thead th {\n",
       "        text-align: right;\n",
       "    }\n",
       "</style>\n",
       "<table border=\"1\" class=\"dataframe\">\n",
       "  <thead>\n",
       "    <tr style=\"text-align: right;\">\n",
       "      <th></th>\n",
       "      <th>MAE</th>\n",
       "      <th>MSE</th>\n",
       "      <th>RMSE</th>\n",
       "      <th>R2</th>\n",
       "      <th>RMSLE</th>\n",
       "      <th>MAPE</th>\n",
       "    </tr>\n",
       "  </thead>\n",
       "  <tbody>\n",
       "    <tr>\n",
       "      <th>0</th>\n",
       "      <td>2.0354</td>\n",
       "      <td>6.4780</td>\n",
       "      <td>2.5452</td>\n",
       "      <td>0.8377</td>\n",
       "      <td>0.1092</td>\n",
       "      <td>0.0900</td>\n",
       "    </tr>\n",
       "    <tr>\n",
       "      <th>1</th>\n",
       "      <td>1.6897</td>\n",
       "      <td>4.3050</td>\n",
       "      <td>2.0748</td>\n",
       "      <td>0.8867</td>\n",
       "      <td>0.1106</td>\n",
       "      <td>0.0913</td>\n",
       "    </tr>\n",
       "    <tr>\n",
       "      <th>2</th>\n",
       "      <td>1.8259</td>\n",
       "      <td>6.6346</td>\n",
       "      <td>2.5758</td>\n",
       "      <td>0.9414</td>\n",
       "      <td>0.1004</td>\n",
       "      <td>0.0812</td>\n",
       "    </tr>\n",
       "    <tr>\n",
       "      <th>3</th>\n",
       "      <td>2.7033</td>\n",
       "      <td>24.3897</td>\n",
       "      <td>4.9386</td>\n",
       "      <td>0.7756</td>\n",
       "      <td>0.1831</td>\n",
       "      <td>0.1330</td>\n",
       "    </tr>\n",
       "    <tr>\n",
       "      <th>4</th>\n",
       "      <td>2.2385</td>\n",
       "      <td>9.4652</td>\n",
       "      <td>3.0765</td>\n",
       "      <td>0.8718</td>\n",
       "      <td>0.1435</td>\n",
       "      <td>0.1096</td>\n",
       "    </tr>\n",
       "    <tr>\n",
       "      <th>5</th>\n",
       "      <td>1.7247</td>\n",
       "      <td>5.8289</td>\n",
       "      <td>2.4143</td>\n",
       "      <td>0.8558</td>\n",
       "      <td>0.1498</td>\n",
       "      <td>0.1045</td>\n",
       "    </tr>\n",
       "    <tr>\n",
       "      <th>6</th>\n",
       "      <td>1.9484</td>\n",
       "      <td>6.0675</td>\n",
       "      <td>2.4632</td>\n",
       "      <td>0.8865</td>\n",
       "      <td>0.0960</td>\n",
       "      <td>0.0824</td>\n",
       "    </tr>\n",
       "    <tr>\n",
       "      <th>7</th>\n",
       "      <td>2.0834</td>\n",
       "      <td>6.3790</td>\n",
       "      <td>2.5257</td>\n",
       "      <td>0.9416</td>\n",
       "      <td>0.1455</td>\n",
       "      <td>0.1201</td>\n",
       "    </tr>\n",
       "    <tr>\n",
       "      <th>8</th>\n",
       "      <td>2.2566</td>\n",
       "      <td>8.8916</td>\n",
       "      <td>2.9819</td>\n",
       "      <td>0.9148</td>\n",
       "      <td>0.1784</td>\n",
       "      <td>0.1423</td>\n",
       "    </tr>\n",
       "    <tr>\n",
       "      <th>9</th>\n",
       "      <td>2.1460</td>\n",
       "      <td>6.6629</td>\n",
       "      <td>2.5813</td>\n",
       "      <td>0.9455</td>\n",
       "      <td>0.1090</td>\n",
       "      <td>0.0990</td>\n",
       "    </tr>\n",
       "    <tr>\n",
       "      <th>Mean</th>\n",
       "      <td>2.0652</td>\n",
       "      <td>8.5102</td>\n",
       "      <td>2.8177</td>\n",
       "      <td>0.8857</td>\n",
       "      <td>0.1325</td>\n",
       "      <td>0.1053</td>\n",
       "    </tr>\n",
       "    <tr>\n",
       "      <th>SD</th>\n",
       "      <td>0.2845</td>\n",
       "      <td>5.4741</td>\n",
       "      <td>0.7554</td>\n",
       "      <td>0.0512</td>\n",
       "      <td>0.0303</td>\n",
       "      <td>0.0199</td>\n",
       "    </tr>\n",
       "  </tbody>\n",
       "</table>\n",
       "</div>"
      ],
      "text/plain": [
       "         MAE      MSE    RMSE      R2   RMSLE    MAPE\n",
       "0     2.0354   6.4780  2.5452  0.8377  0.1092  0.0900\n",
       "1     1.6897   4.3050  2.0748  0.8867  0.1106  0.0913\n",
       "2     1.8259   6.6346  2.5758  0.9414  0.1004  0.0812\n",
       "3     2.7033  24.3897  4.9386  0.7756  0.1831  0.1330\n",
       "4     2.2385   9.4652  3.0765  0.8718  0.1435  0.1096\n",
       "5     1.7247   5.8289  2.4143  0.8558  0.1498  0.1045\n",
       "6     1.9484   6.0675  2.4632  0.8865  0.0960  0.0824\n",
       "7     2.0834   6.3790  2.5257  0.9416  0.1455  0.1201\n",
       "8     2.2566   8.8916  2.9819  0.9148  0.1784  0.1423\n",
       "9     2.1460   6.6629  2.5813  0.9455  0.1090  0.0990\n",
       "Mean  2.0652   8.5102  2.8177  0.8857  0.1325  0.1053\n",
       "SD    0.2845   5.4741  0.7554  0.0512  0.0303  0.0199"
      ]
     },
     "metadata": {},
     "output_type": "display_data"
    }
   ],
   "source": [
    "hyper_model = tune_model('catboost',n_iter=50,optimize='mae')"
   ]
  },
  {
   "cell_type": "markdown",
   "metadata": {},
   "source": [
    "## Clustering "
   ]
  },
  {
   "cell_type": "code",
   "execution_count": 18,
   "metadata": {},
   "outputs": [
    {
     "data": {
      "text/html": [
       "<div>\n",
       "<style scoped>\n",
       "    .dataframe tbody tr th:only-of-type {\n",
       "        vertical-align: middle;\n",
       "    }\n",
       "\n",
       "    .dataframe tbody tr th {\n",
       "        vertical-align: top;\n",
       "    }\n",
       "\n",
       "    .dataframe thead th {\n",
       "        text-align: right;\n",
       "    }\n",
       "</style>\n",
       "<table border=\"1\" class=\"dataframe\">\n",
       "  <thead>\n",
       "    <tr style=\"text-align: right;\">\n",
       "      <th></th>\n",
       "      <th>Age</th>\n",
       "      <th>Income</th>\n",
       "      <th>SpendingScore</th>\n",
       "      <th>Savings</th>\n",
       "    </tr>\n",
       "  </thead>\n",
       "  <tbody>\n",
       "    <tr>\n",
       "      <th>0</th>\n",
       "      <td>58</td>\n",
       "      <td>77769</td>\n",
       "      <td>0.791329</td>\n",
       "      <td>6559.829923</td>\n",
       "    </tr>\n",
       "    <tr>\n",
       "      <th>1</th>\n",
       "      <td>59</td>\n",
       "      <td>81799</td>\n",
       "      <td>0.791082</td>\n",
       "      <td>5417.661426</td>\n",
       "    </tr>\n",
       "    <tr>\n",
       "      <th>2</th>\n",
       "      <td>62</td>\n",
       "      <td>74751</td>\n",
       "      <td>0.702657</td>\n",
       "      <td>9258.992965</td>\n",
       "    </tr>\n",
       "    <tr>\n",
       "      <th>3</th>\n",
       "      <td>59</td>\n",
       "      <td>74373</td>\n",
       "      <td>0.765680</td>\n",
       "      <td>7346.334504</td>\n",
       "    </tr>\n",
       "    <tr>\n",
       "      <th>4</th>\n",
       "      <td>87</td>\n",
       "      <td>17760</td>\n",
       "      <td>0.348778</td>\n",
       "      <td>16869.507130</td>\n",
       "    </tr>\n",
       "  </tbody>\n",
       "</table>\n",
       "</div>"
      ],
      "text/plain": [
       "   Age  Income  SpendingScore       Savings\n",
       "0   58   77769       0.791329   6559.829923\n",
       "1   59   81799       0.791082   5417.661426\n",
       "2   62   74751       0.702657   9258.992965\n",
       "3   59   74373       0.765680   7346.334504\n",
       "4   87   17760       0.348778  16869.507130"
      ]
     },
     "metadata": {},
     "output_type": "display_data"
    }
   ],
   "source": [
    "jewellery_df = get_data('jewellery')"
   ]
  },
  {
   "cell_type": "code",
   "execution_count": 20,
   "metadata": {},
   "outputs": [],
   "source": [
    "from pycaret.clustering import *"
   ]
  },
  {
   "cell_type": "code",
   "execution_count": 21,
   "metadata": {},
   "outputs": [
    {
     "name": "stdout",
     "output_type": "stream",
     "text": [
      "\n",
      "Setup Succesfully Completed!\n"
     ]
    },
    {
     "data": {
      "text/html": [
       "<style  type=\"text/css\" >\n",
       "</style><table id=\"T_3de3b630_cf56_11ea_afb8_1062e5f024e8\" ><thead>    <tr>        <th class=\"blank level0\" ></th>        <th class=\"col_heading level0 col0\" >Description</th>        <th class=\"col_heading level0 col1\" >Value</th>    </tr></thead><tbody>\n",
       "                <tr>\n",
       "                        <th id=\"T_3de3b630_cf56_11ea_afb8_1062e5f024e8level0_row0\" class=\"row_heading level0 row0\" >0</th>\n",
       "                        <td id=\"T_3de3b630_cf56_11ea_afb8_1062e5f024e8row0_col0\" class=\"data row0 col0\" >session_id </td>\n",
       "                        <td id=\"T_3de3b630_cf56_11ea_afb8_1062e5f024e8row0_col1\" class=\"data row0 col1\" >845</td>\n",
       "            </tr>\n",
       "            <tr>\n",
       "                        <th id=\"T_3de3b630_cf56_11ea_afb8_1062e5f024e8level0_row1\" class=\"row_heading level0 row1\" >1</th>\n",
       "                        <td id=\"T_3de3b630_cf56_11ea_afb8_1062e5f024e8row1_col0\" class=\"data row1 col0\" >Original Data </td>\n",
       "                        <td id=\"T_3de3b630_cf56_11ea_afb8_1062e5f024e8row1_col1\" class=\"data row1 col1\" >(505, 4)</td>\n",
       "            </tr>\n",
       "            <tr>\n",
       "                        <th id=\"T_3de3b630_cf56_11ea_afb8_1062e5f024e8level0_row2\" class=\"row_heading level0 row2\" >2</th>\n",
       "                        <td id=\"T_3de3b630_cf56_11ea_afb8_1062e5f024e8row2_col0\" class=\"data row2 col0\" >Missing Values </td>\n",
       "                        <td id=\"T_3de3b630_cf56_11ea_afb8_1062e5f024e8row2_col1\" class=\"data row2 col1\" >False</td>\n",
       "            </tr>\n",
       "            <tr>\n",
       "                        <th id=\"T_3de3b630_cf56_11ea_afb8_1062e5f024e8level0_row3\" class=\"row_heading level0 row3\" >3</th>\n",
       "                        <td id=\"T_3de3b630_cf56_11ea_afb8_1062e5f024e8row3_col0\" class=\"data row3 col0\" >Numeric Features </td>\n",
       "                        <td id=\"T_3de3b630_cf56_11ea_afb8_1062e5f024e8row3_col1\" class=\"data row3 col1\" >4</td>\n",
       "            </tr>\n",
       "            <tr>\n",
       "                        <th id=\"T_3de3b630_cf56_11ea_afb8_1062e5f024e8level0_row4\" class=\"row_heading level0 row4\" >4</th>\n",
       "                        <td id=\"T_3de3b630_cf56_11ea_afb8_1062e5f024e8row4_col0\" class=\"data row4 col0\" >Categorical Features </td>\n",
       "                        <td id=\"T_3de3b630_cf56_11ea_afb8_1062e5f024e8row4_col1\" class=\"data row4 col1\" >0</td>\n",
       "            </tr>\n",
       "            <tr>\n",
       "                        <th id=\"T_3de3b630_cf56_11ea_afb8_1062e5f024e8level0_row5\" class=\"row_heading level0 row5\" >5</th>\n",
       "                        <td id=\"T_3de3b630_cf56_11ea_afb8_1062e5f024e8row5_col0\" class=\"data row5 col0\" >Ordinal Features </td>\n",
       "                        <td id=\"T_3de3b630_cf56_11ea_afb8_1062e5f024e8row5_col1\" class=\"data row5 col1\" >False</td>\n",
       "            </tr>\n",
       "            <tr>\n",
       "                        <th id=\"T_3de3b630_cf56_11ea_afb8_1062e5f024e8level0_row6\" class=\"row_heading level0 row6\" >6</th>\n",
       "                        <td id=\"T_3de3b630_cf56_11ea_afb8_1062e5f024e8row6_col0\" class=\"data row6 col0\" >High Cardinality Features </td>\n",
       "                        <td id=\"T_3de3b630_cf56_11ea_afb8_1062e5f024e8row6_col1\" class=\"data row6 col1\" >False</td>\n",
       "            </tr>\n",
       "            <tr>\n",
       "                        <th id=\"T_3de3b630_cf56_11ea_afb8_1062e5f024e8level0_row7\" class=\"row_heading level0 row7\" >7</th>\n",
       "                        <td id=\"T_3de3b630_cf56_11ea_afb8_1062e5f024e8row7_col0\" class=\"data row7 col0\" >Transformed Data </td>\n",
       "                        <td id=\"T_3de3b630_cf56_11ea_afb8_1062e5f024e8row7_col1\" class=\"data row7 col1\" >(505, 4)</td>\n",
       "            </tr>\n",
       "            <tr>\n",
       "                        <th id=\"T_3de3b630_cf56_11ea_afb8_1062e5f024e8level0_row8\" class=\"row_heading level0 row8\" >8</th>\n",
       "                        <td id=\"T_3de3b630_cf56_11ea_afb8_1062e5f024e8row8_col0\" class=\"data row8 col0\" >Numeric Imputer </td>\n",
       "                        <td id=\"T_3de3b630_cf56_11ea_afb8_1062e5f024e8row8_col1\" class=\"data row8 col1\" >mean</td>\n",
       "            </tr>\n",
       "            <tr>\n",
       "                        <th id=\"T_3de3b630_cf56_11ea_afb8_1062e5f024e8level0_row9\" class=\"row_heading level0 row9\" >9</th>\n",
       "                        <td id=\"T_3de3b630_cf56_11ea_afb8_1062e5f024e8row9_col0\" class=\"data row9 col0\" >Categorical Imputer </td>\n",
       "                        <td id=\"T_3de3b630_cf56_11ea_afb8_1062e5f024e8row9_col1\" class=\"data row9 col1\" >constant</td>\n",
       "            </tr>\n",
       "            <tr>\n",
       "                        <th id=\"T_3de3b630_cf56_11ea_afb8_1062e5f024e8level0_row10\" class=\"row_heading level0 row10\" >10</th>\n",
       "                        <td id=\"T_3de3b630_cf56_11ea_afb8_1062e5f024e8row10_col0\" class=\"data row10 col0\" >Normalize </td>\n",
       "                        <td id=\"T_3de3b630_cf56_11ea_afb8_1062e5f024e8row10_col1\" class=\"data row10 col1\" >False</td>\n",
       "            </tr>\n",
       "            <tr>\n",
       "                        <th id=\"T_3de3b630_cf56_11ea_afb8_1062e5f024e8level0_row11\" class=\"row_heading level0 row11\" >11</th>\n",
       "                        <td id=\"T_3de3b630_cf56_11ea_afb8_1062e5f024e8row11_col0\" class=\"data row11 col0\" >Normalize Method </td>\n",
       "                        <td id=\"T_3de3b630_cf56_11ea_afb8_1062e5f024e8row11_col1\" class=\"data row11 col1\" >None</td>\n",
       "            </tr>\n",
       "            <tr>\n",
       "                        <th id=\"T_3de3b630_cf56_11ea_afb8_1062e5f024e8level0_row12\" class=\"row_heading level0 row12\" >12</th>\n",
       "                        <td id=\"T_3de3b630_cf56_11ea_afb8_1062e5f024e8row12_col0\" class=\"data row12 col0\" >Transformation </td>\n",
       "                        <td id=\"T_3de3b630_cf56_11ea_afb8_1062e5f024e8row12_col1\" class=\"data row12 col1\" >False</td>\n",
       "            </tr>\n",
       "            <tr>\n",
       "                        <th id=\"T_3de3b630_cf56_11ea_afb8_1062e5f024e8level0_row13\" class=\"row_heading level0 row13\" >13</th>\n",
       "                        <td id=\"T_3de3b630_cf56_11ea_afb8_1062e5f024e8row13_col0\" class=\"data row13 col0\" >Transformation Method </td>\n",
       "                        <td id=\"T_3de3b630_cf56_11ea_afb8_1062e5f024e8row13_col1\" class=\"data row13 col1\" >None</td>\n",
       "            </tr>\n",
       "            <tr>\n",
       "                        <th id=\"T_3de3b630_cf56_11ea_afb8_1062e5f024e8level0_row14\" class=\"row_heading level0 row14\" >14</th>\n",
       "                        <td id=\"T_3de3b630_cf56_11ea_afb8_1062e5f024e8row14_col0\" class=\"data row14 col0\" >PCA </td>\n",
       "                        <td id=\"T_3de3b630_cf56_11ea_afb8_1062e5f024e8row14_col1\" class=\"data row14 col1\" >False</td>\n",
       "            </tr>\n",
       "            <tr>\n",
       "                        <th id=\"T_3de3b630_cf56_11ea_afb8_1062e5f024e8level0_row15\" class=\"row_heading level0 row15\" >15</th>\n",
       "                        <td id=\"T_3de3b630_cf56_11ea_afb8_1062e5f024e8row15_col0\" class=\"data row15 col0\" >PCA Method </td>\n",
       "                        <td id=\"T_3de3b630_cf56_11ea_afb8_1062e5f024e8row15_col1\" class=\"data row15 col1\" >None</td>\n",
       "            </tr>\n",
       "            <tr>\n",
       "                        <th id=\"T_3de3b630_cf56_11ea_afb8_1062e5f024e8level0_row16\" class=\"row_heading level0 row16\" >16</th>\n",
       "                        <td id=\"T_3de3b630_cf56_11ea_afb8_1062e5f024e8row16_col0\" class=\"data row16 col0\" >PCA components </td>\n",
       "                        <td id=\"T_3de3b630_cf56_11ea_afb8_1062e5f024e8row16_col1\" class=\"data row16 col1\" >None</td>\n",
       "            </tr>\n",
       "            <tr>\n",
       "                        <th id=\"T_3de3b630_cf56_11ea_afb8_1062e5f024e8level0_row17\" class=\"row_heading level0 row17\" >17</th>\n",
       "                        <td id=\"T_3de3b630_cf56_11ea_afb8_1062e5f024e8row17_col0\" class=\"data row17 col0\" >Ignore Low Variance </td>\n",
       "                        <td id=\"T_3de3b630_cf56_11ea_afb8_1062e5f024e8row17_col1\" class=\"data row17 col1\" >False</td>\n",
       "            </tr>\n",
       "            <tr>\n",
       "                        <th id=\"T_3de3b630_cf56_11ea_afb8_1062e5f024e8level0_row18\" class=\"row_heading level0 row18\" >18</th>\n",
       "                        <td id=\"T_3de3b630_cf56_11ea_afb8_1062e5f024e8row18_col0\" class=\"data row18 col0\" >Combine Rare Levels </td>\n",
       "                        <td id=\"T_3de3b630_cf56_11ea_afb8_1062e5f024e8row18_col1\" class=\"data row18 col1\" >False</td>\n",
       "            </tr>\n",
       "            <tr>\n",
       "                        <th id=\"T_3de3b630_cf56_11ea_afb8_1062e5f024e8level0_row19\" class=\"row_heading level0 row19\" >19</th>\n",
       "                        <td id=\"T_3de3b630_cf56_11ea_afb8_1062e5f024e8row19_col0\" class=\"data row19 col0\" >Rare Level Threshold </td>\n",
       "                        <td id=\"T_3de3b630_cf56_11ea_afb8_1062e5f024e8row19_col1\" class=\"data row19 col1\" >None</td>\n",
       "            </tr>\n",
       "            <tr>\n",
       "                        <th id=\"T_3de3b630_cf56_11ea_afb8_1062e5f024e8level0_row20\" class=\"row_heading level0 row20\" >20</th>\n",
       "                        <td id=\"T_3de3b630_cf56_11ea_afb8_1062e5f024e8row20_col0\" class=\"data row20 col0\" >Numeric Binning </td>\n",
       "                        <td id=\"T_3de3b630_cf56_11ea_afb8_1062e5f024e8row20_col1\" class=\"data row20 col1\" >False</td>\n",
       "            </tr>\n",
       "            <tr>\n",
       "                        <th id=\"T_3de3b630_cf56_11ea_afb8_1062e5f024e8level0_row21\" class=\"row_heading level0 row21\" >21</th>\n",
       "                        <td id=\"T_3de3b630_cf56_11ea_afb8_1062e5f024e8row21_col0\" class=\"data row21 col0\" >Remove Multicollinearity </td>\n",
       "                        <td id=\"T_3de3b630_cf56_11ea_afb8_1062e5f024e8row21_col1\" class=\"data row21 col1\" >False</td>\n",
       "            </tr>\n",
       "            <tr>\n",
       "                        <th id=\"T_3de3b630_cf56_11ea_afb8_1062e5f024e8level0_row22\" class=\"row_heading level0 row22\" >22</th>\n",
       "                        <td id=\"T_3de3b630_cf56_11ea_afb8_1062e5f024e8row22_col0\" class=\"data row22 col0\" >Multicollinearity Threshold </td>\n",
       "                        <td id=\"T_3de3b630_cf56_11ea_afb8_1062e5f024e8row22_col1\" class=\"data row22 col1\" >None</td>\n",
       "            </tr>\n",
       "            <tr>\n",
       "                        <th id=\"T_3de3b630_cf56_11ea_afb8_1062e5f024e8level0_row23\" class=\"row_heading level0 row23\" >23</th>\n",
       "                        <td id=\"T_3de3b630_cf56_11ea_afb8_1062e5f024e8row23_col0\" class=\"data row23 col0\" >Group Features </td>\n",
       "                        <td id=\"T_3de3b630_cf56_11ea_afb8_1062e5f024e8row23_col1\" class=\"data row23 col1\" >False</td>\n",
       "            </tr>\n",
       "    </tbody></table>"
      ],
      "text/plain": [
       "<pandas.io.formats.style.Styler at 0x1e1c7bbc808>"
      ]
     },
     "metadata": {},
     "output_type": "display_data"
    }
   ],
   "source": [
    "clust_algo=setup(jewellery_df)   "
   ]
  },
  {
   "cell_type": "markdown",
   "metadata": {},
   "source": [
    "# create a model"
   ]
  },
  {
   "cell_type": "code",
   "execution_count": 22,
   "metadata": {},
   "outputs": [],
   "source": [
    "kmeans=create_model('kmeans')"
   ]
  },
  {
   "cell_type": "code",
   "execution_count": 23,
   "metadata": {},
   "outputs": [
    {
     "data": {
      "text/plain": [
       "KMeans(algorithm='auto', copy_x=True, init='k-means++', max_iter=300,\n",
       "       n_clusters=4, n_init=10, n_jobs=None, precompute_distances='auto',\n",
       "       random_state=845, tol=0.0001, verbose=0)"
      ]
     },
     "execution_count": 23,
     "metadata": {},
     "output_type": "execute_result"
    }
   ],
   "source": [
    "kmeans"
   ]
  },
  {
   "cell_type": "markdown",
   "metadata": {},
   "source": [
    "# assign labels using trained model"
   ]
  },
  {
   "cell_type": "code",
   "execution_count": 24,
   "metadata": {},
   "outputs": [],
   "source": [
    "kmeans_df = assign_model(kmeans)"
   ]
  },
  {
   "cell_type": "code",
   "execution_count": 25,
   "metadata": {},
   "outputs": [
    {
     "data": {
      "text/html": [
       "<div>\n",
       "<style scoped>\n",
       "    .dataframe tbody tr th:only-of-type {\n",
       "        vertical-align: middle;\n",
       "    }\n",
       "\n",
       "    .dataframe tbody tr th {\n",
       "        vertical-align: top;\n",
       "    }\n",
       "\n",
       "    .dataframe thead th {\n",
       "        text-align: right;\n",
       "    }\n",
       "</style>\n",
       "<table border=\"1\" class=\"dataframe\">\n",
       "  <thead>\n",
       "    <tr style=\"text-align: right;\">\n",
       "      <th></th>\n",
       "      <th>Age</th>\n",
       "      <th>Income</th>\n",
       "      <th>SpendingScore</th>\n",
       "      <th>Savings</th>\n",
       "      <th>Cluster</th>\n",
       "    </tr>\n",
       "  </thead>\n",
       "  <tbody>\n",
       "    <tr>\n",
       "      <th>0</th>\n",
       "      <td>58</td>\n",
       "      <td>77769</td>\n",
       "      <td>0.791329</td>\n",
       "      <td>6559.829923</td>\n",
       "      <td>Cluster 2</td>\n",
       "    </tr>\n",
       "    <tr>\n",
       "      <th>1</th>\n",
       "      <td>59</td>\n",
       "      <td>81799</td>\n",
       "      <td>0.791082</td>\n",
       "      <td>5417.661426</td>\n",
       "      <td>Cluster 2</td>\n",
       "    </tr>\n",
       "    <tr>\n",
       "      <th>2</th>\n",
       "      <td>62</td>\n",
       "      <td>74751</td>\n",
       "      <td>0.702657</td>\n",
       "      <td>9258.992965</td>\n",
       "      <td>Cluster 2</td>\n",
       "    </tr>\n",
       "    <tr>\n",
       "      <th>3</th>\n",
       "      <td>59</td>\n",
       "      <td>74373</td>\n",
       "      <td>0.765680</td>\n",
       "      <td>7346.334504</td>\n",
       "      <td>Cluster 2</td>\n",
       "    </tr>\n",
       "    <tr>\n",
       "      <th>4</th>\n",
       "      <td>87</td>\n",
       "      <td>17760</td>\n",
       "      <td>0.348778</td>\n",
       "      <td>16869.507130</td>\n",
       "      <td>Cluster 0</td>\n",
       "    </tr>\n",
       "    <tr>\n",
       "      <th>...</th>\n",
       "      <td>...</td>\n",
       "      <td>...</td>\n",
       "      <td>...</td>\n",
       "      <td>...</td>\n",
       "      <td>...</td>\n",
       "    </tr>\n",
       "    <tr>\n",
       "      <th>500</th>\n",
       "      <td>28</td>\n",
       "      <td>101206</td>\n",
       "      <td>0.387441</td>\n",
       "      <td>14936.775389</td>\n",
       "      <td>Cluster 3</td>\n",
       "    </tr>\n",
       "    <tr>\n",
       "      <th>501</th>\n",
       "      <td>93</td>\n",
       "      <td>19934</td>\n",
       "      <td>0.203140</td>\n",
       "      <td>17969.693769</td>\n",
       "      <td>Cluster 0</td>\n",
       "    </tr>\n",
       "    <tr>\n",
       "      <th>502</th>\n",
       "      <td>90</td>\n",
       "      <td>35297</td>\n",
       "      <td>0.355149</td>\n",
       "      <td>16091.401954</td>\n",
       "      <td>Cluster 0</td>\n",
       "    </tr>\n",
       "    <tr>\n",
       "      <th>503</th>\n",
       "      <td>91</td>\n",
       "      <td>20681</td>\n",
       "      <td>0.354679</td>\n",
       "      <td>18401.088445</td>\n",
       "      <td>Cluster 0</td>\n",
       "    </tr>\n",
       "    <tr>\n",
       "      <th>504</th>\n",
       "      <td>89</td>\n",
       "      <td>30267</td>\n",
       "      <td>0.289310</td>\n",
       "      <td>14386.351880</td>\n",
       "      <td>Cluster 0</td>\n",
       "    </tr>\n",
       "  </tbody>\n",
       "</table>\n",
       "<p>505 rows × 5 columns</p>\n",
       "</div>"
      ],
      "text/plain": [
       "     Age  Income  SpendingScore       Savings    Cluster\n",
       "0     58   77769       0.791329   6559.829923  Cluster 2\n",
       "1     59   81799       0.791082   5417.661426  Cluster 2\n",
       "2     62   74751       0.702657   9258.992965  Cluster 2\n",
       "3     59   74373       0.765680   7346.334504  Cluster 2\n",
       "4     87   17760       0.348778  16869.507130  Cluster 0\n",
       "..   ...     ...            ...           ...        ...\n",
       "500   28  101206       0.387441  14936.775389  Cluster 3\n",
       "501   93   19934       0.203140  17969.693769  Cluster 0\n",
       "502   90   35297       0.355149  16091.401954  Cluster 0\n",
       "503   91   20681       0.354679  18401.088445  Cluster 0\n",
       "504   89   30267       0.289310  14386.351880  Cluster 0\n",
       "\n",
       "[505 rows x 5 columns]"
      ]
     },
     "execution_count": 25,
     "metadata": {},
     "output_type": "execute_result"
    }
   ],
   "source": [
    "kmeans_df"
   ]
  },
  {
   "cell_type": "markdown",
   "metadata": {},
   "source": [
    "# plot a model"
   ]
  },
  {
   "cell_type": "code",
   "execution_count": 26,
   "metadata": {},
   "outputs": [
    {
     "data": {
      "text/html": [
       "        <script type=\"text/javascript\">\n",
       "        window.PlotlyConfig = {MathJaxConfig: 'local'};\n",
       "        if (window.MathJax) {MathJax.Hub.Config({SVG: {font: \"STIX-Web\"}});}\n",
       "        if (typeof require !== 'undefined') {\n",
       "        require.undef(\"plotly\");\n",
       "        requirejs.config({\n",
       "            paths: {\n",
       "                'plotly': ['https://cdn.plot.ly/plotly-latest.min']\n",
       "            }\n",
       "        });\n",
       "        require(['plotly'], function(Plotly) {\n",
       "            window._Plotly = Plotly;\n",
       "        });\n",
       "        }\n",
       "        </script>\n",
       "        "
      ]
     },
     "metadata": {},
     "output_type": "display_data"
    },
    {
     "data": {
      "application/vnd.plotly.v1+json": {
       "config": {
        "plotlyServerURL": "https://plot.ly"
       },
       "data": [
        {
         "customdata": [
          [
           58
          ],
          [
           59
          ],
          [
           62
          ],
          [
           59
          ],
          [
           87
          ],
          [
           29
          ],
          [
           54
          ],
          [
           87
          ],
          [
           83
          ],
          [
           84
          ],
          [
           85
          ],
          [
           36
          ],
          [
           30
          ],
          [
           31
          ],
          [
           61
          ],
          [
           92
          ],
          [
           55
          ],
          [
           87
          ],
          [
           82
          ],
          [
           88
          ],
          [
           30
          ],
          [
           84
          ],
          [
           53
          ],
          [
           91
          ],
          [
           89
          ],
          [
           30
          ],
          [
           17
          ],
          [
           55
          ],
          [
           90
          ],
          [
           61
          ],
          [
           59
          ],
          [
           59
          ],
          [
           88
          ],
          [
           56
          ],
          [
           33
          ],
          [
           61
          ],
          [
           84
          ],
          [
           61
          ],
          [
           39
          ],
          [
           31
          ],
          [
           60
          ],
          [
           87
          ],
          [
           20
          ],
          [
           57
          ],
          [
           61
          ],
          [
           18
          ],
          [
           83
          ],
          [
           25
          ],
          [
           31
          ],
          [
           55
          ],
          [
           84
          ],
          [
           36
          ],
          [
           27
          ],
          [
           91
          ],
          [
           53
          ],
          [
           91
          ],
          [
           25
          ],
          [
           83
          ],
          [
           87
          ],
          [
           90
          ],
          [
           83
          ],
          [
           83
          ],
          [
           83
          ],
          [
           61
          ],
          [
           64
          ],
          [
           62
          ],
          [
           91
          ],
          [
           28
          ],
          [
           23
          ],
          [
           55
          ],
          [
           58
          ],
          [
           31
          ],
          [
           83
          ],
          [
           91
          ],
          [
           30
          ],
          [
           57
          ],
          [
           33
          ],
          [
           59
          ],
          [
           58
          ],
          [
           29
          ],
          [
           59
          ],
          [
           84
          ],
          [
           64
          ],
          [
           87
          ],
          [
           88
          ],
          [
           35
          ],
          [
           34
          ],
          [
           58
          ],
          [
           56
          ],
          [
           63
          ],
          [
           58
          ],
          [
           60
          ],
          [
           24
          ],
          [
           94
          ],
          [
           58
          ],
          [
           25
          ],
          [
           36
          ],
          [
           62
          ],
          [
           66
          ],
          [
           37
          ],
          [
           27
          ],
          [
           24
          ],
          [
           31
          ],
          [
           23
          ],
          [
           34
          ],
          [
           88
          ],
          [
           89
          ],
          [
           32
          ],
          [
           38
          ],
          [
           57
          ],
          [
           90
          ],
          [
           33
          ],
          [
           66
          ],
          [
           35
          ],
          [
           31
          ],
          [
           35
          ],
          [
           63
          ],
          [
           30
          ],
          [
           22
          ],
          [
           84
          ],
          [
           28
          ],
          [
           88
          ],
          [
           84
          ],
          [
           88
          ],
          [
           35
          ],
          [
           82
          ],
          [
           64
          ],
          [
           91
          ],
          [
           62
          ],
          [
           62
          ],
          [
           34
          ],
          [
           60
          ],
          [
           32
          ],
          [
           65
          ],
          [
           24
          ],
          [
           88
          ],
          [
           82
          ],
          [
           26
          ],
          [
           60
          ],
          [
           31
          ],
          [
           85
          ],
          [
           63
          ],
          [
           56
          ],
          [
           28
          ],
          [
           58
          ],
          [
           26
          ],
          [
           62
          ]
         ],
         "hoverlabel": {
          "namelength": 0
         },
         "hovertemplate": "Cluster=Cluster 0<br>PCA1=%{x}<br>PCA2=%{y}<br>Feature=%{customdata[0]}",
         "legendgroup": "Cluster=Cluster 0",
         "marker": {
          "color": "#636efa",
          "opacity": 0.5,
          "symbol": "circle"
         },
         "mode": "markers",
         "name": "Cluster=Cluster 0",
         "showlegend": true,
         "textposition": "top center",
         "type": "scatter",
         "x": [
          -45316.58140609572,
          -54957.490989172424,
          -50446.68725850566,
          -50055.78756429364,
          -44945.69901444308,
          -48329.3752198635,
          -47000.17170879298,
          -47148.049506652664,
          -48496.847924973124,
          -53103.84791289739,
          -47271.4132762422,
          -58306.89374121142,
          -46108.56441807319,
          -44680.893509319314,
          -45148.06214608798,
          -57495.82751822286,
          -42805.17469366237,
          -48890.162042831726,
          -49427.5241370262,
          -47129.84416342068,
          -47975.62989430377,
          -40907.25147798816,
          -36822.88272990113,
          -46897.28720484192,
          -45489.1200242187,
          -46888.405898773824,
          -51006.62596717186,
          -59885.18345080095,
          -51335.69636219811,
          -42382.69883203629,
          -43219.57063079803,
          -46294.69652581516,
          -49640.516333935986,
          -33685.82303783506,
          -41654.28537091678,
          -47490.05337363714,
          -46752.17189114916,
          -45592.66271459654,
          -47339.947334108336,
          -48459.578853164734,
          -41047.376366850374,
          -42194.798734952485,
          -41090.43271162372,
          -47211.30921897948,
          -39708.646989663546,
          -37510.588011321226,
          -56854.24491468416,
          -57176.86780610614,
          -56820.087553604324,
          -55300.43835611656,
          -53514.36608306832,
          -54413.15855352482,
          -49206.072979236276,
          -56178.67327005185,
          -44821.27195537102,
          -46206.76070917295,
          -48254.00622992496,
          -41272.895339861854,
          -55116.83601816846,
          -58771.330100436266,
          -51459.5135054635,
          -28723.991919566055,
          -37730.76934060824,
          -50504.82314273778,
          -39916.59061152698,
          -45508.35388587774,
          -48448.18982139348,
          -43012.769783491465,
          -57750.75774612399,
          -49274.442396159386,
          -53484.99044797628,
          -39882.0233313831,
          -60035.35573518639,
          -46522.91941975125,
          -63656.347589980236,
          -42172.091423728205,
          -43231.47790879885,
          -55368.98427568018,
          -48469.758225555845,
          -51191.18311026804,
          -53329.08890863802,
          -42253.8728779583,
          -58127.503870270106,
          -42594.24300193304,
          -48762.36466827127,
          -48754.55322293154,
          -49610.67501015978,
          -28705.212826769864,
          -47927.75615335333,
          -49952.56386424763,
          -56491.726161601524,
          -45504.92821664394,
          -43811.47262039395,
          -63634.722002739654,
          -42432.64509966234,
          -40724.15688509671,
          -39063.286676190975,
          -53680.72058527798,
          -50029.0486734845,
          -42334.04767150641,
          -42152.50281937882,
          -42485.19893050845,
          -49618.56425158398,
          -42546.309287033895,
          -39255.47386551352,
          -52508.303533435814,
          -48338.70466261939,
          -49083.98904448355,
          -53905.33080870677,
          -52957.61629178105,
          -45053.501151340235,
          -45243.335995709866,
          -53120.5407087459,
          -49855.36023906125,
          -56895.33602609473,
          -38257.01252267876,
          -55003.11473536301,
          -47591.225111220076,
          -52877.381646033435,
          -38870.672641380406,
          -41183.652071657176,
          -52219.78891026333,
          -57888.98693798624,
          -51858.952852259834,
          -48031.60033869842,
          -46621.67518992095,
          -51590.97205811309,
          -52350.136881607745,
          -44891.726940178225,
          -33223.78792758698,
          -51240.79467490217,
          -41229.08532646796,
          -51304.42079121027,
          -44207.36919669012,
          -48086.471615067894,
          -57945.29400939387,
          -47366.64939309721,
          -48867.334224124825,
          -39730.754923732035,
          -57516.2731836365,
          -52745.27199507392,
          -55837.89621255916,
          -40392.52353813583,
          -44316.390976136594,
          -47072.83270827887,
          -40276.44813108962,
          -45889.16124528402
         ],
         "xaxis": "x",
         "y": [
          72.34189620851785,
          -1273.0340909671518,
          -1789.8310613735052,
          -458.73293797346844,
          -2663.436303414359,
          -2106.956548531858,
          -3258.5927312494305,
          -948.170032003414,
          -1255.02312171752,
          -1838.6646455566597,
          -1422.2632521531461,
          -1498.3070625904006,
          -4704.900718140079,
          -3320.2381091067414,
          -918.4435413744576,
          -874.5938320396237,
          -2383.9235864924353,
          -3117.043572435124,
          -3282.4967836895166,
          -2166.945526513025,
          -2697.480649636873,
          -2247.7230980697595,
          -3004.135925035733,
          -1500.5997535503463,
          -857.2365574199121,
          -1747.2845158743758,
          1229.6342021037997,
          968.1821841701764,
          -2253.3249547903133,
          -1026.2178281219421,
          -982.637404545743,
          -3445.140762666877,
          -2403.452656500527,
          -2359.981060852438,
          -1284.276335232602,
          -1025.6556377131587,
          -4260.667936777424,
          -1858.7415428672748,
          -2756.210456765216,
          -623.0248233972353,
          163.00860194240587,
          -2831.2449726497775,
          -2507.4680378488583,
          -497.0287321468146,
          -2812.640832274527,
          -2385.930673599972,
          -1039.8869670204494,
          -500.3822260290351,
          -2626.494760123042,
          -2379.445392952535,
          -3511.6505427575594,
          -1055.996893175368,
          646.5438723752039,
          -1450.7318688866612,
          -809.2478504066135,
          -3972.4372911141977,
          -3586.392912339362,
          -2039.0519450914785,
          -3386.631387427837,
          -1946.4256348815334,
          -1443.6312210611668,
          -1283.249341684221,
          -3447.522865699353,
          -2541.1040744024217,
          -5860.406970913431,
          -1716.0957515179948,
          -424.49445160247126,
          -2388.3975155671874,
          -1546.7860227984643,
          -1819.1411133435668,
          -2964.871161538943,
          -3145.838811669632,
          -2067.7852022028565,
          -2395.150620327911,
          -672.1303645870984,
          -3482.9509244203145,
          -2464.3665067293477,
          -990.6075970316537,
          -975.0110199269371,
          -2999.048136853006,
          -3704.115203066883,
          -2813.4088657561033,
          -3329.42415575039,
          -4573.1359496761315,
          -1902.303752571812,
          -3476.7575329414076,
          -2494.3460158547696,
          -2125.5165732968335,
          1139.0677249894084,
          -1016.3628176053357,
          -1529.9495201383827,
          -1656.425055816305,
          -3844.0506429942843,
          -958.5365645110758,
          -2804.3175987818177,
          -3403.3549980948796,
          -2178.9512608782675,
          -1523.1531827794759,
          -2907.7981801354913,
          -946.4427010468276,
          -3595.426499455155,
          -1573.1293339464696,
          -1200.498708574701,
          -2323.9550250667417,
          -2456.062469507206,
          -2003.379558614893,
          -296.9479102201368,
          -2706.954245859542,
          776.7213551828818,
          -512.1681616652361,
          -3267.853088065968,
          -2386.7446703879705,
          -2373.9068521136155,
          -2551.6409458673006,
          -219.83567344032053,
          -3209.705699855123,
          -1806.3716349634756,
          -2876.0168218541626,
          -1034.0462861180686,
          -4966.632983631632,
          -2299.177576458252,
          -361.82287722905966,
          -2297.410428456015,
          -1998.314514884126,
          -2520.879670925899,
          -1061.3928297006282,
          -1709.6809922654031,
          -1271.8366968001824,
          -1059.5099705589173,
          -4327.5998004040275,
          -337.5831102994585,
          -559.8887343311568,
          -1341.6421504993375,
          -1788.5950192551393,
          -3267.6645334787445,
          -1690.2235244245405,
          -2226.523883594685,
          -3330.0950893142635,
          -3215.3117531036196,
          -2662.2379174130574,
          -3270.2500120301265,
          -2913.1513261933924,
          -1918.0706539765367,
          -1681.1078093986155,
          -3652.1430220775055,
          -3159.4030652887395,
          -3656.860040523122
         ],
         "yaxis": "y"
        },
        {
         "customdata": [
          [
           86
          ],
          [
           56
          ],
          [
           91
          ],
          [
           59
          ],
          [
           28
          ],
          [
           85
          ],
          [
           65
          ],
          [
           94
          ],
          [
           86
          ],
          [
           30
          ],
          [
           62
          ],
          [
           85
          ],
          [
           59
          ],
          [
           30
          ],
          [
           83
          ],
          [
           66
          ],
          [
           31
          ],
          [
           88
          ],
          [
           28
          ],
          [
           85
          ],
          [
           64
          ],
          [
           33
          ],
          [
           62
          ],
          [
           89
          ],
          [
           61
          ],
          [
           29
          ],
          [
           56
          ],
          [
           92
          ],
          [
           62
          ],
          [
           60
          ],
          [
           85
          ],
          [
           88
          ],
          [
           94
          ],
          [
           62
          ],
          [
           64
          ],
          [
           29
          ],
          [
           27
          ],
          [
           31
          ],
          [
           87
          ],
          [
           32
          ],
          [
           63
          ],
          [
           58
          ],
          [
           62
          ],
          [
           32
          ],
          [
           93
          ],
          [
           59
          ],
          [
           61
          ],
          [
           53
          ],
          [
           82
          ],
          [
           28
          ],
          [
           32
          ],
          [
           89
          ],
          [
           84
          ],
          [
           87
          ],
          [
           29
          ],
          [
           58
          ],
          [
           29
          ],
          [
           55
          ],
          [
           25
          ],
          [
           60
          ],
          [
           88
          ],
          [
           24
          ],
          [
           56
          ],
          [
           95
          ],
          [
           89
          ],
          [
           86
          ],
          [
           85
          ],
          [
           60
          ],
          [
           87
          ],
          [
           29
          ],
          [
           23
          ],
          [
           31
          ]
         ],
         "hoverlabel": {
          "namelength": 0
         },
         "hovertemplate": "Cluster=Cluster 1<br>PCA1=%{x}<br>PCA2=%{y}<br>Feature=%{customdata[0]}",
         "legendgroup": "Cluster=Cluster 1",
         "marker": {
          "color": "#EF553B",
          "opacity": 0.5,
          "symbol": "circle"
         },
         "mode": "markers",
         "name": "Cluster=Cluster 1",
         "showlegend": true,
         "textposition": "top center",
         "type": "scatter",
         "x": [
          62912.4570978058,
          43629.01273923759,
          59239.85352839823,
          48281.964764022,
          53899.23405997969,
          59803.04557919312,
          47415.389162405416,
          53976.79000263139,
          55587.35173073369,
          48577.245944563736,
          47549.76254622715,
          47842.883679066596,
          53422.55248570134,
          56651.455483747566,
          48410.00929047235,
          56449.678138281495,
          41580.27174463825,
          42157.80542870103,
          57857.2890569224,
          58984.550274967354,
          53924.59703955887,
          66750.62108457668,
          59196.593086339206,
          47182.06858155585,
          42045.79570257143,
          55809.6082599399,
          55168.451545061995,
          44952.90203538899,
          42414.139844093974,
          46993.64108790844,
          43861.747091025536,
          43084.43130106841,
          59798.17482849982,
          63317.06653244304,
          43600.21618030983,
          54778.91990969155,
          44074.744322679544,
          52844.214540832174,
          51532.4700584046,
          54542.56026091139,
          47836.44839182693,
          47210.61128412969,
          48551.89779119273,
          61085.16181542701,
          48029.23598296099,
          51395.224355999606,
          47518.881318568005,
          46000.802484699634,
          41859.15436997563,
          45302.570904167515,
          52465.03358666001,
          45728.40114434421,
          48697.328544410055,
          52086.380658927315,
          47964.55226138697,
          52679.13742245064,
          50397.083897731434,
          50433.851384533395,
          55795.99791496406,
          49923.23240258641,
          48602.5711118403,
          54230.311420476704,
          52263.49410874456,
          45049.713037748574,
          50874.593733151894,
          46271.749990668206,
          41328.25266331004,
          55783.42885801502,
          45280.29645748772,
          61617.256021857334,
          41933.87634909218,
          45920.30384600765
         ],
         "xaxis": "x",
         "y": [
          5261.355213266389,
          -6254.840941209131,
          4745.144589124807,
          8499.966944599808,
          3176.74688540909,
          8450.307562492613,
          4709.388807631826,
          5488.389984582108,
          3427.1351952588097,
          -6305.307759672736,
          3437.89648239478,
          4758.188729714915,
          3894.2354791277476,
          4271.292185091135,
          -5693.6654411574555,
          5101.398697367522,
          -5615.560772408647,
          -5954.45460185115,
          5717.501137167641,
          3350.711617933646,
          5765.842845736466,
          2693.0081866217497,
          3903.9749268153687,
          -4557.7166017918835,
          -3106.103475868364,
          3879.1497332626573,
          4016.981622201614,
          -4985.514801220404,
          -5432.28181950965,
          -4647.129088588657,
          -6877.035883382073,
          -4660.855622444516,
          4315.7517925590655,
          4946.1775101205085,
          -5657.47883152001,
          4629.791365281097,
          -6307.66914062598,
          -5677.667475551917,
          6006.733833662532,
          4193.882999372307,
          6059.9833233745485,
          6674.234677495918,
          4668.214697412173,
          4243.721728508765,
          5422.323757682563,
          5657.241494980817,
          4941.999362973272,
          3884.4528513190835,
          -4543.326267067202,
          3778.181421309609,
          3371.533065013097,
          3658.30650125222,
          5282.497809754309,
          3388.4270346813737,
          -4397.186114919684,
          -4749.057025715371,
          2890.550968564704,
          -6854.206134077963,
          4252.897540706996,
          6048.724079227707,
          6249.537360930084,
          3238.4287703236846,
          5916.3580541298315,
          4590.8725834561055,
          -5178.05281344008,
          4207.414796612182,
          -4823.645899335599,
          4732.087714707707,
          4437.35656616774,
          6726.313750520612,
          4717.997205237609,
          -4953.921129423367
         ],
         "yaxis": "y"
        },
        {
         "customdata": [
          [
           89
          ],
          [
           58
          ],
          [
           56
          ],
          [
           37
          ],
          [
           89
          ],
          [
           29
          ],
          [
           23
          ],
          [
           34
          ],
          [
           64
          ],
          [
           63
          ],
          [
           85
          ],
          [
           62
          ],
          [
           59
          ],
          [
           92
          ],
          [
           67
          ],
          [
           58
          ],
          [
           58
          ],
          [
           38
          ],
          [
           57
          ],
          [
           31
          ],
          [
           36
          ],
          [
           25
          ],
          [
           66
          ],
          [
           64
          ],
          [
           59
          ],
          [
           90
          ],
          [
           68
          ],
          [
           35
          ],
          [
           84
          ],
          [
           24
          ],
          [
           29
          ],
          [
           28
          ],
          [
           81
          ],
          [
           57
          ],
          [
           37
          ],
          [
           91
          ],
          [
           82
          ],
          [
           36
          ],
          [
           31
          ],
          [
           61
          ],
          [
           64
          ],
          [
           83
          ],
          [
           63
          ],
          [
           55
          ],
          [
           86
          ],
          [
           57
          ],
          [
           94
          ],
          [
           37
          ],
          [
           26
          ],
          [
           57
          ],
          [
           37
          ],
          [
           88
          ],
          [
           61
          ],
          [
           91
          ],
          [
           84
          ],
          [
           43
          ],
          [
           59
          ],
          [
           90
          ],
          [
           88
          ],
          [
           59
          ],
          [
           59
          ],
          [
           88
          ],
          [
           37
          ],
          [
           33
          ],
          [
           90
          ],
          [
           31
          ],
          [
           90
          ],
          [
           91
          ],
          [
           29
          ],
          [
           83
          ],
          [
           84
          ],
          [
           87
          ],
          [
           22
          ],
          [
           58
          ],
          [
           31
          ],
          [
           33
          ],
          [
           56
          ],
          [
           30
          ],
          [
           85
          ],
          [
           87
          ],
          [
           34
          ],
          [
           61
          ],
          [
           30
          ],
          [
           88
          ],
          [
           56
          ],
          [
           30
          ],
          [
           25
          ],
          [
           61
          ],
          [
           88
          ],
          [
           37
          ],
          [
           35
          ],
          [
           85
          ],
          [
           85
          ],
          [
           88
          ],
          [
           59
          ],
          [
           90
          ],
          [
           33
          ],
          [
           62
          ],
          [
           59
          ],
          [
           91
          ],
          [
           33
          ],
          [
           87
          ],
          [
           26
          ],
          [
           88
          ],
          [
           24
          ],
          [
           91
          ],
          [
           86
          ],
          [
           36
          ],
          [
           87
          ],
          [
           33
          ],
          [
           59
          ],
          [
           29
          ],
          [
           59
          ],
          [
           57
          ],
          [
           40
          ],
          [
           42
          ],
          [
           89
          ],
          [
           93
          ],
          [
           17
          ],
          [
           24
          ],
          [
           34
          ],
          [
           90
          ],
          [
           20
          ],
          [
           92
          ],
          [
           84
          ],
          [
           59
          ],
          [
           61
          ],
          [
           67
          ],
          [
           82
          ],
          [
           94
          ],
          [
           28
          ],
          [
           36
          ],
          [
           91
          ],
          [
           34
          ],
          [
           77
          ],
          [
           63
          ],
          [
           35
          ],
          [
           21
          ],
          [
           86
          ],
          [
           56
          ],
          [
           83
          ],
          [
           28
          ],
          [
           59
          ],
          [
           83
          ],
          [
           83
          ],
          [
           58
          ],
          [
           91
          ],
          [
           29
          ],
          [
           61
          ],
          [
           84
          ],
          [
           34
          ],
          [
           33
          ],
          [
           55
          ],
          [
           88
          ],
          [
           91
          ],
          [
           91
          ]
         ],
         "hoverlabel": {
          "namelength": 0
         },
         "hovertemplate": "Cluster=Cluster 2<br>PCA1=%{x}<br>PCA2=%{y}<br>Feature=%{customdata[0]}",
         "legendgroup": "Cluster=Cluster 2",
         "marker": {
          "color": "#00cc96",
          "opacity": 0.5,
          "symbol": "circle"
         },
         "mode": "markers",
         "name": "Cluster=Cluster 2",
         "showlegend": true,
         "textposition": "top center",
         "type": "scatter",
         "x": [
          -4883.720561797816,
          -6075.723945911878,
          -3222.0284971176493,
          7034.566991846883,
          1855.0479869186872,
          -967.1345292294807,
          -12402.61400603575,
          -18832.323089995116,
          3607.6218475354526,
          -7793.454352086529,
          -3147.9716901023985,
          -811.2733012583031,
          2868.6753358918168,
          -3127.7464754071825,
          -10419.65072709328,
          3333.0370081988954,
          834.6063416853576,
          3574.8676282851384,
          -6270.130057704644,
          375.61202524741856,
          -7981.746810683446,
          3735.2223001205516,
          -4588.8456828873295,
          4615.604589783904,
          -7793.211508914166,
          -805.5182840466936,
          -1424.2968527852481,
          5122.282562298926,
          -4661.643199436448,
          -6586.37501559635,
          -9270.983246113978,
          -1864.594059061442,
          -11770.096221904701,
          -7431.169946592951,
          7017.4072298069605,
          -3197.7706749317103,
          4968.764645874579,
          -6214.354917756376,
          1547.9124395594301,
          -4794.730185972465,
          -5787.584457334292,
          -9600.009525716903,
          5679.935032255563,
          2663.8141427242635,
          -5898.744479681155,
          -7827.504392605752,
          -9176.939917160451,
          -1755.3663563989899,
          -7225.65665149656,
          5619.125538763636,
          -2220.635450610066,
          -10371.487057071721,
          -1709.0067116984387,
          -9823.29297141866,
          -4114.6658125026715,
          -5149.414552966315,
          -6051.798027149638,
          2555.7842351602194,
          5567.478117111814,
          -1710.0091006297748,
          -2630.794135208183,
          1381.2925438039001,
          -10238.837928743043,
          -2329.6167597527674,
          -3536.6248996188688,
          -11570.0136294723,
          -12594.17524212854,
          -3881.2792235448337,
          -9447.566957019668,
          -4595.725467462928,
          277.3194547180395,
          9121.208329826191,
          499.4966180961377,
          -4176.722631704312,
          -6529.597912750259,
          -7423.928769536233,
          3385.822049131326,
          -5414.849621380299,
          11039.02694203172,
          -5806.077052611822,
          -10072.875118803538,
          3175.7301008876843,
          -5327.512619806886,
          -6874.447300583787,
          -6945.490220855904,
          1198.2155272857278,
          7325.256189492701,
          -7249.028129796933,
          4864.683651413004,
          -9153.992100917847,
          -5628.983771409215,
          -8175.944783841659,
          4848.442764387989,
          10499.40729594559,
          6644.597612798241,
          -611.8920766835461,
          -879.6961231840174,
          1270.592618636517,
          -3354.4093954920545,
          -3652.051627219518,
          1535.3200349238723,
          3442.067865401052,
          1691.146999005505,
          -9514.742122293774,
          -5495.930030665687,
          -11393.264281389047,
          -1006.7942808926932,
          -11385.807297750893,
          -5228.773548143101,
          106.4473078300019,
          -2009.7086141751718,
          11129.424149229624,
          -4333.353171495315,
          13091.374153516696,
          -860.4354477953826,
          1797.8692846207573,
          -2601.8696283459453,
          -4972.92214112997,
          4241.775895153055,
          -4197.995995572506,
          -5414.451723823098,
          -14757.626854505625,
          -6112.7019668389385,
          -13124.391604038414,
          -847.3002227743357,
          -907.6690876091155,
          -3902.6507601274056,
          -1148.5927138363118,
          -284.93461613174594,
          1223.3332842063587,
          -4025.5345868614954,
          -9955.599000501976,
          5073.4873565223525,
          2456.114942910887,
          -5713.304475031719,
          -10817.514881421745,
          -18377.080919160908,
          -182.87509706289768,
          -3578.6411667637367,
          -12401.01261442264,
          384.48865377879036,
          -9604.976101231407,
          -4335.1212236682495,
          -4856.160277619082,
          -15876.014194933887,
          3594.042421690836,
          -1254.796105082274,
          -7927.279393999565,
          2392.9514000132376,
          871.0561448640489,
          1380.909585482264,
          -5506.504775277301,
          8122.080380415554,
          -7740.904879089727,
          -15159.901916245684,
          -1867.5011952055163
         ],
         "xaxis": "x",
         "y": [
          4688.370746949259,
          3500.596454313254,
          4129.1811894163575,
          3374.2871342934277,
          5468.743274286698,
          4638.724240674152,
          4277.420432790429,
          6823.253328040569,
          4852.444518767339,
          5788.853893383749,
          5506.996622913862,
          4771.515153180694,
          5223.642330390358,
          5318.281993622227,
          5982.858221439133,
          4012.215493342317,
          5141.101367432592,
          6638.189488143048,
          5401.821696967169,
          5049.606296947776,
          3467.56597491142,
          4370.467828822719,
          4468.268102563843,
          5713.442041909505,
          6334.243251982049,
          4348.095679784138,
          7267.3285423970065,
          3424.0736039052886,
          4875.412034392043,
          4795.6596223075985,
          5996.549152653396,
          5267.3525532097765,
          5001.4207831968515,
          6342.036901878028,
          5588.800602998205,
          5127.949261280456,
          3943.117073633913,
          8154.20053386381,
          3973.9069974865133,
          5174.470545977295,
          5711.628393266971,
          4923.2816033552235,
          4711.285967238692,
          3399.120354730323,
          5205.84015421388,
          5701.697575023514,
          7146.66285825278,
          4273.205301847635,
          4564.617621855317,
          4314.80390898497,
          4177.140129281851,
          6211.274488459201,
          3684.695295940359,
          6862.24757208061,
          3078.8964384945934,
          5556.666139133821,
          6221.6834539400215,
          5164.690387393576,
          6399.679457928579,
          5692.091704359401,
          5512.809888472101,
          5207.22109750901,
          7423.315368546437,
          6502.207882775594,
          5070.4130984363255,
          6393.584927460238,
          5058.593507665868,
          3532.750801645637,
          6026.370137728773,
          4575.315245883316,
          5152.077722121316,
          4076.188863858498,
          4450.572465085802,
          5121.948177991021,
          5174.060016070753,
          5595.425208078432,
          4513.159427781258,
          4509.378948047732,
          4384.68728953157,
          5686.1323499518085,
          7033.832306225476,
          4727.079813055349,
          5507.674538617935,
          3266.47018326438,
          5240.283697626607,
          6031.59778009812,
          5245.750156657963,
          5030.101509904846,
          4834.9539918658875,
          6237.4550067498,
          3413.4609900340342,
          5599.274828311295,
          6716.38927008233,
          4092.5868105824957,
          6074.108821940041,
          2642.85646287331,
          4574.029852480233,
          4918.861099714737,
          4039.049708218608,
          4298.147934215798,
          6617.143404468859,
          3293.9257098257863,
          4305.60551337014,
          5484.062210130751,
          5033.927181148625,
          4760.726683836123,
          6827.73675228087,
          5239.834486252132,
          4906.82136911701,
          5019.545071865861,
          4571.311601888515,
          2451.395645635492,
          6791.121727987132,
          3878.074005604353,
          1366.21750619139,
          3616.9066222648635,
          5720.0639106318495,
          5053.974394482308,
          4854.373611538008,
          4646.423038232096,
          6401.496850378558,
          5008.012103778608,
          7150.26568620421,
          5122.298575466135,
          5435.293808150466,
          4662.571801362162,
          5499.339332721767,
          6154.518606181516,
          4064.0083360808107,
          5666.367954752702,
          5644.552199614272,
          4085.312250446122,
          5244.436809348918,
          5539.978254276126,
          6098.407171499211,
          6677.482101590939,
          5086.374324713106,
          4411.3243537762855,
          4687.331305792246,
          6731.6223712281435,
          6845.141814371279,
          5517.456998799794,
          2658.297518890414,
          6861.84171058151,
          7337.4625843307695,
          5244.223767536206,
          6380.9154942927935,
          5673.527728610805,
          5992.68409410971,
          5689.000453091912,
          5567.112673818733,
          6298.430178867736,
          4731.012058760929,
          5133.63947168739,
          5573.24359276873,
          2685.662685436796
         ],
         "yaxis": "y"
        },
        {
         "customdata": [
          [
           84
          ],
          [
           87
          ],
          [
           39
          ],
          [
           38
          ],
          [
           89
          ],
          [
           59
          ],
          [
           35
          ],
          [
           59
          ],
          [
           87
          ],
          [
           94
          ],
          [
           86
          ],
          [
           60
          ],
          [
           79
          ],
          [
           86
          ],
          [
           60
          ],
          [
           85
          ],
          [
           92
          ],
          [
           37
          ],
          [
           89
          ],
          [
           67
          ],
          [
           31
          ],
          [
           20
          ],
          [
           37
          ],
          [
           57
          ],
          [
           87
          ],
          [
           33
          ],
          [
           56
          ],
          [
           67
          ],
          [
           58
          ],
          [
           89
          ],
          [
           34
          ],
          [
           25
          ],
          [
           44
          ],
          [
           68
          ],
          [
           31
          ],
          [
           58
          ],
          [
           55
          ],
          [
           21
          ],
          [
           36
          ],
          [
           88
          ],
          [
           26
          ],
          [
           29
          ],
          [
           38
          ],
          [
           79
          ],
          [
           51
          ],
          [
           82
          ],
          [
           39
          ],
          [
           87
          ],
          [
           36
          ],
          [
           57
          ],
          [
           61
          ],
          [
           86
          ],
          [
           86
          ],
          [
           35
          ],
          [
           89
          ],
          [
           30
          ],
          [
           60
          ],
          [
           64
          ],
          [
           37
          ],
          [
           65
          ],
          [
           90
          ],
          [
           59
          ],
          [
           29
          ],
          [
           58
          ],
          [
           88
          ],
          [
           63
          ],
          [
           92
          ],
          [
           17
          ],
          [
           34
          ],
          [
           22
          ],
          [
           24
          ],
          [
           36
          ],
          [
           34
          ],
          [
           87
          ],
          [
           85
          ],
          [
           61
          ],
          [
           27
          ],
          [
           59
          ],
          [
           31
          ],
          [
           31
          ],
          [
           93
          ],
          [
           17
          ],
          [
           35
          ],
          [
           28
          ],
          [
           94
          ],
          [
           28
          ],
          [
           33
          ],
          [
           56
          ],
          [
           28
          ],
          [
           86
          ],
          [
           92
          ],
          [
           18
          ],
          [
           61
          ],
          [
           32
          ],
          [
           63
          ],
          [
           58
          ],
          [
           31
          ],
          [
           62
          ],
          [
           60
          ],
          [
           62
          ],
          [
           90
          ],
          [
           33
          ],
          [
           33
          ],
          [
           65
          ],
          [
           59
          ],
          [
           65
          ],
          [
           86
          ],
          [
           32
          ],
          [
           84
          ],
          [
           84
          ],
          [
           90
          ],
          [
           91
          ],
          [
           26
          ],
          [
           92
          ],
          [
           97
          ],
          [
           84
          ],
          [
           58
          ],
          [
           61
          ],
          [
           92
          ],
          [
           87
          ],
          [
           66
          ],
          [
           22
          ],
          [
           91
          ],
          [
           30
          ],
          [
           25
          ],
          [
           28
          ],
          [
           93
          ],
          [
           90
          ],
          [
           91
          ],
          [
           89
          ]
         ],
         "hoverlabel": {
          "namelength": 0
         },
         "hovertemplate": "Cluster=Cluster 3<br>PCA1=%{x}<br>PCA2=%{y}<br>Feature=%{customdata[0]}",
         "legendgroup": "Cluster=Cluster 3",
         "marker": {
          "color": "#ab63fa",
          "opacity": 0.5,
          "symbol": "circle"
         },
         "mode": "markers",
         "name": "Cluster=Cluster 3",
         "showlegend": true,
         "textposition": "top center",
         "type": "scatter",
         "x": [
          30949.63690199798,
          31614.442565419136,
          24294.808478346375,
          23967.00608797566,
          32345.70842870064,
          32322.90855312252,
          22258.608668569934,
          35579.20581580634,
          26298.148410246762,
          22105.03459107828,
          20592.346613007798,
          38543.62512292873,
          26507.042872359947,
          28639.385002450545,
          22224.556143435322,
          33345.15627123124,
          23196.213306438265,
          28912.895136199986,
          28627.25985640035,
          21900.785300032792,
          41298.63129283512,
          30268.705481263336,
          25474.402763797323,
          18943.372817813055,
          38847.169767760824,
          39135.37622313012,
          30148.682673916126,
          31911.00123936639,
          15764.49143141586,
          25328.069962281716,
          32572.750272366236,
          25376.693266073198,
          37228.734745200745,
          32912.892063315885,
          24706.128352845186,
          35758.27543553674,
          31361.085267799186,
          31045.220255678825,
          24491.38889864477,
          32416.939873895597,
          30584.12461511328,
          25732.344972190596,
          25363.919226720453,
          32289.540207166698,
          22350.769816321597,
          32797.643669354984,
          31202.41268247612,
          25765.790042328405,
          30806.77634195283,
          30046.489080926105,
          22393.417730180165,
          19017.169464917533,
          32307.93672914099,
          40849.48059769069,
          24827.97878054601,
          34360.481807350625,
          35187.9105346847,
          40419.57669510422,
          20486.140695945483,
          32561.02536006334,
          23858.59824002346,
          23748.677815454088,
          23032.680124651302,
          32149.921292682928,
          26228.37628643624,
          35572.71538685361,
          23470.847033328053,
          30614.165778553604,
          39941.23737509613,
          30155.334159637023,
          15177.319714667701,
          40673.85964432752,
          36260.39985707393,
          37939.717008912405,
          26983.04636427824,
          34834.90179466002,
          35036.71585548726,
          26023.566351406193,
          33379.42058468916,
          29861.546669621497,
          30836.978307627473,
          39513.273555432446,
          27412.691405421272,
          31253.468530449452,
          19785.99439327471,
          35711.07999432951,
          23392.942046850632,
          14006.000965365427,
          30950.101839682433,
          26312.372968927575,
          36008.72535912236,
          37194.90227907425,
          38869.64945267174,
          32210.979768642454,
          31960.754514207303,
          33203.84256888808,
          26578.153196266227,
          36813.767134204005,
          28960.634964946814,
          23896.368807904128,
          19295.2676868096,
          28681.549887585796,
          39399.40138181154,
          34753.14848573086,
          34060.87750047388,
          23022.218263126684,
          31016.95277066792,
          34830.86603735363,
          32691.86956168578,
          24819.360949497783,
          26003.522431925656,
          29210.55694643973,
          33217.92661094815,
          31330.343984524825,
          32853.06228369531,
          34815.254920538115,
          27758.387575808243,
          29240.509748648146,
          26343.6786739025,
          35023.21627080034,
          21973.30795044386,
          31502.360342968266,
          16918.67620110016,
          24613.751980326157,
          31317.298064553746,
          27456.91326667315,
          22236.16947437232,
          38938.118138714395,
          26071.981181359286,
          25938.05049675628
         ],
         "xaxis": "x",
         "y": [
          -4397.197322284793,
          -3948.4131537015073,
          -3156.174867738152,
          -5918.696393593378,
          -2201.720436215356,
          -3681.2903856818034,
          -5195.925409188556,
          -6195.2565154027325,
          -5023.038755192274,
          -4346.18774155061,
          -4611.587648361574,
          -7198.063753004442,
          -5484.6746561210975,
          -3130.9505393461045,
          -5737.014216399172,
          -6080.299826048203,
          -5613.71494647387,
          -5224.554435670844,
          -3324.8164217780172,
          -5234.914435436247,
          -6422.065006311353,
          -4917.675594824387,
          -4541.161711915865,
          -6099.926511675161,
          -8209.639308093878,
          -4339.7070164257575,
          -3727.6412226852462,
          -2672.911296966154,
          -2149.152212076624,
          -4507.818852759072,
          -6711.0058147720265,
          -3922.329207394542,
          -4575.537648425254,
          -4588.664684244313,
          -6304.286871577944,
          -4122.472097486014,
          -4837.589604607754,
          -4354.880673536975,
          -3378.54409054787,
          -3316.8737845198507,
          -5198.651743783722,
          -4846.2800097461195,
          -6518.877743618626,
          -3634.3413606407403,
          -5405.192380070513,
          -5654.54684838932,
          -4006.880782404125,
          -4647.515091833699,
          -5560.204679600004,
          -2733.1094851712655,
          -5150.746928288214,
          -4587.0566004039965,
          -3401.081521768778,
          -5591.430862352509,
          -5088.608312301611,
          -5038.816440742179,
          -4164.858385743974,
          -6642.2336402639485,
          -4804.203700356801,
          -5658.529147335399,
          -4857.997302514553,
          -4085.387888540779,
          -5461.179044520955,
          -5508.945169399095,
          -4266.484164687802,
          -4807.665202226777,
          -4720.248925408389,
          -4762.4349126193365,
          -5237.495032301008,
          -6491.845916302066,
          4253.670268811263,
          -5771.827716588531,
          -3890.344796261257,
          -4683.440281859754,
          -2897.418110778121,
          -5079.540930731752,
          -6415.6995362262505,
          -7172.334785619937,
          -4139.053044046941,
          -4210.491742797325,
          -4248.41099877993,
          -4805.682520520945,
          -5970.659605817781,
          -4792.820172444664,
          -4699.391527469764,
          -4543.481105344736,
          -5117.926369906293,
          -1775.6050399833523,
          -6274.399407676458,
          -4286.405360287333,
          -6111.7051713952615,
          -4030.486076235752,
          -4117.836047019015,
          -5806.362366658899,
          -7950.13767990454,
          -6552.893169384947,
          -4542.181472406771,
          -4615.462129870631,
          -5439.90238179201,
          -4653.572550884042,
          -3266.6501002799137,
          -4194.11245457707,
          -5202.090344164469,
          -4008.5890127539024,
          -5075.6783511490075,
          -4439.122859420633,
          -4865.00440731728,
          -5377.229021116217,
          -6066.4571229345775,
          -6443.116567478202,
          -3786.1336424715305,
          -6286.356908964105,
          -4387.404636496325,
          -5635.163544619187,
          -5910.595724540105,
          -5108.281670571715,
          -3524.6018820414947,
          -5240.709879901143,
          -3863.0068749343077,
          -4416.57727325612,
          -5227.97230615995,
          -5081.205331963824,
          -2877.1946078768774,
          -3288.4642893518353,
          -6141.763263553497,
          -4868.312164441829,
          -4400.042331000773,
          -4443.169815276389,
          -4687.764619495449,
          -4054.2528418970855
         ],
         "yaxis": "y"
        }
       ],
       "layout": {
        "height": 600,
        "legend": {
         "tracegroupgap": 0
        },
        "margin": {
         "t": 60
        },
        "plot_bgcolor": "rgb(240,240,240)",
        "template": {
         "data": {
          "bar": [
           {
            "error_x": {
             "color": "#2a3f5f"
            },
            "error_y": {
             "color": "#2a3f5f"
            },
            "marker": {
             "line": {
              "color": "#E5ECF6",
              "width": 0.5
             }
            },
            "type": "bar"
           }
          ],
          "barpolar": [
           {
            "marker": {
             "line": {
              "color": "#E5ECF6",
              "width": 0.5
             }
            },
            "type": "barpolar"
           }
          ],
          "carpet": [
           {
            "aaxis": {
             "endlinecolor": "#2a3f5f",
             "gridcolor": "white",
             "linecolor": "white",
             "minorgridcolor": "white",
             "startlinecolor": "#2a3f5f"
            },
            "baxis": {
             "endlinecolor": "#2a3f5f",
             "gridcolor": "white",
             "linecolor": "white",
             "minorgridcolor": "white",
             "startlinecolor": "#2a3f5f"
            },
            "type": "carpet"
           }
          ],
          "choropleth": [
           {
            "colorbar": {
             "outlinewidth": 0,
             "ticks": ""
            },
            "type": "choropleth"
           }
          ],
          "contour": [
           {
            "colorbar": {
             "outlinewidth": 0,
             "ticks": ""
            },
            "colorscale": [
             [
              0,
              "#0d0887"
             ],
             [
              0.1111111111111111,
              "#46039f"
             ],
             [
              0.2222222222222222,
              "#7201a8"
             ],
             [
              0.3333333333333333,
              "#9c179e"
             ],
             [
              0.4444444444444444,
              "#bd3786"
             ],
             [
              0.5555555555555556,
              "#d8576b"
             ],
             [
              0.6666666666666666,
              "#ed7953"
             ],
             [
              0.7777777777777778,
              "#fb9f3a"
             ],
             [
              0.8888888888888888,
              "#fdca26"
             ],
             [
              1,
              "#f0f921"
             ]
            ],
            "type": "contour"
           }
          ],
          "contourcarpet": [
           {
            "colorbar": {
             "outlinewidth": 0,
             "ticks": ""
            },
            "type": "contourcarpet"
           }
          ],
          "heatmap": [
           {
            "colorbar": {
             "outlinewidth": 0,
             "ticks": ""
            },
            "colorscale": [
             [
              0,
              "#0d0887"
             ],
             [
              0.1111111111111111,
              "#46039f"
             ],
             [
              0.2222222222222222,
              "#7201a8"
             ],
             [
              0.3333333333333333,
              "#9c179e"
             ],
             [
              0.4444444444444444,
              "#bd3786"
             ],
             [
              0.5555555555555556,
              "#d8576b"
             ],
             [
              0.6666666666666666,
              "#ed7953"
             ],
             [
              0.7777777777777778,
              "#fb9f3a"
             ],
             [
              0.8888888888888888,
              "#fdca26"
             ],
             [
              1,
              "#f0f921"
             ]
            ],
            "type": "heatmap"
           }
          ],
          "heatmapgl": [
           {
            "colorbar": {
             "outlinewidth": 0,
             "ticks": ""
            },
            "colorscale": [
             [
              0,
              "#0d0887"
             ],
             [
              0.1111111111111111,
              "#46039f"
             ],
             [
              0.2222222222222222,
              "#7201a8"
             ],
             [
              0.3333333333333333,
              "#9c179e"
             ],
             [
              0.4444444444444444,
              "#bd3786"
             ],
             [
              0.5555555555555556,
              "#d8576b"
             ],
             [
              0.6666666666666666,
              "#ed7953"
             ],
             [
              0.7777777777777778,
              "#fb9f3a"
             ],
             [
              0.8888888888888888,
              "#fdca26"
             ],
             [
              1,
              "#f0f921"
             ]
            ],
            "type": "heatmapgl"
           }
          ],
          "histogram": [
           {
            "marker": {
             "colorbar": {
              "outlinewidth": 0,
              "ticks": ""
             }
            },
            "type": "histogram"
           }
          ],
          "histogram2d": [
           {
            "colorbar": {
             "outlinewidth": 0,
             "ticks": ""
            },
            "colorscale": [
             [
              0,
              "#0d0887"
             ],
             [
              0.1111111111111111,
              "#46039f"
             ],
             [
              0.2222222222222222,
              "#7201a8"
             ],
             [
              0.3333333333333333,
              "#9c179e"
             ],
             [
              0.4444444444444444,
              "#bd3786"
             ],
             [
              0.5555555555555556,
              "#d8576b"
             ],
             [
              0.6666666666666666,
              "#ed7953"
             ],
             [
              0.7777777777777778,
              "#fb9f3a"
             ],
             [
              0.8888888888888888,
              "#fdca26"
             ],
             [
              1,
              "#f0f921"
             ]
            ],
            "type": "histogram2d"
           }
          ],
          "histogram2dcontour": [
           {
            "colorbar": {
             "outlinewidth": 0,
             "ticks": ""
            },
            "colorscale": [
             [
              0,
              "#0d0887"
             ],
             [
              0.1111111111111111,
              "#46039f"
             ],
             [
              0.2222222222222222,
              "#7201a8"
             ],
             [
              0.3333333333333333,
              "#9c179e"
             ],
             [
              0.4444444444444444,
              "#bd3786"
             ],
             [
              0.5555555555555556,
              "#d8576b"
             ],
             [
              0.6666666666666666,
              "#ed7953"
             ],
             [
              0.7777777777777778,
              "#fb9f3a"
             ],
             [
              0.8888888888888888,
              "#fdca26"
             ],
             [
              1,
              "#f0f921"
             ]
            ],
            "type": "histogram2dcontour"
           }
          ],
          "mesh3d": [
           {
            "colorbar": {
             "outlinewidth": 0,
             "ticks": ""
            },
            "type": "mesh3d"
           }
          ],
          "parcoords": [
           {
            "line": {
             "colorbar": {
              "outlinewidth": 0,
              "ticks": ""
             }
            },
            "type": "parcoords"
           }
          ],
          "pie": [
           {
            "automargin": true,
            "type": "pie"
           }
          ],
          "scatter": [
           {
            "marker": {
             "colorbar": {
              "outlinewidth": 0,
              "ticks": ""
             }
            },
            "type": "scatter"
           }
          ],
          "scatter3d": [
           {
            "line": {
             "colorbar": {
              "outlinewidth": 0,
              "ticks": ""
             }
            },
            "marker": {
             "colorbar": {
              "outlinewidth": 0,
              "ticks": ""
             }
            },
            "type": "scatter3d"
           }
          ],
          "scattercarpet": [
           {
            "marker": {
             "colorbar": {
              "outlinewidth": 0,
              "ticks": ""
             }
            },
            "type": "scattercarpet"
           }
          ],
          "scattergeo": [
           {
            "marker": {
             "colorbar": {
              "outlinewidth": 0,
              "ticks": ""
             }
            },
            "type": "scattergeo"
           }
          ],
          "scattergl": [
           {
            "marker": {
             "colorbar": {
              "outlinewidth": 0,
              "ticks": ""
             }
            },
            "type": "scattergl"
           }
          ],
          "scattermapbox": [
           {
            "marker": {
             "colorbar": {
              "outlinewidth": 0,
              "ticks": ""
             }
            },
            "type": "scattermapbox"
           }
          ],
          "scatterpolar": [
           {
            "marker": {
             "colorbar": {
              "outlinewidth": 0,
              "ticks": ""
             }
            },
            "type": "scatterpolar"
           }
          ],
          "scatterpolargl": [
           {
            "marker": {
             "colorbar": {
              "outlinewidth": 0,
              "ticks": ""
             }
            },
            "type": "scatterpolargl"
           }
          ],
          "scatterternary": [
           {
            "marker": {
             "colorbar": {
              "outlinewidth": 0,
              "ticks": ""
             }
            },
            "type": "scatterternary"
           }
          ],
          "surface": [
           {
            "colorbar": {
             "outlinewidth": 0,
             "ticks": ""
            },
            "colorscale": [
             [
              0,
              "#0d0887"
             ],
             [
              0.1111111111111111,
              "#46039f"
             ],
             [
              0.2222222222222222,
              "#7201a8"
             ],
             [
              0.3333333333333333,
              "#9c179e"
             ],
             [
              0.4444444444444444,
              "#bd3786"
             ],
             [
              0.5555555555555556,
              "#d8576b"
             ],
             [
              0.6666666666666666,
              "#ed7953"
             ],
             [
              0.7777777777777778,
              "#fb9f3a"
             ],
             [
              0.8888888888888888,
              "#fdca26"
             ],
             [
              1,
              "#f0f921"
             ]
            ],
            "type": "surface"
           }
          ],
          "table": [
           {
            "cells": {
             "fill": {
              "color": "#EBF0F8"
             },
             "line": {
              "color": "white"
             }
            },
            "header": {
             "fill": {
              "color": "#C8D4E3"
             },
             "line": {
              "color": "white"
             }
            },
            "type": "table"
           }
          ]
         },
         "layout": {
          "annotationdefaults": {
           "arrowcolor": "#2a3f5f",
           "arrowhead": 0,
           "arrowwidth": 1
          },
          "coloraxis": {
           "colorbar": {
            "outlinewidth": 0,
            "ticks": ""
           }
          },
          "colorscale": {
           "diverging": [
            [
             0,
             "#8e0152"
            ],
            [
             0.1,
             "#c51b7d"
            ],
            [
             0.2,
             "#de77ae"
            ],
            [
             0.3,
             "#f1b6da"
            ],
            [
             0.4,
             "#fde0ef"
            ],
            [
             0.5,
             "#f7f7f7"
            ],
            [
             0.6,
             "#e6f5d0"
            ],
            [
             0.7,
             "#b8e186"
            ],
            [
             0.8,
             "#7fbc41"
            ],
            [
             0.9,
             "#4d9221"
            ],
            [
             1,
             "#276419"
            ]
           ],
           "sequential": [
            [
             0,
             "#0d0887"
            ],
            [
             0.1111111111111111,
             "#46039f"
            ],
            [
             0.2222222222222222,
             "#7201a8"
            ],
            [
             0.3333333333333333,
             "#9c179e"
            ],
            [
             0.4444444444444444,
             "#bd3786"
            ],
            [
             0.5555555555555556,
             "#d8576b"
            ],
            [
             0.6666666666666666,
             "#ed7953"
            ],
            [
             0.7777777777777778,
             "#fb9f3a"
            ],
            [
             0.8888888888888888,
             "#fdca26"
            ],
            [
             1,
             "#f0f921"
            ]
           ],
           "sequentialminus": [
            [
             0,
             "#0d0887"
            ],
            [
             0.1111111111111111,
             "#46039f"
            ],
            [
             0.2222222222222222,
             "#7201a8"
            ],
            [
             0.3333333333333333,
             "#9c179e"
            ],
            [
             0.4444444444444444,
             "#bd3786"
            ],
            [
             0.5555555555555556,
             "#d8576b"
            ],
            [
             0.6666666666666666,
             "#ed7953"
            ],
            [
             0.7777777777777778,
             "#fb9f3a"
            ],
            [
             0.8888888888888888,
             "#fdca26"
            ],
            [
             1,
             "#f0f921"
            ]
           ]
          },
          "colorway": [
           "#636efa",
           "#EF553B",
           "#00cc96",
           "#ab63fa",
           "#FFA15A",
           "#19d3f3",
           "#FF6692",
           "#B6E880",
           "#FF97FF",
           "#FECB52"
          ],
          "font": {
           "color": "#2a3f5f"
          },
          "geo": {
           "bgcolor": "white",
           "lakecolor": "white",
           "landcolor": "#E5ECF6",
           "showlakes": true,
           "showland": true,
           "subunitcolor": "white"
          },
          "hoverlabel": {
           "align": "left"
          },
          "hovermode": "closest",
          "mapbox": {
           "style": "light"
          },
          "paper_bgcolor": "white",
          "plot_bgcolor": "#E5ECF6",
          "polar": {
           "angularaxis": {
            "gridcolor": "white",
            "linecolor": "white",
            "ticks": ""
           },
           "bgcolor": "#E5ECF6",
           "radialaxis": {
            "gridcolor": "white",
            "linecolor": "white",
            "ticks": ""
           }
          },
          "scene": {
           "xaxis": {
            "backgroundcolor": "#E5ECF6",
            "gridcolor": "white",
            "gridwidth": 2,
            "linecolor": "white",
            "showbackground": true,
            "ticks": "",
            "zerolinecolor": "white"
           },
           "yaxis": {
            "backgroundcolor": "#E5ECF6",
            "gridcolor": "white",
            "gridwidth": 2,
            "linecolor": "white",
            "showbackground": true,
            "ticks": "",
            "zerolinecolor": "white"
           },
           "zaxis": {
            "backgroundcolor": "#E5ECF6",
            "gridcolor": "white",
            "gridwidth": 2,
            "linecolor": "white",
            "showbackground": true,
            "ticks": "",
            "zerolinecolor": "white"
           }
          },
          "shapedefaults": {
           "line": {
            "color": "#2a3f5f"
           }
          },
          "ternary": {
           "aaxis": {
            "gridcolor": "white",
            "linecolor": "white",
            "ticks": ""
           },
           "baxis": {
            "gridcolor": "white",
            "linecolor": "white",
            "ticks": ""
           },
           "bgcolor": "#E5ECF6",
           "caxis": {
            "gridcolor": "white",
            "linecolor": "white",
            "ticks": ""
           }
          },
          "title": {
           "x": 0.05
          },
          "xaxis": {
           "automargin": true,
           "gridcolor": "white",
           "linecolor": "white",
           "ticks": "",
           "title": {
            "standoff": 15
           },
           "zerolinecolor": "white",
           "zerolinewidth": 2
          },
          "yaxis": {
           "automargin": true,
           "gridcolor": "white",
           "linecolor": "white",
           "ticks": "",
           "title": {
            "standoff": 15
           },
           "zerolinecolor": "white",
           "zerolinewidth": 2
          }
         }
        },
        "title": {
         "text": "2D Cluster PCA Plot"
        },
        "xaxis": {
         "anchor": "y",
         "domain": [
          0,
          1
         ],
         "title": {
          "text": "PCA1"
         }
        },
        "yaxis": {
         "anchor": "x",
         "domain": [
          0,
          1
         ],
         "title": {
          "text": "PCA2"
         }
        }
       }
      },
      "text/html": [
       "<div>\n",
       "        \n",
       "        \n",
       "            <div id=\"9686375f-372b-479f-a03d-2ad55a4f090d\" class=\"plotly-graph-div\" style=\"height:600px; width:100%;\"></div>\n",
       "            <script type=\"text/javascript\">\n",
       "                require([\"plotly\"], function(Plotly) {\n",
       "                    window.PLOTLYENV=window.PLOTLYENV || {};\n",
       "                    \n",
       "                if (document.getElementById(\"9686375f-372b-479f-a03d-2ad55a4f090d\")) {\n",
       "                    Plotly.newPlot(\n",
       "                        '9686375f-372b-479f-a03d-2ad55a4f090d',\n",
       "                        [{\"customdata\": [[58], [59], [62], [59], [87], [29], [54], [87], [83], [84], [85], [36], [30], [31], [61], [92], [55], [87], [82], [88], [30], [84], [53], [91], [89], [30], [17], [55], [90], [61], [59], [59], [88], [56], [33], [61], [84], [61], [39], [31], [60], [87], [20], [57], [61], [18], [83], [25], [31], [55], [84], [36], [27], [91], [53], [91], [25], [83], [87], [90], [83], [83], [83], [61], [64], [62], [91], [28], [23], [55], [58], [31], [83], [91], [30], [57], [33], [59], [58], [29], [59], [84], [64], [87], [88], [35], [34], [58], [56], [63], [58], [60], [24], [94], [58], [25], [36], [62], [66], [37], [27], [24], [31], [23], [34], [88], [89], [32], [38], [57], [90], [33], [66], [35], [31], [35], [63], [30], [22], [84], [28], [88], [84], [88], [35], [82], [64], [91], [62], [62], [34], [60], [32], [65], [24], [88], [82], [26], [60], [31], [85], [63], [56], [28], [58], [26], [62]], \"hoverlabel\": {\"namelength\": 0}, \"hovertemplate\": \"Cluster=Cluster 0<br>PCA1=%{x}<br>PCA2=%{y}<br>Feature=%{customdata[0]}\", \"legendgroup\": \"Cluster=Cluster 0\", \"marker\": {\"color\": \"#636efa\", \"opacity\": 0.5, \"symbol\": \"circle\"}, \"mode\": \"markers\", \"name\": \"Cluster=Cluster 0\", \"showlegend\": true, \"textposition\": \"top center\", \"type\": \"scatter\", \"x\": [-45316.58140609572, -54957.490989172424, -50446.68725850566, -50055.78756429364, -44945.69901444308, -48329.3752198635, -47000.17170879298, -47148.049506652664, -48496.847924973124, -53103.84791289739, -47271.4132762422, -58306.89374121142, -46108.56441807319, -44680.893509319314, -45148.06214608798, -57495.82751822286, -42805.17469366237, -48890.162042831726, -49427.5241370262, -47129.84416342068, -47975.62989430377, -40907.25147798816, -36822.88272990113, -46897.28720484192, -45489.1200242187, -46888.405898773824, -51006.62596717186, -59885.18345080095, -51335.69636219811, -42382.69883203629, -43219.57063079803, -46294.69652581516, -49640.516333935986, -33685.82303783506, -41654.28537091678, -47490.05337363714, -46752.17189114916, -45592.66271459654, -47339.947334108336, -48459.578853164734, -41047.376366850374, -42194.798734952485, -41090.43271162372, -47211.30921897948, -39708.646989663546, -37510.588011321226, -56854.24491468416, -57176.86780610614, -56820.087553604324, -55300.43835611656, -53514.36608306832, -54413.15855352482, -49206.072979236276, -56178.67327005185, -44821.27195537102, -46206.76070917295, -48254.00622992496, -41272.895339861854, -55116.83601816846, -58771.330100436266, -51459.5135054635, -28723.991919566055, -37730.76934060824, -50504.82314273778, -39916.59061152698, -45508.35388587774, -48448.18982139348, -43012.769783491465, -57750.75774612399, -49274.442396159386, -53484.99044797628, -39882.0233313831, -60035.35573518639, -46522.91941975125, -63656.347589980236, -42172.091423728205, -43231.47790879885, -55368.98427568018, -48469.758225555845, -51191.18311026804, -53329.08890863802, -42253.8728779583, -58127.503870270106, -42594.24300193304, -48762.36466827127, -48754.55322293154, -49610.67501015978, -28705.212826769864, -47927.75615335333, -49952.56386424763, -56491.726161601524, -45504.92821664394, -43811.47262039395, -63634.722002739654, -42432.64509966234, -40724.15688509671, -39063.286676190975, -53680.72058527798, -50029.0486734845, -42334.04767150641, -42152.50281937882, -42485.19893050845, -49618.56425158398, -42546.309287033895, -39255.47386551352, -52508.303533435814, -48338.70466261939, -49083.98904448355, -53905.33080870677, -52957.61629178105, -45053.501151340235, -45243.335995709866, -53120.5407087459, -49855.36023906125, -56895.33602609473, -38257.01252267876, -55003.11473536301, -47591.225111220076, -52877.381646033435, -38870.672641380406, -41183.652071657176, -52219.78891026333, -57888.98693798624, -51858.952852259834, -48031.60033869842, -46621.67518992095, -51590.97205811309, -52350.136881607745, -44891.726940178225, -33223.78792758698, -51240.79467490217, -41229.08532646796, -51304.42079121027, -44207.36919669012, -48086.471615067894, -57945.29400939387, -47366.64939309721, -48867.334224124825, -39730.754923732035, -57516.2731836365, -52745.27199507392, -55837.89621255916, -40392.52353813583, -44316.390976136594, -47072.83270827887, -40276.44813108962, -45889.16124528402], \"xaxis\": \"x\", \"y\": [72.34189620851785, -1273.0340909671518, -1789.8310613735052, -458.73293797346844, -2663.436303414359, -2106.956548531858, -3258.5927312494305, -948.170032003414, -1255.02312171752, -1838.6646455566597, -1422.2632521531461, -1498.3070625904006, -4704.900718140079, -3320.2381091067414, -918.4435413744576, -874.5938320396237, -2383.9235864924353, -3117.043572435124, -3282.4967836895166, -2166.945526513025, -2697.480649636873, -2247.7230980697595, -3004.135925035733, -1500.5997535503463, -857.2365574199121, -1747.2845158743758, 1229.6342021037997, 968.1821841701764, -2253.3249547903133, -1026.2178281219421, -982.637404545743, -3445.140762666877, -2403.452656500527, -2359.981060852438, -1284.276335232602, -1025.6556377131587, -4260.667936777424, -1858.7415428672748, -2756.210456765216, -623.0248233972353, 163.00860194240587, -2831.2449726497775, -2507.4680378488583, -497.0287321468146, -2812.640832274527, -2385.930673599972, -1039.8869670204494, -500.3822260290351, -2626.494760123042, -2379.445392952535, -3511.6505427575594, -1055.996893175368, 646.5438723752039, -1450.7318688866612, -809.2478504066135, -3972.4372911141977, -3586.392912339362, -2039.0519450914785, -3386.631387427837, -1946.4256348815334, -1443.6312210611668, -1283.249341684221, -3447.522865699353, -2541.1040744024217, -5860.406970913431, -1716.0957515179948, -424.49445160247126, -2388.3975155671874, -1546.7860227984643, -1819.1411133435668, -2964.871161538943, -3145.838811669632, -2067.7852022028565, -2395.150620327911, -672.1303645870984, -3482.9509244203145, -2464.3665067293477, -990.6075970316537, -975.0110199269371, -2999.048136853006, -3704.115203066883, -2813.4088657561033, -3329.42415575039, -4573.1359496761315, -1902.303752571812, -3476.7575329414076, -2494.3460158547696, -2125.5165732968335, 1139.0677249894084, -1016.3628176053357, -1529.9495201383827, -1656.425055816305, -3844.0506429942843, -958.5365645110758, -2804.3175987818177, -3403.3549980948796, -2178.9512608782675, -1523.1531827794759, -2907.7981801354913, -946.4427010468276, -3595.426499455155, -1573.1293339464696, -1200.498708574701, -2323.9550250667417, -2456.062469507206, -2003.379558614893, -296.9479102201368, -2706.954245859542, 776.7213551828818, -512.1681616652361, -3267.853088065968, -2386.7446703879705, -2373.9068521136155, -2551.6409458673006, -219.83567344032053, -3209.705699855123, -1806.3716349634756, -2876.0168218541626, -1034.0462861180686, -4966.632983631632, -2299.177576458252, -361.82287722905966, -2297.410428456015, -1998.314514884126, -2520.879670925899, -1061.3928297006282, -1709.6809922654031, -1271.8366968001824, -1059.5099705589173, -4327.5998004040275, -337.5831102994585, -559.8887343311568, -1341.6421504993375, -1788.5950192551393, -3267.6645334787445, -1690.2235244245405, -2226.523883594685, -3330.0950893142635, -3215.3117531036196, -2662.2379174130574, -3270.2500120301265, -2913.1513261933924, -1918.0706539765367, -1681.1078093986155, -3652.1430220775055, -3159.4030652887395, -3656.860040523122], \"yaxis\": \"y\"}, {\"customdata\": [[86], [56], [91], [59], [28], [85], [65], [94], [86], [30], [62], [85], [59], [30], [83], [66], [31], [88], [28], [85], [64], [33], [62], [89], [61], [29], [56], [92], [62], [60], [85], [88], [94], [62], [64], [29], [27], [31], [87], [32], [63], [58], [62], [32], [93], [59], [61], [53], [82], [28], [32], [89], [84], [87], [29], [58], [29], [55], [25], [60], [88], [24], [56], [95], [89], [86], [85], [60], [87], [29], [23], [31]], \"hoverlabel\": {\"namelength\": 0}, \"hovertemplate\": \"Cluster=Cluster 1<br>PCA1=%{x}<br>PCA2=%{y}<br>Feature=%{customdata[0]}\", \"legendgroup\": \"Cluster=Cluster 1\", \"marker\": {\"color\": \"#EF553B\", \"opacity\": 0.5, \"symbol\": \"circle\"}, \"mode\": \"markers\", \"name\": \"Cluster=Cluster 1\", \"showlegend\": true, \"textposition\": \"top center\", \"type\": \"scatter\", \"x\": [62912.4570978058, 43629.01273923759, 59239.85352839823, 48281.964764022, 53899.23405997969, 59803.04557919312, 47415.389162405416, 53976.79000263139, 55587.35173073369, 48577.245944563736, 47549.76254622715, 47842.883679066596, 53422.55248570134, 56651.455483747566, 48410.00929047235, 56449.678138281495, 41580.27174463825, 42157.80542870103, 57857.2890569224, 58984.550274967354, 53924.59703955887, 66750.62108457668, 59196.593086339206, 47182.06858155585, 42045.79570257143, 55809.6082599399, 55168.451545061995, 44952.90203538899, 42414.139844093974, 46993.64108790844, 43861.747091025536, 43084.43130106841, 59798.17482849982, 63317.06653244304, 43600.21618030983, 54778.91990969155, 44074.744322679544, 52844.214540832174, 51532.4700584046, 54542.56026091139, 47836.44839182693, 47210.61128412969, 48551.89779119273, 61085.16181542701, 48029.23598296099, 51395.224355999606, 47518.881318568005, 46000.802484699634, 41859.15436997563, 45302.570904167515, 52465.03358666001, 45728.40114434421, 48697.328544410055, 52086.380658927315, 47964.55226138697, 52679.13742245064, 50397.083897731434, 50433.851384533395, 55795.99791496406, 49923.23240258641, 48602.5711118403, 54230.311420476704, 52263.49410874456, 45049.713037748574, 50874.593733151894, 46271.749990668206, 41328.25266331004, 55783.42885801502, 45280.29645748772, 61617.256021857334, 41933.87634909218, 45920.30384600765], \"xaxis\": \"x\", \"y\": [5261.355213266389, -6254.840941209131, 4745.144589124807, 8499.966944599808, 3176.74688540909, 8450.307562492613, 4709.388807631826, 5488.389984582108, 3427.1351952588097, -6305.307759672736, 3437.89648239478, 4758.188729714915, 3894.2354791277476, 4271.292185091135, -5693.6654411574555, 5101.398697367522, -5615.560772408647, -5954.45460185115, 5717.501137167641, 3350.711617933646, 5765.842845736466, 2693.0081866217497, 3903.9749268153687, -4557.7166017918835, -3106.103475868364, 3879.1497332626573, 4016.981622201614, -4985.514801220404, -5432.28181950965, -4647.129088588657, -6877.035883382073, -4660.855622444516, 4315.7517925590655, 4946.1775101205085, -5657.47883152001, 4629.791365281097, -6307.66914062598, -5677.667475551917, 6006.733833662532, 4193.882999372307, 6059.9833233745485, 6674.234677495918, 4668.214697412173, 4243.721728508765, 5422.323757682563, 5657.241494980817, 4941.999362973272, 3884.4528513190835, -4543.326267067202, 3778.181421309609, 3371.533065013097, 3658.30650125222, 5282.497809754309, 3388.4270346813737, -4397.186114919684, -4749.057025715371, 2890.550968564704, -6854.206134077963, 4252.897540706996, 6048.724079227707, 6249.537360930084, 3238.4287703236846, 5916.3580541298315, 4590.8725834561055, -5178.05281344008, 4207.414796612182, -4823.645899335599, 4732.087714707707, 4437.35656616774, 6726.313750520612, 4717.997205237609, -4953.921129423367], \"yaxis\": \"y\"}, {\"customdata\": [[89], [58], [56], [37], [89], [29], [23], [34], [64], [63], [85], [62], [59], [92], [67], [58], [58], [38], [57], [31], [36], [25], [66], [64], [59], [90], [68], [35], [84], [24], [29], [28], [81], [57], [37], [91], [82], [36], [31], [61], [64], [83], [63], [55], [86], [57], [94], [37], [26], [57], [37], [88], [61], [91], [84], [43], [59], [90], [88], [59], [59], [88], [37], [33], [90], [31], [90], [91], [29], [83], [84], [87], [22], [58], [31], [33], [56], [30], [85], [87], [34], [61], [30], [88], [56], [30], [25], [61], [88], [37], [35], [85], [85], [88], [59], [90], [33], [62], [59], [91], [33], [87], [26], [88], [24], [91], [86], [36], [87], [33], [59], [29], [59], [57], [40], [42], [89], [93], [17], [24], [34], [90], [20], [92], [84], [59], [61], [67], [82], [94], [28], [36], [91], [34], [77], [63], [35], [21], [86], [56], [83], [28], [59], [83], [83], [58], [91], [29], [61], [84], [34], [33], [55], [88], [91], [91]], \"hoverlabel\": {\"namelength\": 0}, \"hovertemplate\": \"Cluster=Cluster 2<br>PCA1=%{x}<br>PCA2=%{y}<br>Feature=%{customdata[0]}\", \"legendgroup\": \"Cluster=Cluster 2\", \"marker\": {\"color\": \"#00cc96\", \"opacity\": 0.5, \"symbol\": \"circle\"}, \"mode\": \"markers\", \"name\": \"Cluster=Cluster 2\", \"showlegend\": true, \"textposition\": \"top center\", \"type\": \"scatter\", \"x\": [-4883.720561797816, -6075.723945911878, -3222.0284971176493, 7034.566991846883, 1855.0479869186872, -967.1345292294807, -12402.61400603575, -18832.323089995116, 3607.6218475354526, -7793.454352086529, -3147.9716901023985, -811.2733012583031, 2868.6753358918168, -3127.7464754071825, -10419.65072709328, 3333.0370081988954, 834.6063416853576, 3574.8676282851384, -6270.130057704644, 375.61202524741856, -7981.746810683446, 3735.2223001205516, -4588.8456828873295, 4615.604589783904, -7793.211508914166, -805.5182840466936, -1424.2968527852481, 5122.282562298926, -4661.643199436448, -6586.37501559635, -9270.983246113978, -1864.594059061442, -11770.096221904701, -7431.169946592951, 7017.4072298069605, -3197.7706749317103, 4968.764645874579, -6214.354917756376, 1547.9124395594301, -4794.730185972465, -5787.584457334292, -9600.009525716903, 5679.935032255563, 2663.8141427242635, -5898.744479681155, -7827.504392605752, -9176.939917160451, -1755.3663563989899, -7225.65665149656, 5619.125538763636, -2220.635450610066, -10371.487057071721, -1709.0067116984387, -9823.29297141866, -4114.6658125026715, -5149.414552966315, -6051.798027149638, 2555.7842351602194, 5567.478117111814, -1710.0091006297748, -2630.794135208183, 1381.2925438039001, -10238.837928743043, -2329.6167597527674, -3536.6248996188688, -11570.0136294723, -12594.17524212854, -3881.2792235448337, -9447.566957019668, -4595.725467462928, 277.3194547180395, 9121.208329826191, 499.4966180961377, -4176.722631704312, -6529.597912750259, -7423.928769536233, 3385.822049131326, -5414.849621380299, 11039.02694203172, -5806.077052611822, -10072.875118803538, 3175.7301008876843, -5327.512619806886, -6874.447300583787, -6945.490220855904, 1198.2155272857278, 7325.256189492701, -7249.028129796933, 4864.683651413004, -9153.992100917847, -5628.983771409215, -8175.944783841659, 4848.442764387989, 10499.40729594559, 6644.597612798241, -611.8920766835461, -879.6961231840174, 1270.592618636517, -3354.4093954920545, -3652.051627219518, 1535.3200349238723, 3442.067865401052, 1691.146999005505, -9514.742122293774, -5495.930030665687, -11393.264281389047, -1006.7942808926932, -11385.807297750893, -5228.773548143101, 106.4473078300019, -2009.7086141751718, 11129.424149229624, -4333.353171495315, 13091.374153516696, -860.4354477953826, 1797.8692846207573, -2601.8696283459453, -4972.92214112997, 4241.775895153055, -4197.995995572506, -5414.451723823098, -14757.626854505625, -6112.7019668389385, -13124.391604038414, -847.3002227743357, -907.6690876091155, -3902.6507601274056, -1148.5927138363118, -284.93461613174594, 1223.3332842063587, -4025.5345868614954, -9955.599000501976, 5073.4873565223525, 2456.114942910887, -5713.304475031719, -10817.514881421745, -18377.080919160908, -182.87509706289768, -3578.6411667637367, -12401.01261442264, 384.48865377879036, -9604.976101231407, -4335.1212236682495, -4856.160277619082, -15876.014194933887, 3594.042421690836, -1254.796105082274, -7927.279393999565, 2392.9514000132376, 871.0561448640489, 1380.909585482264, -5506.504775277301, 8122.080380415554, -7740.904879089727, -15159.901916245684, -1867.5011952055163], \"xaxis\": \"x\", \"y\": [4688.370746949259, 3500.596454313254, 4129.1811894163575, 3374.2871342934277, 5468.743274286698, 4638.724240674152, 4277.420432790429, 6823.253328040569, 4852.444518767339, 5788.853893383749, 5506.996622913862, 4771.515153180694, 5223.642330390358, 5318.281993622227, 5982.858221439133, 4012.215493342317, 5141.101367432592, 6638.189488143048, 5401.821696967169, 5049.606296947776, 3467.56597491142, 4370.467828822719, 4468.268102563843, 5713.442041909505, 6334.243251982049, 4348.095679784138, 7267.3285423970065, 3424.0736039052886, 4875.412034392043, 4795.6596223075985, 5996.549152653396, 5267.3525532097765, 5001.4207831968515, 6342.036901878028, 5588.800602998205, 5127.949261280456, 3943.117073633913, 8154.20053386381, 3973.9069974865133, 5174.470545977295, 5711.628393266971, 4923.2816033552235, 4711.285967238692, 3399.120354730323, 5205.84015421388, 5701.697575023514, 7146.66285825278, 4273.205301847635, 4564.617621855317, 4314.80390898497, 4177.140129281851, 6211.274488459201, 3684.695295940359, 6862.24757208061, 3078.8964384945934, 5556.666139133821, 6221.6834539400215, 5164.690387393576, 6399.679457928579, 5692.091704359401, 5512.809888472101, 5207.22109750901, 7423.315368546437, 6502.207882775594, 5070.4130984363255, 6393.584927460238, 5058.593507665868, 3532.750801645637, 6026.370137728773, 4575.315245883316, 5152.077722121316, 4076.188863858498, 4450.572465085802, 5121.948177991021, 5174.060016070753, 5595.425208078432, 4513.159427781258, 4509.378948047732, 4384.68728953157, 5686.1323499518085, 7033.832306225476, 4727.079813055349, 5507.674538617935, 3266.47018326438, 5240.283697626607, 6031.59778009812, 5245.750156657963, 5030.101509904846, 4834.9539918658875, 6237.4550067498, 3413.4609900340342, 5599.274828311295, 6716.38927008233, 4092.5868105824957, 6074.108821940041, 2642.85646287331, 4574.029852480233, 4918.861099714737, 4039.049708218608, 4298.147934215798, 6617.143404468859, 3293.9257098257863, 4305.60551337014, 5484.062210130751, 5033.927181148625, 4760.726683836123, 6827.73675228087, 5239.834486252132, 4906.82136911701, 5019.545071865861, 4571.311601888515, 2451.395645635492, 6791.121727987132, 3878.074005604353, 1366.21750619139, 3616.9066222648635, 5720.0639106318495, 5053.974394482308, 4854.373611538008, 4646.423038232096, 6401.496850378558, 5008.012103778608, 7150.26568620421, 5122.298575466135, 5435.293808150466, 4662.571801362162, 5499.339332721767, 6154.518606181516, 4064.0083360808107, 5666.367954752702, 5644.552199614272, 4085.312250446122, 5244.436809348918, 5539.978254276126, 6098.407171499211, 6677.482101590939, 5086.374324713106, 4411.3243537762855, 4687.331305792246, 6731.6223712281435, 6845.141814371279, 5517.456998799794, 2658.297518890414, 6861.84171058151, 7337.4625843307695, 5244.223767536206, 6380.9154942927935, 5673.527728610805, 5992.68409410971, 5689.000453091912, 5567.112673818733, 6298.430178867736, 4731.012058760929, 5133.63947168739, 5573.24359276873, 2685.662685436796], \"yaxis\": \"y\"}, {\"customdata\": [[84], [87], [39], [38], [89], [59], [35], [59], [87], [94], [86], [60], [79], [86], [60], [85], [92], [37], [89], [67], [31], [20], [37], [57], [87], [33], [56], [67], [58], [89], [34], [25], [44], [68], [31], [58], [55], [21], [36], [88], [26], [29], [38], [79], [51], [82], [39], [87], [36], [57], [61], [86], [86], [35], [89], [30], [60], [64], [37], [65], [90], [59], [29], [58], [88], [63], [92], [17], [34], [22], [24], [36], [34], [87], [85], [61], [27], [59], [31], [31], [93], [17], [35], [28], [94], [28], [33], [56], [28], [86], [92], [18], [61], [32], [63], [58], [31], [62], [60], [62], [90], [33], [33], [65], [59], [65], [86], [32], [84], [84], [90], [91], [26], [92], [97], [84], [58], [61], [92], [87], [66], [22], [91], [30], [25], [28], [93], [90], [91], [89]], \"hoverlabel\": {\"namelength\": 0}, \"hovertemplate\": \"Cluster=Cluster 3<br>PCA1=%{x}<br>PCA2=%{y}<br>Feature=%{customdata[0]}\", \"legendgroup\": \"Cluster=Cluster 3\", \"marker\": {\"color\": \"#ab63fa\", \"opacity\": 0.5, \"symbol\": \"circle\"}, \"mode\": \"markers\", \"name\": \"Cluster=Cluster 3\", \"showlegend\": true, \"textposition\": \"top center\", \"type\": \"scatter\", \"x\": [30949.63690199798, 31614.442565419136, 24294.808478346375, 23967.00608797566, 32345.70842870064, 32322.90855312252, 22258.608668569934, 35579.20581580634, 26298.148410246762, 22105.03459107828, 20592.346613007798, 38543.62512292873, 26507.042872359947, 28639.385002450545, 22224.556143435322, 33345.15627123124, 23196.213306438265, 28912.895136199986, 28627.25985640035, 21900.785300032792, 41298.63129283512, 30268.705481263336, 25474.402763797323, 18943.372817813055, 38847.169767760824, 39135.37622313012, 30148.682673916126, 31911.00123936639, 15764.49143141586, 25328.069962281716, 32572.750272366236, 25376.693266073198, 37228.734745200745, 32912.892063315885, 24706.128352845186, 35758.27543553674, 31361.085267799186, 31045.220255678825, 24491.38889864477, 32416.939873895597, 30584.12461511328, 25732.344972190596, 25363.919226720453, 32289.540207166698, 22350.769816321597, 32797.643669354984, 31202.41268247612, 25765.790042328405, 30806.77634195283, 30046.489080926105, 22393.417730180165, 19017.169464917533, 32307.93672914099, 40849.48059769069, 24827.97878054601, 34360.481807350625, 35187.9105346847, 40419.57669510422, 20486.140695945483, 32561.02536006334, 23858.59824002346, 23748.677815454088, 23032.680124651302, 32149.921292682928, 26228.37628643624, 35572.71538685361, 23470.847033328053, 30614.165778553604, 39941.23737509613, 30155.334159637023, 15177.319714667701, 40673.85964432752, 36260.39985707393, 37939.717008912405, 26983.04636427824, 34834.90179466002, 35036.71585548726, 26023.566351406193, 33379.42058468916, 29861.546669621497, 30836.978307627473, 39513.273555432446, 27412.691405421272, 31253.468530449452, 19785.99439327471, 35711.07999432951, 23392.942046850632, 14006.000965365427, 30950.101839682433, 26312.372968927575, 36008.72535912236, 37194.90227907425, 38869.64945267174, 32210.979768642454, 31960.754514207303, 33203.84256888808, 26578.153196266227, 36813.767134204005, 28960.634964946814, 23896.368807904128, 19295.2676868096, 28681.549887585796, 39399.40138181154, 34753.14848573086, 34060.87750047388, 23022.218263126684, 31016.95277066792, 34830.86603735363, 32691.86956168578, 24819.360949497783, 26003.522431925656, 29210.55694643973, 33217.92661094815, 31330.343984524825, 32853.06228369531, 34815.254920538115, 27758.387575808243, 29240.509748648146, 26343.6786739025, 35023.21627080034, 21973.30795044386, 31502.360342968266, 16918.67620110016, 24613.751980326157, 31317.298064553746, 27456.91326667315, 22236.16947437232, 38938.118138714395, 26071.981181359286, 25938.05049675628], \"xaxis\": \"x\", \"y\": [-4397.197322284793, -3948.4131537015073, -3156.174867738152, -5918.696393593378, -2201.720436215356, -3681.2903856818034, -5195.925409188556, -6195.2565154027325, -5023.038755192274, -4346.18774155061, -4611.587648361574, -7198.063753004442, -5484.6746561210975, -3130.9505393461045, -5737.014216399172, -6080.299826048203, -5613.71494647387, -5224.554435670844, -3324.8164217780172, -5234.914435436247, -6422.065006311353, -4917.675594824387, -4541.161711915865, -6099.926511675161, -8209.639308093878, -4339.7070164257575, -3727.6412226852462, -2672.911296966154, -2149.152212076624, -4507.818852759072, -6711.0058147720265, -3922.329207394542, -4575.537648425254, -4588.664684244313, -6304.286871577944, -4122.472097486014, -4837.589604607754, -4354.880673536975, -3378.54409054787, -3316.8737845198507, -5198.651743783722, -4846.2800097461195, -6518.877743618626, -3634.3413606407403, -5405.192380070513, -5654.54684838932, -4006.880782404125, -4647.515091833699, -5560.204679600004, -2733.1094851712655, -5150.746928288214, -4587.0566004039965, -3401.081521768778, -5591.430862352509, -5088.608312301611, -5038.816440742179, -4164.858385743974, -6642.2336402639485, -4804.203700356801, -5658.529147335399, -4857.997302514553, -4085.387888540779, -5461.179044520955, -5508.945169399095, -4266.484164687802, -4807.665202226777, -4720.248925408389, -4762.4349126193365, -5237.495032301008, -6491.845916302066, 4253.670268811263, -5771.827716588531, -3890.344796261257, -4683.440281859754, -2897.418110778121, -5079.540930731752, -6415.6995362262505, -7172.334785619937, -4139.053044046941, -4210.491742797325, -4248.41099877993, -4805.682520520945, -5970.659605817781, -4792.820172444664, -4699.391527469764, -4543.481105344736, -5117.926369906293, -1775.6050399833523, -6274.399407676458, -4286.405360287333, -6111.7051713952615, -4030.486076235752, -4117.836047019015, -5806.362366658899, -7950.13767990454, -6552.893169384947, -4542.181472406771, -4615.462129870631, -5439.90238179201, -4653.572550884042, -3266.6501002799137, -4194.11245457707, -5202.090344164469, -4008.5890127539024, -5075.6783511490075, -4439.122859420633, -4865.00440731728, -5377.229021116217, -6066.4571229345775, -6443.116567478202, -3786.1336424715305, -6286.356908964105, -4387.404636496325, -5635.163544619187, -5910.595724540105, -5108.281670571715, -3524.6018820414947, -5240.709879901143, -3863.0068749343077, -4416.57727325612, -5227.97230615995, -5081.205331963824, -2877.1946078768774, -3288.4642893518353, -6141.763263553497, -4868.312164441829, -4400.042331000773, -4443.169815276389, -4687.764619495449, -4054.2528418970855], \"yaxis\": \"y\"}],\n",
       "                        {\"height\": 600, \"legend\": {\"tracegroupgap\": 0}, \"margin\": {\"t\": 60}, \"plot_bgcolor\": \"rgb(240,240,240)\", \"template\": {\"data\": {\"bar\": [{\"error_x\": {\"color\": \"#2a3f5f\"}, \"error_y\": {\"color\": \"#2a3f5f\"}, \"marker\": {\"line\": {\"color\": \"#E5ECF6\", \"width\": 0.5}}, \"type\": \"bar\"}], \"barpolar\": [{\"marker\": {\"line\": {\"color\": \"#E5ECF6\", \"width\": 0.5}}, \"type\": \"barpolar\"}], \"carpet\": [{\"aaxis\": {\"endlinecolor\": \"#2a3f5f\", \"gridcolor\": \"white\", \"linecolor\": \"white\", \"minorgridcolor\": \"white\", \"startlinecolor\": \"#2a3f5f\"}, \"baxis\": {\"endlinecolor\": \"#2a3f5f\", \"gridcolor\": \"white\", \"linecolor\": \"white\", \"minorgridcolor\": \"white\", \"startlinecolor\": \"#2a3f5f\"}, \"type\": \"carpet\"}], \"choropleth\": [{\"colorbar\": {\"outlinewidth\": 0, \"ticks\": \"\"}, \"type\": \"choropleth\"}], \"contour\": [{\"colorbar\": {\"outlinewidth\": 0, \"ticks\": \"\"}, \"colorscale\": [[0.0, \"#0d0887\"], [0.1111111111111111, \"#46039f\"], [0.2222222222222222, \"#7201a8\"], [0.3333333333333333, \"#9c179e\"], [0.4444444444444444, \"#bd3786\"], [0.5555555555555556, \"#d8576b\"], [0.6666666666666666, \"#ed7953\"], [0.7777777777777778, \"#fb9f3a\"], [0.8888888888888888, \"#fdca26\"], [1.0, \"#f0f921\"]], \"type\": \"contour\"}], \"contourcarpet\": [{\"colorbar\": {\"outlinewidth\": 0, \"ticks\": \"\"}, \"type\": \"contourcarpet\"}], \"heatmap\": [{\"colorbar\": {\"outlinewidth\": 0, \"ticks\": \"\"}, \"colorscale\": [[0.0, \"#0d0887\"], [0.1111111111111111, \"#46039f\"], [0.2222222222222222, \"#7201a8\"], [0.3333333333333333, \"#9c179e\"], [0.4444444444444444, \"#bd3786\"], [0.5555555555555556, \"#d8576b\"], [0.6666666666666666, \"#ed7953\"], [0.7777777777777778, \"#fb9f3a\"], [0.8888888888888888, \"#fdca26\"], [1.0, \"#f0f921\"]], \"type\": \"heatmap\"}], \"heatmapgl\": [{\"colorbar\": {\"outlinewidth\": 0, \"ticks\": \"\"}, \"colorscale\": [[0.0, \"#0d0887\"], [0.1111111111111111, \"#46039f\"], [0.2222222222222222, \"#7201a8\"], [0.3333333333333333, \"#9c179e\"], [0.4444444444444444, \"#bd3786\"], [0.5555555555555556, \"#d8576b\"], [0.6666666666666666, \"#ed7953\"], [0.7777777777777778, \"#fb9f3a\"], [0.8888888888888888, \"#fdca26\"], [1.0, \"#f0f921\"]], \"type\": \"heatmapgl\"}], \"histogram\": [{\"marker\": {\"colorbar\": {\"outlinewidth\": 0, \"ticks\": \"\"}}, \"type\": \"histogram\"}], \"histogram2d\": [{\"colorbar\": {\"outlinewidth\": 0, \"ticks\": \"\"}, \"colorscale\": [[0.0, \"#0d0887\"], [0.1111111111111111, \"#46039f\"], [0.2222222222222222, \"#7201a8\"], [0.3333333333333333, \"#9c179e\"], [0.4444444444444444, \"#bd3786\"], [0.5555555555555556, \"#d8576b\"], [0.6666666666666666, \"#ed7953\"], [0.7777777777777778, \"#fb9f3a\"], [0.8888888888888888, \"#fdca26\"], [1.0, \"#f0f921\"]], \"type\": \"histogram2d\"}], \"histogram2dcontour\": [{\"colorbar\": {\"outlinewidth\": 0, \"ticks\": \"\"}, \"colorscale\": [[0.0, \"#0d0887\"], [0.1111111111111111, \"#46039f\"], [0.2222222222222222, \"#7201a8\"], [0.3333333333333333, \"#9c179e\"], [0.4444444444444444, \"#bd3786\"], [0.5555555555555556, \"#d8576b\"], [0.6666666666666666, \"#ed7953\"], [0.7777777777777778, \"#fb9f3a\"], [0.8888888888888888, \"#fdca26\"], [1.0, \"#f0f921\"]], \"type\": \"histogram2dcontour\"}], \"mesh3d\": [{\"colorbar\": {\"outlinewidth\": 0, \"ticks\": \"\"}, \"type\": \"mesh3d\"}], \"parcoords\": [{\"line\": {\"colorbar\": {\"outlinewidth\": 0, \"ticks\": \"\"}}, \"type\": \"parcoords\"}], \"pie\": [{\"automargin\": true, \"type\": \"pie\"}], \"scatter\": [{\"marker\": {\"colorbar\": {\"outlinewidth\": 0, \"ticks\": \"\"}}, \"type\": \"scatter\"}], \"scatter3d\": [{\"line\": {\"colorbar\": {\"outlinewidth\": 0, \"ticks\": \"\"}}, \"marker\": {\"colorbar\": {\"outlinewidth\": 0, \"ticks\": \"\"}}, \"type\": \"scatter3d\"}], \"scattercarpet\": [{\"marker\": {\"colorbar\": {\"outlinewidth\": 0, \"ticks\": \"\"}}, \"type\": \"scattercarpet\"}], \"scattergeo\": [{\"marker\": {\"colorbar\": {\"outlinewidth\": 0, \"ticks\": \"\"}}, \"type\": \"scattergeo\"}], \"scattergl\": [{\"marker\": {\"colorbar\": {\"outlinewidth\": 0, \"ticks\": \"\"}}, \"type\": \"scattergl\"}], \"scattermapbox\": [{\"marker\": {\"colorbar\": {\"outlinewidth\": 0, \"ticks\": \"\"}}, \"type\": \"scattermapbox\"}], \"scatterpolar\": [{\"marker\": {\"colorbar\": {\"outlinewidth\": 0, \"ticks\": \"\"}}, \"type\": \"scatterpolar\"}], \"scatterpolargl\": [{\"marker\": {\"colorbar\": {\"outlinewidth\": 0, \"ticks\": \"\"}}, \"type\": \"scatterpolargl\"}], \"scatterternary\": [{\"marker\": {\"colorbar\": {\"outlinewidth\": 0, \"ticks\": \"\"}}, \"type\": \"scatterternary\"}], \"surface\": [{\"colorbar\": {\"outlinewidth\": 0, \"ticks\": \"\"}, \"colorscale\": [[0.0, \"#0d0887\"], [0.1111111111111111, \"#46039f\"], [0.2222222222222222, \"#7201a8\"], [0.3333333333333333, \"#9c179e\"], [0.4444444444444444, \"#bd3786\"], [0.5555555555555556, \"#d8576b\"], [0.6666666666666666, \"#ed7953\"], [0.7777777777777778, \"#fb9f3a\"], [0.8888888888888888, \"#fdca26\"], [1.0, \"#f0f921\"]], \"type\": \"surface\"}], \"table\": [{\"cells\": {\"fill\": {\"color\": \"#EBF0F8\"}, \"line\": {\"color\": \"white\"}}, \"header\": {\"fill\": {\"color\": \"#C8D4E3\"}, \"line\": {\"color\": \"white\"}}, \"type\": \"table\"}]}, \"layout\": {\"annotationdefaults\": {\"arrowcolor\": \"#2a3f5f\", \"arrowhead\": 0, \"arrowwidth\": 1}, \"coloraxis\": {\"colorbar\": {\"outlinewidth\": 0, \"ticks\": \"\"}}, \"colorscale\": {\"diverging\": [[0, \"#8e0152\"], [0.1, \"#c51b7d\"], [0.2, \"#de77ae\"], [0.3, \"#f1b6da\"], [0.4, \"#fde0ef\"], [0.5, \"#f7f7f7\"], [0.6, \"#e6f5d0\"], [0.7, \"#b8e186\"], [0.8, \"#7fbc41\"], [0.9, \"#4d9221\"], [1, \"#276419\"]], \"sequential\": [[0.0, \"#0d0887\"], [0.1111111111111111, \"#46039f\"], [0.2222222222222222, \"#7201a8\"], [0.3333333333333333, \"#9c179e\"], [0.4444444444444444, \"#bd3786\"], [0.5555555555555556, \"#d8576b\"], [0.6666666666666666, \"#ed7953\"], [0.7777777777777778, \"#fb9f3a\"], [0.8888888888888888, \"#fdca26\"], [1.0, \"#f0f921\"]], \"sequentialminus\": [[0.0, \"#0d0887\"], [0.1111111111111111, \"#46039f\"], [0.2222222222222222, \"#7201a8\"], [0.3333333333333333, \"#9c179e\"], [0.4444444444444444, \"#bd3786\"], [0.5555555555555556, \"#d8576b\"], [0.6666666666666666, \"#ed7953\"], [0.7777777777777778, \"#fb9f3a\"], [0.8888888888888888, \"#fdca26\"], [1.0, \"#f0f921\"]]}, \"colorway\": [\"#636efa\", \"#EF553B\", \"#00cc96\", \"#ab63fa\", \"#FFA15A\", \"#19d3f3\", \"#FF6692\", \"#B6E880\", \"#FF97FF\", \"#FECB52\"], \"font\": {\"color\": \"#2a3f5f\"}, \"geo\": {\"bgcolor\": \"white\", \"lakecolor\": \"white\", \"landcolor\": \"#E5ECF6\", \"showlakes\": true, \"showland\": true, \"subunitcolor\": \"white\"}, \"hoverlabel\": {\"align\": \"left\"}, \"hovermode\": \"closest\", \"mapbox\": {\"style\": \"light\"}, \"paper_bgcolor\": \"white\", \"plot_bgcolor\": \"#E5ECF6\", \"polar\": {\"angularaxis\": {\"gridcolor\": \"white\", \"linecolor\": \"white\", \"ticks\": \"\"}, \"bgcolor\": \"#E5ECF6\", \"radialaxis\": {\"gridcolor\": \"white\", \"linecolor\": \"white\", \"ticks\": \"\"}}, \"scene\": {\"xaxis\": {\"backgroundcolor\": \"#E5ECF6\", \"gridcolor\": \"white\", \"gridwidth\": 2, \"linecolor\": \"white\", \"showbackground\": true, \"ticks\": \"\", \"zerolinecolor\": \"white\"}, \"yaxis\": {\"backgroundcolor\": \"#E5ECF6\", \"gridcolor\": \"white\", \"gridwidth\": 2, \"linecolor\": \"white\", \"showbackground\": true, \"ticks\": \"\", \"zerolinecolor\": \"white\"}, \"zaxis\": {\"backgroundcolor\": \"#E5ECF6\", \"gridcolor\": \"white\", \"gridwidth\": 2, \"linecolor\": \"white\", \"showbackground\": true, \"ticks\": \"\", \"zerolinecolor\": \"white\"}}, \"shapedefaults\": {\"line\": {\"color\": \"#2a3f5f\"}}, \"ternary\": {\"aaxis\": {\"gridcolor\": \"white\", \"linecolor\": \"white\", \"ticks\": \"\"}, \"baxis\": {\"gridcolor\": \"white\", \"linecolor\": \"white\", \"ticks\": \"\"}, \"bgcolor\": \"#E5ECF6\", \"caxis\": {\"gridcolor\": \"white\", \"linecolor\": \"white\", \"ticks\": \"\"}}, \"title\": {\"x\": 0.05}, \"xaxis\": {\"automargin\": true, \"gridcolor\": \"white\", \"linecolor\": \"white\", \"ticks\": \"\", \"title\": {\"standoff\": 15}, \"zerolinecolor\": \"white\", \"zerolinewidth\": 2}, \"yaxis\": {\"automargin\": true, \"gridcolor\": \"white\", \"linecolor\": \"white\", \"ticks\": \"\", \"title\": {\"standoff\": 15}, \"zerolinecolor\": \"white\", \"zerolinewidth\": 2}}}, \"title\": {\"text\": \"2D Cluster PCA Plot\"}, \"xaxis\": {\"anchor\": \"y\", \"domain\": [0.0, 1.0], \"title\": {\"text\": \"PCA1\"}}, \"yaxis\": {\"anchor\": \"x\", \"domain\": [0.0, 1.0], \"title\": {\"text\": \"PCA2\"}}},\n",
       "                        {\"responsive\": true}\n",
       "                    ).then(function(){\n",
       "                            \n",
       "var gd = document.getElementById('9686375f-372b-479f-a03d-2ad55a4f090d');\n",
       "var x = new MutationObserver(function (mutations, observer) {{\n",
       "        var display = window.getComputedStyle(gd).display;\n",
       "        if (!display || display === 'none') {{\n",
       "            console.log([gd, 'removed!']);\n",
       "            Plotly.purge(gd);\n",
       "            observer.disconnect();\n",
       "        }}\n",
       "}});\n",
       "\n",
       "// Listen for the removal of the full notebook cells\n",
       "var notebookContainer = gd.closest('#notebook-container');\n",
       "if (notebookContainer) {{\n",
       "    x.observe(notebookContainer, {childList: true});\n",
       "}}\n",
       "\n",
       "// Listen for the clearing of the current output cell\n",
       "var outputEl = gd.closest('.output');\n",
       "if (outputEl) {{\n",
       "    x.observe(outputEl, {childList: true});\n",
       "}}\n",
       "\n",
       "                        })\n",
       "                };\n",
       "                });\n",
       "            </script>\n",
       "        </div>"
      ]
     },
     "metadata": {},
     "output_type": "display_data"
    }
   ],
   "source": [
    "plot_model(kmeans) "
   ]
  },
  {
   "cell_type": "code",
   "execution_count": null,
   "metadata": {},
   "outputs": [],
   "source": [
    "## Let check with H"
   ]
  }
 ],
 "metadata": {
  "kernelspec": {
   "display_name": "Python 3",
   "language": "python",
   "name": "python3"
  },
  "language_info": {
   "codemirror_mode": {
    "name": "ipython",
    "version": 3
   },
   "file_extension": ".py",
   "mimetype": "text/x-python",
   "name": "python",
   "nbconvert_exporter": "python",
   "pygments_lexer": "ipython3",
   "version": "3.7.8"
  }
 },
 "nbformat": 4,
 "nbformat_minor": 4
}
